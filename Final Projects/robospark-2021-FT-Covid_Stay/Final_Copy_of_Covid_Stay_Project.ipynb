{
  "nbformat": 4,
  "nbformat_minor": 0,
  "metadata": {
    "colab": {
      "name": "Final Copy of Covid-Stay Project.ipynb",
      "provenance": [],
      "collapsed_sections": []
    },
    "kernelspec": {
      "name": "python3",
      "display_name": "Python 3"
    },
    "language_info": {
      "name": "python"
    }
  },
  "cells": [
    {
      "cell_type": "markdown",
      "metadata": {
        "id": "oqrLVt2SzTZM"
      },
      "source": [
        "# End-To-End Covid Stay Project\n",
        "\n",
        "In this project we would have to predict the time span of the patient who is suffering from covid based on certain parameters like:\n",
        "\n",
        "* Hospital_code\n",
        "* Hospital_type_code\n",
        "* city_code_hospital\n",
        "* hospital_region_code\n",
        "* Available_extra_rooms_in_hospital\n",
        "* Department\n",
        "* ward_type\n",
        "* ward_facility_code\n",
        "* Bed_Grade\n",
        "* patient_id\n",
        "..............etc\n"
      ]
    },
    {
      "cell_type": "markdown",
      "metadata": {
        "id": "6ClqwKD4z2Wj"
      },
      "source": [
        "### Importing the data from GitHub"
      ]
    },
    {
      "cell_type": "code",
      "metadata": {
        "colab": {
          "base_uri": "https://localhost:8080/"
        },
        "id": "zl114FhazfxT",
        "outputId": "fa1718a3-7bfb-45ec-fdbb-2f2663095701"
      },
      "source": [
        "!wget https://raw.githubusercontent.com/Adwait01-Bhosale/RoboSpark/master/Covid_Stay_Data.csv"
      ],
      "execution_count": null,
      "outputs": [
        {
          "output_type": "stream",
          "name": "stdout",
          "text": [
            "--2021-10-15 06:44:07--  https://raw.githubusercontent.com/Adwait01-Bhosale/RoboSpark/master/Covid_Stay_Data.csv\n",
            "Resolving raw.githubusercontent.com (raw.githubusercontent.com)... 185.199.110.133, 185.199.108.133, 185.199.111.133, ...\n",
            "Connecting to raw.githubusercontent.com (raw.githubusercontent.com)|185.199.110.133|:443... connected.\n",
            "HTTP request sent, awaiting response... 200 OK\n",
            "Length: 26915586 (26M) [text/plain]\n",
            "Saving to: ‘Covid_Stay_Data.csv’\n",
            "\n",
            "Covid_Stay_Data.csv 100%[===================>]  25.67M  93.0MB/s    in 0.3s    \n",
            "\n",
            "2021-10-15 06:44:09 (93.0 MB/s) - ‘Covid_Stay_Data.csv’ saved [26915586/26915586]\n",
            "\n"
          ]
        }
      ]
    },
    {
      "cell_type": "code",
      "metadata": {
        "id": "xNhkG97OzwhI"
      },
      "source": [
        "# Loading the data using pandas \n",
        "import pandas as pd\n",
        "import random\n",
        "data=pd.read_csv(\"Covid_Stay_Data.csv\")"
      ],
      "execution_count": null,
      "outputs": []
    },
    {
      "cell_type": "code",
      "metadata": {
        "id": "LjBhgsb3z_lV"
      },
      "source": [
        "#  Taking only 8000 rows of dataset\n",
        "data=data.sample(8000)"
      ],
      "execution_count": null,
      "outputs": []
    },
    {
      "cell_type": "code",
      "metadata": {
        "colab": {
          "base_uri": "https://localhost:8080/",
          "height": 360
        },
        "id": "AbEvDc_H0VjU",
        "outputId": "d16c0718-7877-4b47-930b-020251d6fcb6"
      },
      "source": [
        "data.head()"
      ],
      "execution_count": null,
      "outputs": [
        {
          "output_type": "execute_result",
          "data": {
            "text/html": [
              "<div>\n",
              "<style scoped>\n",
              "    .dataframe tbody tr th:only-of-type {\n",
              "        vertical-align: middle;\n",
              "    }\n",
              "\n",
              "    .dataframe tbody tr th {\n",
              "        vertical-align: top;\n",
              "    }\n",
              "\n",
              "    .dataframe thead th {\n",
              "        text-align: right;\n",
              "    }\n",
              "</style>\n",
              "<table border=\"1\" class=\"dataframe\">\n",
              "  <thead>\n",
              "    <tr style=\"text-align: right;\">\n",
              "      <th></th>\n",
              "      <th>case_id</th>\n",
              "      <th>Hospital_code</th>\n",
              "      <th>Hospital_type_code</th>\n",
              "      <th>City_Code_Hospital</th>\n",
              "      <th>Hospital_region_code</th>\n",
              "      <th>Available Extra Rooms in Hospital</th>\n",
              "      <th>Department</th>\n",
              "      <th>Ward_Type</th>\n",
              "      <th>Ward_Facility_Code</th>\n",
              "      <th>Bed Grade</th>\n",
              "      <th>patientid</th>\n",
              "      <th>City_Code_Patient</th>\n",
              "      <th>Type of Admission</th>\n",
              "      <th>Severity of Illness</th>\n",
              "      <th>Visitors with Patient</th>\n",
              "      <th>Age</th>\n",
              "      <th>Admission_Deposit</th>\n",
              "      <th>Stay</th>\n",
              "    </tr>\n",
              "  </thead>\n",
              "  <tbody>\n",
              "    <tr>\n",
              "      <th>233291</th>\n",
              "      <td>233292</td>\n",
              "      <td>28</td>\n",
              "      <td>b</td>\n",
              "      <td>11</td>\n",
              "      <td>X</td>\n",
              "      <td>3</td>\n",
              "      <td>gynecology</td>\n",
              "      <td>R</td>\n",
              "      <td>F</td>\n",
              "      <td>3.0</td>\n",
              "      <td>30818</td>\n",
              "      <td>1.0</td>\n",
              "      <td>Emergency</td>\n",
              "      <td>Moderate</td>\n",
              "      <td>2</td>\n",
              "      <td>61-70</td>\n",
              "      <td>5342.0</td>\n",
              "      <td>11-20</td>\n",
              "    </tr>\n",
              "    <tr>\n",
              "      <th>13834</th>\n",
              "      <td>13835</td>\n",
              "      <td>6</td>\n",
              "      <td>a</td>\n",
              "      <td>6</td>\n",
              "      <td>X</td>\n",
              "      <td>6</td>\n",
              "      <td>anesthesia</td>\n",
              "      <td>Q</td>\n",
              "      <td>F</td>\n",
              "      <td>3.0</td>\n",
              "      <td>60047</td>\n",
              "      <td>2.0</td>\n",
              "      <td>Emergency</td>\n",
              "      <td>Extreme</td>\n",
              "      <td>4</td>\n",
              "      <td>31-40</td>\n",
              "      <td>3679.0</td>\n",
              "      <td>11-20</td>\n",
              "    </tr>\n",
              "    <tr>\n",
              "      <th>289527</th>\n",
              "      <td>289528</td>\n",
              "      <td>23</td>\n",
              "      <td>a</td>\n",
              "      <td>6</td>\n",
              "      <td>X</td>\n",
              "      <td>2</td>\n",
              "      <td>gynecology</td>\n",
              "      <td>R</td>\n",
              "      <td>F</td>\n",
              "      <td>4.0</td>\n",
              "      <td>20569</td>\n",
              "      <td>25.0</td>\n",
              "      <td>Urgent</td>\n",
              "      <td>Minor</td>\n",
              "      <td>3</td>\n",
              "      <td>61-70</td>\n",
              "      <td>4728.0</td>\n",
              "      <td>21-30</td>\n",
              "    </tr>\n",
              "    <tr>\n",
              "      <th>149125</th>\n",
              "      <td>149126</td>\n",
              "      <td>2</td>\n",
              "      <td>c</td>\n",
              "      <td>5</td>\n",
              "      <td>Z</td>\n",
              "      <td>2</td>\n",
              "      <td>gynecology</td>\n",
              "      <td>Q</td>\n",
              "      <td>F</td>\n",
              "      <td>4.0</td>\n",
              "      <td>858</td>\n",
              "      <td>2.0</td>\n",
              "      <td>Urgent</td>\n",
              "      <td>Moderate</td>\n",
              "      <td>3</td>\n",
              "      <td>31-40</td>\n",
              "      <td>5263.0</td>\n",
              "      <td>11-20</td>\n",
              "    </tr>\n",
              "    <tr>\n",
              "      <th>231378</th>\n",
              "      <td>231379</td>\n",
              "      <td>6</td>\n",
              "      <td>a</td>\n",
              "      <td>6</td>\n",
              "      <td>X</td>\n",
              "      <td>4</td>\n",
              "      <td>gynecology</td>\n",
              "      <td>Q</td>\n",
              "      <td>F</td>\n",
              "      <td>3.0</td>\n",
              "      <td>23462</td>\n",
              "      <td>2.0</td>\n",
              "      <td>Emergency</td>\n",
              "      <td>Moderate</td>\n",
              "      <td>3</td>\n",
              "      <td>0-10</td>\n",
              "      <td>3931.0</td>\n",
              "      <td>11-20</td>\n",
              "    </tr>\n",
              "  </tbody>\n",
              "</table>\n",
              "</div>"
            ],
            "text/plain": [
              "        case_id  Hospital_code  ... Admission_Deposit   Stay\n",
              "233291   233292             28  ...            5342.0  11-20\n",
              "13834     13835              6  ...            3679.0  11-20\n",
              "289527   289528             23  ...            4728.0  21-30\n",
              "149125   149126              2  ...            5263.0  11-20\n",
              "231378   231379              6  ...            3931.0  11-20\n",
              "\n",
              "[5 rows x 18 columns]"
            ]
          },
          "metadata": {},
          "execution_count": 4
        }
      ]
    },
    {
      "cell_type": "code",
      "metadata": {
        "id": "jK0FKs2H5vrX"
      },
      "source": [
        "# Renaming all the columns to avoid errors of column name \n",
        "data.rename(columns = {'Bed Grade' : 'Bed_Grade', 'Available Extra Rooms in Hospital' : 'Available_Extra_Rooms_in_Hospital','Type of Admission':'Type_of_Admission','Severity of Illness':'Severity_of_Illness','Visitors with Patient':'Visitors_with_Patient'},inplace=True)"
      ],
      "execution_count": null,
      "outputs": []
    },
    {
      "cell_type": "markdown",
      "metadata": {
        "id": "lhwifl_n0YjN"
      },
      "source": [
        "## Dropping Few Unnecessary Columns"
      ]
    },
    {
      "cell_type": "code",
      "metadata": {
        "id": "vQ0ATWuq08O2"
      },
      "source": [
        "data.drop('case_id',axis=1,inplace=True)"
      ],
      "execution_count": null,
      "outputs": []
    },
    {
      "cell_type": "code",
      "metadata": {
        "id": "2s9fS4w_KRkP"
      },
      "source": [
        "data.drop('patientid',axis=1,inplace=True)"
      ],
      "execution_count": null,
      "outputs": []
    },
    {
      "cell_type": "code",
      "metadata": {
        "colab": {
          "base_uri": "https://localhost:8080/"
        },
        "id": "MBvV3chzLbXF",
        "outputId": "4dddf8eb-21be-4fe9-c787-98ae8095c7d3"
      },
      "source": [
        "data['Hospital_code'].unique()"
      ],
      "execution_count": null,
      "outputs": [
        {
          "output_type": "execute_result",
          "data": {
            "text/plain": [
              "array([28,  6, 23,  2, 12, 21, 32, 11, 29, 26, 25,  3, 19,  5, 14, 13,  8,\n",
              "       10, 24, 17, 15,  9, 22,  1,  7, 20, 30, 18, 27, 31, 16,  4])"
            ]
          },
          "metadata": {},
          "execution_count": 8
        }
      ]
    },
    {
      "cell_type": "code",
      "metadata": {
        "id": "ILQOZFBk0-6C"
      },
      "source": [
        "data.drop('Hospital_code',axis=1,inplace=True)"
      ],
      "execution_count": null,
      "outputs": []
    },
    {
      "cell_type": "code",
      "metadata": {
        "colab": {
          "base_uri": "https://localhost:8080/"
        },
        "id": "OwIKN4orLeUq",
        "outputId": "008bb395-eba0-4d97-d786-2a63c269083e"
      },
      "source": [
        "data['City_Code_Hospital'].unique()"
      ],
      "execution_count": null,
      "outputs": [
        {
          "output_type": "execute_result",
          "data": {
            "text/plain": [
              "array([11,  6,  5,  9,  3,  2,  4,  1,  7, 10, 13])"
            ]
          },
          "metadata": {},
          "execution_count": 10
        }
      ]
    },
    {
      "cell_type": "code",
      "metadata": {
        "id": "F-sa8o4k1AXp"
      },
      "source": [
        "data.drop('City_Code_Hospital',axis=1,inplace=True)"
      ],
      "execution_count": null,
      "outputs": []
    },
    {
      "cell_type": "code",
      "metadata": {
        "colab": {
          "base_uri": "https://localhost:8080/"
        },
        "id": "ee9aMRcSMSiL",
        "outputId": "d8f1df06-b86e-4fb3-c2c2-8d7171aba665"
      },
      "source": [
        "data['Visitors_with_Patient'].unique()"
      ],
      "execution_count": null,
      "outputs": [
        {
          "output_type": "execute_result",
          "data": {
            "text/plain": [
              "array([ 2,  4,  3, 16,  6,  7,  8,  5, 10,  9, 14, 15,  1, 12, 11, 22, 24,\n",
              "        0, 25, 13])"
            ]
          },
          "metadata": {},
          "execution_count": 12
        }
      ]
    },
    {
      "cell_type": "code",
      "metadata": {
        "id": "Em7IrgeO58r5"
      },
      "source": [
        "data.drop('Visitors_with_Patient',axis=1,inplace=True)\n"
      ],
      "execution_count": null,
      "outputs": []
    },
    {
      "cell_type": "code",
      "metadata": {
        "colab": {
          "base_uri": "https://localhost:8080/"
        },
        "id": "A8L8-uBMbUZD",
        "outputId": "23bfe902-fedc-4733-c839-03f877132eff"
      },
      "source": [
        "data['Hospital_region_code'].unique()"
      ],
      "execution_count": null,
      "outputs": [
        {
          "output_type": "execute_result",
          "data": {
            "text/plain": [
              "array(['X', 'Z', 'Y'], dtype=object)"
            ]
          },
          "metadata": {},
          "execution_count": 14
        }
      ]
    },
    {
      "cell_type": "code",
      "metadata": {
        "id": "SFXCLIRKTat2"
      },
      "source": [
        "data.drop('Hospital_region_code',axis=1, inplace=True)"
      ],
      "execution_count": null,
      "outputs": []
    },
    {
      "cell_type": "code",
      "metadata": {
        "colab": {
          "base_uri": "https://localhost:8080/"
        },
        "id": "rVwaII9HNwgF",
        "outputId": "8eddf6ad-0bd3-4a12-ba63-adcd1aa8d3a9"
      },
      "source": [
        "data.info()"
      ],
      "execution_count": null,
      "outputs": [
        {
          "output_type": "stream",
          "name": "stdout",
          "text": [
            "<class 'pandas.core.frame.DataFrame'>\n",
            "Int64Index: 8000 entries, 233291 to 119719\n",
            "Data columns (total 12 columns):\n",
            " #   Column                             Non-Null Count  Dtype  \n",
            "---  ------                             --------------  -----  \n",
            " 0   Hospital_type_code                 8000 non-null   object \n",
            " 1   Available_Extra_Rooms_in_Hospital  8000 non-null   int64  \n",
            " 2   Department                         8000 non-null   object \n",
            " 3   Ward_Type                          8000 non-null   object \n",
            " 4   Ward_Facility_Code                 8000 non-null   object \n",
            " 5   Bed_Grade                          7996 non-null   float64\n",
            " 6   City_Code_Patient                  7881 non-null   float64\n",
            " 7   Type_of_Admission                  8000 non-null   object \n",
            " 8   Severity_of_Illness                8000 non-null   object \n",
            " 9   Age                                8000 non-null   object \n",
            " 10  Admission_Deposit                  8000 non-null   float64\n",
            " 11  Stay                               8000 non-null   object \n",
            "dtypes: float64(3), int64(1), object(8)\n",
            "memory usage: 812.5+ KB\n"
          ]
        }
      ]
    },
    {
      "cell_type": "markdown",
      "metadata": {
        "id": "fA3jdJcU4sYT"
      },
      "source": [
        "### Counting the number of ranges of values present in the stay column"
      ]
    },
    {
      "cell_type": "code",
      "metadata": {
        "colab": {
          "base_uri": "https://localhost:8080/"
        },
        "id": "nJMRYKz94o_W",
        "outputId": "64fcf280-cf5a-4394-fcaa-fa1470376ea7"
      },
      "source": [
        "data['Stay'].value_counts()"
      ],
      "execution_count": null,
      "outputs": [
        {
          "output_type": "execute_result",
          "data": {
            "text/plain": [
              "21-30                 2227\n",
              "11-20                 1956\n",
              "31-40                 1389\n",
              "51-60                  877\n",
              "0-10                   629\n",
              "41-50                  274\n",
              "71-80                  256\n",
              "More than 100 Days     140\n",
              "81-90                  108\n",
              "91-100                  75\n",
              "61-70                   69\n",
              "Name: Stay, dtype: int64"
            ]
          },
          "metadata": {},
          "execution_count": 17
        }
      ]
    },
    {
      "cell_type": "code",
      "metadata": {
        "colab": {
          "base_uri": "https://localhost:8080/",
          "height": 309
        },
        "id": "wY_oIdqq4rQp",
        "outputId": "67538549-1a45-43e3-bf57-c80c3f261240"
      },
      "source": [
        "data.head()"
      ],
      "execution_count": null,
      "outputs": [
        {
          "output_type": "execute_result",
          "data": {
            "text/html": [
              "<div>\n",
              "<style scoped>\n",
              "    .dataframe tbody tr th:only-of-type {\n",
              "        vertical-align: middle;\n",
              "    }\n",
              "\n",
              "    .dataframe tbody tr th {\n",
              "        vertical-align: top;\n",
              "    }\n",
              "\n",
              "    .dataframe thead th {\n",
              "        text-align: right;\n",
              "    }\n",
              "</style>\n",
              "<table border=\"1\" class=\"dataframe\">\n",
              "  <thead>\n",
              "    <tr style=\"text-align: right;\">\n",
              "      <th></th>\n",
              "      <th>Hospital_type_code</th>\n",
              "      <th>Available_Extra_Rooms_in_Hospital</th>\n",
              "      <th>Department</th>\n",
              "      <th>Ward_Type</th>\n",
              "      <th>Ward_Facility_Code</th>\n",
              "      <th>Bed_Grade</th>\n",
              "      <th>City_Code_Patient</th>\n",
              "      <th>Type_of_Admission</th>\n",
              "      <th>Severity_of_Illness</th>\n",
              "      <th>Age</th>\n",
              "      <th>Admission_Deposit</th>\n",
              "      <th>Stay</th>\n",
              "    </tr>\n",
              "  </thead>\n",
              "  <tbody>\n",
              "    <tr>\n",
              "      <th>233291</th>\n",
              "      <td>b</td>\n",
              "      <td>3</td>\n",
              "      <td>gynecology</td>\n",
              "      <td>R</td>\n",
              "      <td>F</td>\n",
              "      <td>3.0</td>\n",
              "      <td>1.0</td>\n",
              "      <td>Emergency</td>\n",
              "      <td>Moderate</td>\n",
              "      <td>61-70</td>\n",
              "      <td>5342.0</td>\n",
              "      <td>11-20</td>\n",
              "    </tr>\n",
              "    <tr>\n",
              "      <th>13834</th>\n",
              "      <td>a</td>\n",
              "      <td>6</td>\n",
              "      <td>anesthesia</td>\n",
              "      <td>Q</td>\n",
              "      <td>F</td>\n",
              "      <td>3.0</td>\n",
              "      <td>2.0</td>\n",
              "      <td>Emergency</td>\n",
              "      <td>Extreme</td>\n",
              "      <td>31-40</td>\n",
              "      <td>3679.0</td>\n",
              "      <td>11-20</td>\n",
              "    </tr>\n",
              "    <tr>\n",
              "      <th>289527</th>\n",
              "      <td>a</td>\n",
              "      <td>2</td>\n",
              "      <td>gynecology</td>\n",
              "      <td>R</td>\n",
              "      <td>F</td>\n",
              "      <td>4.0</td>\n",
              "      <td>25.0</td>\n",
              "      <td>Urgent</td>\n",
              "      <td>Minor</td>\n",
              "      <td>61-70</td>\n",
              "      <td>4728.0</td>\n",
              "      <td>21-30</td>\n",
              "    </tr>\n",
              "    <tr>\n",
              "      <th>149125</th>\n",
              "      <td>c</td>\n",
              "      <td>2</td>\n",
              "      <td>gynecology</td>\n",
              "      <td>Q</td>\n",
              "      <td>F</td>\n",
              "      <td>4.0</td>\n",
              "      <td>2.0</td>\n",
              "      <td>Urgent</td>\n",
              "      <td>Moderate</td>\n",
              "      <td>31-40</td>\n",
              "      <td>5263.0</td>\n",
              "      <td>11-20</td>\n",
              "    </tr>\n",
              "    <tr>\n",
              "      <th>231378</th>\n",
              "      <td>a</td>\n",
              "      <td>4</td>\n",
              "      <td>gynecology</td>\n",
              "      <td>Q</td>\n",
              "      <td>F</td>\n",
              "      <td>3.0</td>\n",
              "      <td>2.0</td>\n",
              "      <td>Emergency</td>\n",
              "      <td>Moderate</td>\n",
              "      <td>0-10</td>\n",
              "      <td>3931.0</td>\n",
              "      <td>11-20</td>\n",
              "    </tr>\n",
              "  </tbody>\n",
              "</table>\n",
              "</div>"
            ],
            "text/plain": [
              "       Hospital_type_code  ...   Stay\n",
              "233291                  b  ...  11-20\n",
              "13834                   a  ...  11-20\n",
              "289527                  a  ...  21-30\n",
              "149125                  c  ...  11-20\n",
              "231378                  a  ...  11-20\n",
              "\n",
              "[5 rows x 12 columns]"
            ]
          },
          "metadata": {},
          "execution_count": 18
        }
      ]
    },
    {
      "cell_type": "code",
      "metadata": {
        "colab": {
          "base_uri": "https://localhost:8080/"
        },
        "id": "Tw_He4au4yvU",
        "outputId": "2947d026-16d5-40ad-9738-772cfb6185e9"
      },
      "source": [
        "# Checking out the info of every column in the data, also get to know the datatype of each column\n",
        "data.info()"
      ],
      "execution_count": null,
      "outputs": [
        {
          "output_type": "stream",
          "name": "stdout",
          "text": [
            "<class 'pandas.core.frame.DataFrame'>\n",
            "Int64Index: 8000 entries, 233291 to 119719\n",
            "Data columns (total 12 columns):\n",
            " #   Column                             Non-Null Count  Dtype  \n",
            "---  ------                             --------------  -----  \n",
            " 0   Hospital_type_code                 8000 non-null   object \n",
            " 1   Available_Extra_Rooms_in_Hospital  8000 non-null   int64  \n",
            " 2   Department                         8000 non-null   object \n",
            " 3   Ward_Type                          8000 non-null   object \n",
            " 4   Ward_Facility_Code                 8000 non-null   object \n",
            " 5   Bed_Grade                          7996 non-null   float64\n",
            " 6   City_Code_Patient                  7881 non-null   float64\n",
            " 7   Type_of_Admission                  8000 non-null   object \n",
            " 8   Severity_of_Illness                8000 non-null   object \n",
            " 9   Age                                8000 non-null   object \n",
            " 10  Admission_Deposit                  8000 non-null   float64\n",
            " 11  Stay                               8000 non-null   object \n",
            "dtypes: float64(3), int64(1), object(8)\n",
            "memory usage: 812.5+ KB\n"
          ]
        }
      ]
    },
    {
      "cell_type": "code",
      "metadata": {
        "colab": {
          "base_uri": "https://localhost:8080/"
        },
        "id": "ObYonZok49-J",
        "outputId": "80dfdfe6-2d81-4a6c-ffef-0f8f97c1d53f"
      },
      "source": [
        "# Checking the shape of our dataset\n",
        "data.shape"
      ],
      "execution_count": null,
      "outputs": [
        {
          "output_type": "execute_result",
          "data": {
            "text/plain": [
              "(8000, 12)"
            ]
          },
          "metadata": {},
          "execution_count": 20
        }
      ]
    },
    {
      "cell_type": "code",
      "metadata": {
        "id": "HVVK6JLM5C3E"
      },
      "source": [
        "# Here comes the step where we drop the unnecesary range of the column Stay\n",
        "data=data[~data.Stay.str.contains(\"41-50\")]\n",
        "data=data[~data.Stay.str.contains(\"71-80\")]\n",
        "data=data[~data.Stay.str.contains(\"More than 100 Days\")]\n",
        "data=data[~data.Stay.str.contains(\"81-90\")]\n",
        "data=data[~data.Stay.str.contains(\"91-100\")]\n",
        "data=data[~data.Stay.str.contains(\"61-70\")]"
      ],
      "execution_count": null,
      "outputs": []
    },
    {
      "cell_type": "markdown",
      "metadata": {
        "id": "LYHsduOv5QZN"
      },
      "source": [
        "## `Nan` Values"
      ]
    },
    {
      "cell_type": "code",
      "metadata": {
        "colab": {
          "base_uri": "https://localhost:8080/"
        },
        "id": "7FJoNwSW5WSl",
        "outputId": "455e82aa-c68e-4cc7-8b88-3d937c1259e5"
      },
      "source": [
        "# Checking the naa values\n",
        "data.isna().sum()"
      ],
      "execution_count": null,
      "outputs": [
        {
          "output_type": "execute_result",
          "data": {
            "text/plain": [
              "Hospital_type_code                     0\n",
              "Available_Extra_Rooms_in_Hospital      0\n",
              "Department                             0\n",
              "Ward_Type                              0\n",
              "Ward_Facility_Code                     0\n",
              "Bed_Grade                              4\n",
              "City_Code_Patient                    104\n",
              "Type_of_Admission                      0\n",
              "Severity_of_Illness                    0\n",
              "Age                                    0\n",
              "Admission_Deposit                      0\n",
              "Stay                                   0\n",
              "dtype: int64"
            ]
          },
          "metadata": {},
          "execution_count": 22
        }
      ]
    },
    {
      "cell_type": "code",
      "metadata": {
        "id": "eMvZAC_e5b3b"
      },
      "source": [
        "# Let's drop all the nan values of the `City_code_patient` column\n",
        "data['City_Code_Patient'].dropna(inplace=True)"
      ],
      "execution_count": null,
      "outputs": []
    },
    {
      "cell_type": "code",
      "metadata": {
        "id": "mHYidLZG5nvC"
      },
      "source": [
        "# Let's fill the nan vlaues with mean fot the Bed_Grade Column\n",
        "data.fillna(data['Bed_Grade'].mean(),inplace=True)"
      ],
      "execution_count": null,
      "outputs": []
    },
    {
      "cell_type": "code",
      "metadata": {
        "colab": {
          "base_uri": "https://localhost:8080/"
        },
        "id": "wkAh5_El6CDd",
        "outputId": "aae7bef3-efb9-468c-bf36-1608b4c31f3e"
      },
      "source": [
        "len(data.columns)"
      ],
      "execution_count": null,
      "outputs": [
        {
          "output_type": "execute_result",
          "data": {
            "text/plain": [
              "12"
            ]
          },
          "metadata": {},
          "execution_count": 25
        }
      ]
    },
    {
      "cell_type": "markdown",
      "metadata": {
        "id": "ytUX3tcz6GlE"
      },
      "source": [
        "## Data Visualisation"
      ]
    },
    {
      "cell_type": "code",
      "metadata": {
        "id": "9AlkZChw6n3l"
      },
      "source": [
        "import matplotlib.pyplot as plt"
      ],
      "execution_count": null,
      "outputs": []
    },
    {
      "cell_type": "code",
      "metadata": {
        "colab": {
          "base_uri": "https://localhost:8080/",
          "height": 513
        },
        "id": "OumprLu06LCE",
        "outputId": "fd4a94f6-4e01-489d-ee44-4fdc764cc3ab"
      },
      "source": [
        "# Plotting an bar plot for Age Vs Stay\n",
        "fig,ax=plt.subplots(figsize=(10,8))\n",
        "ax.bar(data['Age'],data['Stay'],color=['r','g'])\n",
        "ax.set(title='Stay Vs Age',\n",
        "       xlabel=\"Age\",\n",
        "       ylabel='Number of days to stay');"
      ],
      "execution_count": null,
      "outputs": [
        {
          "output_type": "display_data",
          "data": {
            "image/png": "[encoded data removed]",
            "text/plain": [
              "<Figure size 720x576 with 1 Axes>"
            ]
          },
          "metadata": {
            "needs_background": "light"
          }
        }
      ]
    },
    {
      "cell_type": "code",
      "metadata": {
        "colab": {
          "base_uri": "https://localhost:8080/",
          "height": 514
        },
        "id": "wP1XcuiA6mqd",
        "outputId": "742861ef-1fd6-471e-a991-091eee999656"
      },
      "source": [
        "# Plotting a scatter plot for Available_Extra_Rooms Vs Stay\n",
        "fig,ax=plt.subplots(figsize=(10,8))\n",
        "ax.scatter(data['Available_Extra_Rooms_in_Hospital'],data['Stay'],color=['y'])\n",
        "ax.set(title=\"Available_Extra_Rooms_in_Hospital Vs Stay\",\n",
        "       xlabel=\"Available_Extra_Rooms_in_Hospital\",\n",
        "       ylabel=\"Stay\");"
      ],
      "execution_count": null,
      "outputs": [
        {
          "output_type": "display_data",
          "data": {
            "image/png": "[encoded data removed]",
            "text/plain": [
              "<Figure size 720x576 with 1 Axes>"
            ]
          },
          "metadata": {
            "needs_background": "light"
          }
        }
      ]
    },
    {
      "cell_type": "markdown",
      "metadata": {
        "id": "N6P3brOS7WNu"
      },
      "source": [
        "## Label Encoding all the categorical columns\n"
      ]
    },
    {
      "cell_type": "code",
      "metadata": {
        "id": "LIKgZPQM7pQn"
      },
      "source": [
        "from sklearn.preprocessing import LabelEncoder\n",
        "le=LabelEncoder()\n",
        "data['Hospital_type_code']=le.fit_transform(data['Hospital_type_code'])\n",
        "\n",
        "data['Department']=le.fit_transform(data['Department'])\n",
        "data['Ward_Type']=le.fit_transform(data['Ward_Type'])\n",
        "data['Ward_Facility_Code']=le.fit_transform(data['Ward_Facility_Code'])\n",
        "data['Type_of_Admission']=le.fit_transform(data['Type_of_Admission'])\n",
        "data['Severity_of_Illness']=le.fit_transform(data['Severity_of_Illness'])\n",
        "data['Age']=le.fit_transform(data['Age'])\n",
        "data['Stay']=le.fit_transform(data['Stay'])"
      ],
      "execution_count": null,
      "outputs": []
    },
    {
      "cell_type": "markdown",
      "metadata": {
        "id": "Fh8b5h5d7rtq"
      },
      "source": [
        "## Splitting the data into two parts \n",
        "> Here we would be splitting our data into training and testing set where we would be having an ratio of 80:20, which means we would be giving 80% of the data for training part and 20% of the data for testing part"
      ]
    },
    {
      "cell_type": "code",
      "metadata": {
        "id": "VfvIcgbb8B4P"
      },
      "source": [
        "from sklearn.model_selection import train_test_split\n",
        "X=data.drop('Stay',axis=1)\n",
        "y=data['Stay']"
      ],
      "execution_count": null,
      "outputs": []
    },
    {
      "cell_type": "code",
      "metadata": {
        "id": "2bwzIVDI8ON_"
      },
      "source": [
        "X_train,X_test,y_train,y_test=train_test_split(X,y,test_size=0.2,random_state=42)"
      ],
      "execution_count": null,
      "outputs": []
    },
    {
      "cell_type": "markdown",
      "metadata": {
        "id": "i0Fpjh2z8Qms"
      },
      "source": [
        "## Calculating the correlation "
      ]
    },
    {
      "cell_type": "code",
      "metadata": {
        "id": "dg8cQM4C8VAk"
      },
      "source": [
        "corr_mat=data.corr()"
      ],
      "execution_count": null,
      "outputs": []
    },
    {
      "cell_type": "code",
      "metadata": {
        "id": "dAzY-ShS8Wwx",
        "colab": {
          "base_uri": "https://localhost:8080/",
          "height": 441
        },
        "outputId": "0b8e51f3-ea0d-4141-a8ef-dee6d8ca6c2f"
      },
      "source": [
        "corr_mat"
      ],
      "execution_count": null,
      "outputs": [
        {
          "output_type": "execute_result",
          "data": {
            "text/html": [
              "<div>\n",
              "<style scoped>\n",
              "    .dataframe tbody tr th:only-of-type {\n",
              "        vertical-align: middle;\n",
              "    }\n",
              "\n",
              "    .dataframe tbody tr th {\n",
              "        vertical-align: top;\n",
              "    }\n",
              "\n",
              "    .dataframe thead th {\n",
              "        text-align: right;\n",
              "    }\n",
              "</style>\n",
              "<table border=\"1\" class=\"dataframe\">\n",
              "  <thead>\n",
              "    <tr style=\"text-align: right;\">\n",
              "      <th></th>\n",
              "      <th>Hospital_type_code</th>\n",
              "      <th>Available_Extra_Rooms_in_Hospital</th>\n",
              "      <th>Department</th>\n",
              "      <th>Ward_Type</th>\n",
              "      <th>Ward_Facility_Code</th>\n",
              "      <th>Bed_Grade</th>\n",
              "      <th>City_Code_Patient</th>\n",
              "      <th>Type_of_Admission</th>\n",
              "      <th>Severity_of_Illness</th>\n",
              "      <th>Age</th>\n",
              "      <th>Admission_Deposit</th>\n",
              "      <th>Stay</th>\n",
              "    </tr>\n",
              "  </thead>\n",
              "  <tbody>\n",
              "    <tr>\n",
              "      <th>Hospital_type_code</th>\n",
              "      <td>1.000000</td>\n",
              "      <td>-0.105228</td>\n",
              "      <td>0.014176</td>\n",
              "      <td>0.240818</td>\n",
              "      <td>-0.266975</td>\n",
              "      <td>0.009027</td>\n",
              "      <td>0.066223</td>\n",
              "      <td>0.055090</td>\n",
              "      <td>-0.001231</td>\n",
              "      <td>0.010473</td>\n",
              "      <td>0.022129</td>\n",
              "      <td>0.049391</td>\n",
              "    </tr>\n",
              "    <tr>\n",
              "      <th>Available_Extra_Rooms_in_Hospital</th>\n",
              "      <td>-0.105228</td>\n",
              "      <td>1.000000</td>\n",
              "      <td>0.038114</td>\n",
              "      <td>-0.420803</td>\n",
              "      <td>0.038378</td>\n",
              "      <td>-0.125256</td>\n",
              "      <td>0.003052</td>\n",
              "      <td>-0.030574</td>\n",
              "      <td>-0.000187</td>\n",
              "      <td>-0.135417</td>\n",
              "      <td>-0.151498</td>\n",
              "      <td>-0.072180</td>\n",
              "    </tr>\n",
              "    <tr>\n",
              "      <th>Department</th>\n",
              "      <td>0.014176</td>\n",
              "      <td>0.038114</td>\n",
              "      <td>1.000000</td>\n",
              "      <td>0.008594</td>\n",
              "      <td>-0.036120</td>\n",
              "      <td>-0.100274</td>\n",
              "      <td>0.023180</td>\n",
              "      <td>-0.091154</td>\n",
              "      <td>-0.004552</td>\n",
              "      <td>0.037856</td>\n",
              "      <td>-0.068375</td>\n",
              "      <td>0.033988</td>\n",
              "    </tr>\n",
              "    <tr>\n",
              "      <th>Ward_Type</th>\n",
              "      <td>0.240818</td>\n",
              "      <td>-0.420803</td>\n",
              "      <td>0.008594</td>\n",
              "      <td>1.000000</td>\n",
              "      <td>-0.159514</td>\n",
              "      <td>-0.020652</td>\n",
              "      <td>0.008135</td>\n",
              "      <td>0.013734</td>\n",
              "      <td>-0.003040</td>\n",
              "      <td>0.013097</td>\n",
              "      <td>0.051672</td>\n",
              "      <td>0.136049</td>\n",
              "    </tr>\n",
              "    <tr>\n",
              "      <th>Ward_Facility_Code</th>\n",
              "      <td>-0.266975</td>\n",
              "      <td>0.038378</td>\n",
              "      <td>-0.036120</td>\n",
              "      <td>-0.159514</td>\n",
              "      <td>1.000000</td>\n",
              "      <td>0.085545</td>\n",
              "      <td>-0.151085</td>\n",
              "      <td>0.079916</td>\n",
              "      <td>0.012759</td>\n",
              "      <td>0.007396</td>\n",
              "      <td>-0.039778</td>\n",
              "      <td>0.025463</td>\n",
              "    </tr>\n",
              "    <tr>\n",
              "      <th>Bed_Grade</th>\n",
              "      <td>0.009027</td>\n",
              "      <td>-0.125256</td>\n",
              "      <td>-0.100274</td>\n",
              "      <td>-0.020652</td>\n",
              "      <td>0.085545</td>\n",
              "      <td>1.000000</td>\n",
              "      <td>-0.002738</td>\n",
              "      <td>0.111299</td>\n",
              "      <td>0.014916</td>\n",
              "      <td>-0.010004</td>\n",
              "      <td>0.110418</td>\n",
              "      <td>-0.020875</td>\n",
              "    </tr>\n",
              "    <tr>\n",
              "      <th>City_Code_Patient</th>\n",
              "      <td>0.066223</td>\n",
              "      <td>0.003052</td>\n",
              "      <td>0.023180</td>\n",
              "      <td>0.008135</td>\n",
              "      <td>-0.151085</td>\n",
              "      <td>-0.002738</td>\n",
              "      <td>1.000000</td>\n",
              "      <td>-0.021993</td>\n",
              "      <td>-0.002444</td>\n",
              "      <td>-0.037971</td>\n",
              "      <td>0.029777</td>\n",
              "      <td>-0.030959</td>\n",
              "    </tr>\n",
              "    <tr>\n",
              "      <th>Type_of_Admission</th>\n",
              "      <td>0.055090</td>\n",
              "      <td>-0.030574</td>\n",
              "      <td>-0.091154</td>\n",
              "      <td>0.013734</td>\n",
              "      <td>0.079916</td>\n",
              "      <td>0.111299</td>\n",
              "      <td>-0.021993</td>\n",
              "      <td>1.000000</td>\n",
              "      <td>0.015469</td>\n",
              "      <td>-0.040853</td>\n",
              "      <td>0.043308</td>\n",
              "      <td>0.053765</td>\n",
              "    </tr>\n",
              "    <tr>\n",
              "      <th>Severity_of_Illness</th>\n",
              "      <td>-0.001231</td>\n",
              "      <td>-0.000187</td>\n",
              "      <td>-0.004552</td>\n",
              "      <td>-0.003040</td>\n",
              "      <td>0.012759</td>\n",
              "      <td>0.014916</td>\n",
              "      <td>-0.002444</td>\n",
              "      <td>0.015469</td>\n",
              "      <td>1.000000</td>\n",
              "      <td>-0.028047</td>\n",
              "      <td>0.022452</td>\n",
              "      <td>-0.014403</td>\n",
              "    </tr>\n",
              "    <tr>\n",
              "      <th>Age</th>\n",
              "      <td>0.010473</td>\n",
              "      <td>-0.135417</td>\n",
              "      <td>0.037856</td>\n",
              "      <td>0.013097</td>\n",
              "      <td>0.007396</td>\n",
              "      <td>-0.010004</td>\n",
              "      <td>-0.037971</td>\n",
              "      <td>-0.040853</td>\n",
              "      <td>-0.028047</td>\n",
              "      <td>1.000000</td>\n",
              "      <td>0.019049</td>\n",
              "      <td>0.073152</td>\n",
              "    </tr>\n",
              "    <tr>\n",
              "      <th>Admission_Deposit</th>\n",
              "      <td>0.022129</td>\n",
              "      <td>-0.151498</td>\n",
              "      <td>-0.068375</td>\n",
              "      <td>0.051672</td>\n",
              "      <td>-0.039778</td>\n",
              "      <td>0.110418</td>\n",
              "      <td>0.029777</td>\n",
              "      <td>0.043308</td>\n",
              "      <td>0.022452</td>\n",
              "      <td>0.019049</td>\n",
              "      <td>1.000000</td>\n",
              "      <td>-0.015965</td>\n",
              "    </tr>\n",
              "    <tr>\n",
              "      <th>Stay</th>\n",
              "      <td>0.049391</td>\n",
              "      <td>-0.072180</td>\n",
              "      <td>0.033988</td>\n",
              "      <td>0.136049</td>\n",
              "      <td>0.025463</td>\n",
              "      <td>-0.020875</td>\n",
              "      <td>-0.030959</td>\n",
              "      <td>0.053765</td>\n",
              "      <td>-0.014403</td>\n",
              "      <td>0.073152</td>\n",
              "      <td>-0.015965</td>\n",
              "      <td>1.000000</td>\n",
              "    </tr>\n",
              "  </tbody>\n",
              "</table>\n",
              "</div>"
            ],
            "text/plain": [
              "                                   Hospital_type_code  ...      Stay\n",
              "Hospital_type_code                           1.000000  ...  0.049391\n",
              "Available_Extra_Rooms_in_Hospital           -0.105228  ... -0.072180\n",
              "Department                                   0.014176  ...  0.033988\n",
              "Ward_Type                                    0.240818  ...  0.136049\n",
              "Ward_Facility_Code                          -0.266975  ...  0.025463\n",
              "Bed_Grade                                    0.009027  ... -0.020875\n",
              "City_Code_Patient                            0.066223  ... -0.030959\n",
              "Type_of_Admission                            0.055090  ...  0.053765\n",
              "Severity_of_Illness                         -0.001231  ... -0.014403\n",
              "Age                                          0.010473  ...  0.073152\n",
              "Admission_Deposit                            0.022129  ... -0.015965\n",
              "Stay                                         0.049391  ...  1.000000\n",
              "\n",
              "[12 rows x 12 columns]"
            ]
          },
          "metadata": {},
          "execution_count": 33
        }
      ]
    },
    {
      "cell_type": "markdown",
      "metadata": {
        "id": "0idT-dQk8ZsE"
      },
      "source": [
        "# Visualizing the correlation "
      ]
    },
    {
      "cell_type": "code",
      "metadata": {
        "id": "uMKHmXWp8ecQ",
        "colab": {
          "base_uri": "https://localhost:8080/",
          "height": 760
        },
        "outputId": "888b097c-7c0b-4035-da58-fd0059dae663"
      },
      "source": [
        "import seaborn as sns\n",
        "fig,ax=plt.subplots(figsize=(12,10))\n",
        "ax=sns.heatmap(corr_mat,\n",
        "              annot=True,\n",
        "              linewidths=0.5,\n",
        "              cmap='Dark2',\n",
        "              fmt='.2f')"
      ],
      "execution_count": null,
      "outputs": [
        {
          "output_type": "display_data",
          "data": {
            "image/png": "[encoded data removed]",
            "text/plain": [
              "<Figure size 864x720 with 2 Axes>"
            ]
          },
          "metadata": {
            "needs_background": "light"
          }
        }
      ]
    },
    {
      "cell_type": "markdown",
      "metadata": {
        "id": "acTyoaEAFbey"
      },
      "source": [
        "### Plotting a pairplot"
      ]
    },
    {
      "cell_type": "code",
      "metadata": {
        "id": "kTZm14PzFe1m",
        "colab": {
          "base_uri": "https://localhost:8080/",
          "height": 919
        },
        "outputId": "1b78afbe-19ee-4671-8619-66b37779f73f"
      },
      "source": [
        "sns.pairplot(corr_mat);"
      ],
      "execution_count": null,
      "outputs": [
        {
          "output_type": "display_data",
          "data": {
            "image/png": "[encoded data removed]",
            "text/plain": [
              "<Figure size 2160x2160 with 156 Axes>"
            ]
          },
          "metadata": {
            "needs_background": "light"
          }
        }
      ]
    },
    {
      "cell_type": "markdown",
      "metadata": {
        "id": "vVrMBJEneYcb"
      },
      "source": [
        "Using the SVC model"
      ]
    },
    {
      "cell_type": "code",
      "metadata": {
        "colab": {
          "base_uri": "https://localhost:8080/"
        },
        "id": "qArE_XTICvQx",
        "outputId": "89262aa7-1fb2-4174-926f-59f38f858bf7"
      },
      "source": [
        "from sklearn.svm import SVC\n",
        "model_2=SVC()\n",
        "model_2.fit(X_train,y_train)"
      ],
      "execution_count": null,
      "outputs": [
        {
          "output_type": "execute_result",
          "data": {
            "text/plain": [
              "SVC(C=1.0, break_ties=False, cache_size=200, class_weight=None, coef0=0.0,\n",
              "    decision_function_shape='ovr', degree=3, gamma='scale', kernel='rbf',\n",
              "    max_iter=-1, probability=False, random_state=None, shrinking=True,\n",
              "    tol=0.001, verbose=False)"
            ]
          },
          "metadata": {},
          "execution_count": 36
        }
      ]
    },
    {
      "cell_type": "code",
      "metadata": {
        "id": "8_Xav283C-aE",
        "colab": {
          "base_uri": "https://localhost:8080/"
        },
        "outputId": "ab2ba19c-9325-4f67-da34-115dfc325546"
      },
      "source": [
        "model_2.score(X_test,y_test)"
      ],
      "execution_count": null,
      "outputs": [
        {
          "output_type": "execute_result",
          "data": {
            "text/plain": [
              "0.3015536723163842"
            ]
          },
          "metadata": {},
          "execution_count": 37
        }
      ]
    },
    {
      "cell_type": "markdown",
      "metadata": {
        "id": "7Mfgb6leDBci"
      },
      "source": [
        "Using the Random Forest Classifier"
      ]
    },
    {
      "cell_type": "code",
      "metadata": {
        "id": "_SOoEcd2DGXg",
        "colab": {
          "base_uri": "https://localhost:8080/"
        },
        "outputId": "cd3f8d18-c420-463f-cf96-aab8894fdaec"
      },
      "source": [
        "from sklearn.ensemble import RandomForestClassifier\n",
        "model_3=RandomForestClassifier()\n",
        "model_3.fit(X_train,y_train)"
      ],
      "execution_count": null,
      "outputs": [
        {
          "output_type": "execute_result",
          "data": {
            "text/plain": [
              "RandomForestClassifier(bootstrap=True, ccp_alpha=0.0, class_weight=None,\n",
              "                       criterion='gini', max_depth=None, max_features='auto',\n",
              "                       max_leaf_nodes=None, max_samples=None,\n",
              "                       min_impurity_decrease=0.0, min_impurity_split=None,\n",
              "                       min_samples_leaf=1, min_samples_split=2,\n",
              "                       min_weight_fraction_leaf=0.0, n_estimators=100,\n",
              "                       n_jobs=None, oob_score=False, random_state=None,\n",
              "                       verbose=0, warm_start=False)"
            ]
          },
          "metadata": {},
          "execution_count": 38
        }
      ]
    },
    {
      "cell_type": "code",
      "metadata": {
        "id": "c4tgwkymDGPm",
        "colab": {
          "base_uri": "https://localhost:8080/"
        },
        "outputId": "a2ed846a-a921-49d8-b2f5-914cfee52117"
      },
      "source": [
        "model_3.score(X_test,y_test)"
      ],
      "execution_count": null,
      "outputs": [
        {
          "output_type": "execute_result",
          "data": {
            "text/plain": [
              "0.3177966101694915"
            ]
          },
          "metadata": {},
          "execution_count": 39
        }
      ]
    },
    {
      "cell_type": "markdown",
      "metadata": {
        "id": "Yngb8PRDfb58"
      },
      "source": [
        "Using the bagging classifer"
      ]
    },
    {
      "cell_type": "code",
      "metadata": {
        "id": "hZmuZKrsDpUH",
        "colab": {
          "base_uri": "https://localhost:8080/"
        },
        "outputId": "1cce2cd2-1a13-4187-fa61-31a965952288"
      },
      "source": [
        "from sklearn.ensemble import BaggingClassifier\n",
        "model_4=BaggingClassifier()\n",
        "model_4.fit(X_train,y_train)"
      ],
      "execution_count": null,
      "outputs": [
        {
          "output_type": "execute_result",
          "data": {
            "text/plain": [
              "BaggingClassifier(base_estimator=None, bootstrap=True, bootstrap_features=False,\n",
              "                  max_features=1.0, max_samples=1.0, n_estimators=10,\n",
              "                  n_jobs=None, oob_score=False, random_state=None, verbose=0,\n",
              "                  warm_start=False)"
            ]
          },
          "metadata": {},
          "execution_count": 40
        }
      ]
    },
    {
      "cell_type": "code",
      "metadata": {
        "id": "V5gMGkcQDuvG",
        "colab": {
          "base_uri": "https://localhost:8080/"
        },
        "outputId": "30eaeaa1-1b6e-4f24-cd31-27f20690f7fd"
      },
      "source": [
        "model_4.score(X_test,y_test)"
      ],
      "execution_count": null,
      "outputs": [
        {
          "output_type": "execute_result",
          "data": {
            "text/plain": [
              "0.3135593220338983"
            ]
          },
          "metadata": {},
          "execution_count": 41
        }
      ]
    },
    {
      "cell_type": "markdown",
      "metadata": {
        "id": "vQbgXm1ufqGE"
      },
      "source": [
        "Using the Ridge Classifer"
      ]
    },
    {
      "cell_type": "code",
      "metadata": {
        "id": "smL-z2OZD-JR",
        "colab": {
          "base_uri": "https://localhost:8080/"
        },
        "outputId": "bf1798df-d81a-44af-ba21-6da5e7079cf9"
      },
      "source": [
        "from sklearn.linear_model import RidgeClassifier\n",
        "model_5=RidgeClassifier()\n",
        "model_5.fit(X_train,y_train)"
      ],
      "execution_count": null,
      "outputs": [
        {
          "output_type": "execute_result",
          "data": {
            "text/plain": [
              "RidgeClassifier(alpha=1.0, class_weight=None, copy_X=True, fit_intercept=True,\n",
              "                max_iter=None, normalize=False, random_state=None,\n",
              "                solver='auto', tol=0.001)"
            ]
          },
          "metadata": {},
          "execution_count": 42
        }
      ]
    },
    {
      "cell_type": "code",
      "metadata": {
        "id": "oOjDShXaEDuq",
        "colab": {
          "base_uri": "https://localhost:8080/"
        },
        "outputId": "77388187-905b-49a8-8446-b46e15c4e7bd"
      },
      "source": [
        "model_5.score(X_test,y_test)"
      ],
      "execution_count": null,
      "outputs": [
        {
          "output_type": "execute_result",
          "data": {
            "text/plain": [
              "0.3495762711864407"
            ]
          },
          "metadata": {},
          "execution_count": 43
        }
      ]
    },
    {
      "cell_type": "markdown",
      "metadata": {
        "id": "TB3GMa6Tf69U"
      },
      "source": [
        "Using the Gradient Boosting Classifer"
      ]
    },
    {
      "cell_type": "code",
      "metadata": {
        "id": "_L19MXU8ENrP",
        "colab": {
          "base_uri": "https://localhost:8080/"
        },
        "outputId": "44a9c8af-6bcc-47ae-d5a8-3fdbe575a8c7"
      },
      "source": [
        "from sklearn.ensemble import GradientBoostingClassifier\n",
        "model_6=GradientBoostingClassifier()\n",
        "model_6.fit(X_train,y_train)"
      ],
      "execution_count": null,
      "outputs": [
        {
          "output_type": "execute_result",
          "data": {
            "text/plain": [
              "GradientBoostingClassifier(ccp_alpha=0.0, criterion='friedman_mse', init=None,\n",
              "                           learning_rate=0.1, loss='deviance', max_depth=3,\n",
              "                           max_features=None, max_leaf_nodes=None,\n",
              "                           min_impurity_decrease=0.0, min_impurity_split=None,\n",
              "                           min_samples_leaf=1, min_samples_split=2,\n",
              "                           min_weight_fraction_leaf=0.0, n_estimators=100,\n",
              "                           n_iter_no_change=None, presort='deprecated',\n",
              "                           random_state=None, subsample=1.0, tol=0.0001,\n",
              "                           validation_fraction=0.1, verbose=0,\n",
              "                           warm_start=False)"
            ]
          },
          "metadata": {},
          "execution_count": 44
        }
      ]
    },
    {
      "cell_type": "code",
      "metadata": {
        "id": "MPpm2OAGEXUO",
        "colab": {
          "base_uri": "https://localhost:8080/"
        },
        "outputId": "e7502fd7-024b-403d-d5f6-9e0dd6558129"
      },
      "source": [
        "model_6.score(X_test,y_test)"
      ],
      "execution_count": null,
      "outputs": [
        {
          "output_type": "execute_result",
          "data": {
            "text/plain": [
              "0.3728813559322034"
            ]
          },
          "metadata": {},
          "execution_count": 45
        }
      ]
    },
    {
      "cell_type": "markdown",
      "metadata": {
        "id": "yeGvPqg2hScp"
      },
      "source": [
        "Hist Gradient Boosting Classifier"
      ]
    },
    {
      "cell_type": "code",
      "metadata": {
        "colab": {
          "base_uri": "https://localhost:8080/"
        },
        "id": "eqdEAV-jhcLN",
        "outputId": "6a0a632b-f6fc-43ad-c0ca-231d9b542ff4"
      },
      "source": [
        "from sklearn.datasets import make_classification\n",
        "from sklearn.experimental import enable_hist_gradient_boosting\n",
        "from sklearn.ensemble import HistGradientBoostingClassifier\n",
        "\n",
        "model_7=HistGradientBoostingClassifier()\n",
        "model_7.fit(X_train,y_train)"
      ],
      "execution_count": null,
      "outputs": [
        {
          "output_type": "execute_result",
          "data": {
            "text/plain": [
              "HistGradientBoostingClassifier(l2_regularization=0.0, learning_rate=0.1,\n",
              "                               loss='auto', max_bins=255, max_depth=None,\n",
              "                               max_iter=100, max_leaf_nodes=31,\n",
              "                               min_samples_leaf=20, n_iter_no_change=None,\n",
              "                               random_state=None, scoring=None, tol=1e-07,\n",
              "                               validation_fraction=0.1, verbose=0,\n",
              "                               warm_start=False)"
            ]
          },
          "metadata": {},
          "execution_count": 46
        }
      ]
    },
    {
      "cell_type": "code",
      "metadata": {
        "colab": {
          "base_uri": "https://localhost:8080/"
        },
        "id": "7T2nVCt-heoN",
        "outputId": "30f1ec4a-d6dd-4834-ebc1-ee0c31e270c6"
      },
      "source": [
        "model_7.score(X_test,y_test)"
      ],
      "execution_count": null,
      "outputs": [
        {
          "output_type": "execute_result",
          "data": {
            "text/plain": [
              "0.3516949152542373"
            ]
          },
          "metadata": {},
          "execution_count": 47
        }
      ]
    },
    {
      "cell_type": "markdown",
      "metadata": {
        "id": "QA260pBWk1rT"
      },
      "source": [
        "Plotting our final results for all 6 models used"
      ]
    },
    {
      "cell_type": "code",
      "metadata": {
        "colab": {
          "base_uri": "https://localhost:8080/",
          "height": 279
        },
        "id": "B6yjxIl2k7BW",
        "outputId": "f7c8a68a-4c72-4ee3-d00b-8a479f0b845c"
      },
      "source": [
        "import matplotlib.pyplot as plt\n",
        "import numpy as np\n",
        "\n",
        "x = np.array([\"SVC\", \"RFC\", \"GB\", \"HGB\",\"Ridge\",\"Bagging\"])\n",
        "y = np.array([model_2.score(X_test,y_test),model_3.score(X_test,y_test),model_6.score(X_test,y_test),model_7.score(X_test,y_test),model_5.score(X_test,y_test),model_4.score(X_test,y_test)])\n",
        "plt.xlabel(\"Models\")\n",
        "plt.ylabel(\"Accuracy Score\")\n",
        "plt.bar(x,y,width = 0.5)\n",
        "plt.show()"
      ],
      "execution_count": null,
      "outputs": [
        {
          "output_type": "display_data",
          "data": {
            "image/png": "[encoded data removed]",
            "text/plain": [
              "<Figure size 432x288 with 1 Axes>"
            ]
          },
          "metadata": {
            "needs_background": "light"
          }
        }
      ]
    },
    {
      "cell_type": "markdown",
      "metadata": {
        "id": "bssit21fiYhq"
      },
      "source": [
        "Scores"
      ]
    },
    {
      "cell_type": "code",
      "metadata": {
        "id": "6ia_mrFggduO"
      },
      "source": [
        "from sklearn.metrics import accuracy_score,precision_recall_fscore_support\n",
        "def calculate_results(y_true, y_pred):\n",
        "  \"\"\"\n",
        "  Calculates model accuracy, precision, recall and f1 score of a binary classification model.\n",
        "  Args:\n",
        "      y_true: true labels in the form of a 1D array\n",
        "      y_pred: predicted labels in the form of a 1D array\n",
        "  Returns a dictionary of accuracy, precision, recall, f1-score.\n",
        "  \"\"\"\n",
        "  # Calculate model accuracy\n",
        "  model_accuracy = accuracy_score(y_true, y_pred) * 100\n",
        "  # Calculate model precision, recall and f1 score using \"weighted average\n",
        "  model_precision, model_recall, model_f1, _ = precision_recall_fscore_support(y_true, y_pred, average=\"weighted\")\n",
        "  model_results = {\"accuracy\": model_accuracy,\n",
        "                  \"precision\": model_precision,\n",
        "                  \"recall\": model_recall,\n",
        "                  \"f1\": model_f1}\n",
        "  return model_results"
      ],
      "execution_count": null,
      "outputs": []
    },
    {
      "cell_type": "markdown",
      "metadata": {
        "id": "PdUf-xTtwIPV"
      },
      "source": [
        "### Calculating the accuracy of HistGradientBoostingClassifier"
      ]
    },
    {
      "cell_type": "code",
      "metadata": {
        "colab": {
          "base_uri": "https://localhost:8080/"
        },
        "id": "wbvMcGrxggng",
        "outputId": "aeeeacd1-8b27-41e1-fd49-5da060f02d29"
      },
      "source": [
        "hgbc_preds=model_7.predict(X_test)\n",
        "hgbc_preds"
      ],
      "execution_count": null,
      "outputs": [
        {
          "output_type": "execute_result",
          "data": {
            "text/plain": [
              "array([1, 2, 2, ..., 1, 2, 3])"
            ]
          },
          "metadata": {},
          "execution_count": 50
        }
      ]
    },
    {
      "cell_type": "code",
      "metadata": {
        "colab": {
          "base_uri": "https://localhost:8080/"
        },
        "id": "7kSNghC0giv_",
        "outputId": "4b9271ad-77e7-40b4-f240-a35876477c36"
      },
      "source": [
        "hgbc_results=calculate_results(y_true=y_test,\n",
        "                  y_pred=hgbc_preds)"
      ],
      "execution_count": null,
      "outputs": [
        {
          "output_type": "execute_result",
          "data": {
            "text/plain": [
              "{'accuracy': 35.16949152542373,\n",
              " 'f1': 0.32957921275011104,\n",
              " 'precision': 0.32961219979899087,\n",
              " 'recall': 0.3516949152542373}"
            ]
          },
          "metadata": {},
          "execution_count": 51
        }
      ]
    },
    {
      "cell_type": "markdown",
      "metadata": {
        "id": "Hg-k_L95wSTw"
      },
      "source": [
        "### Calculating the accuracy of RandomForestClassifier"
      ]
    },
    {
      "cell_type": "code",
      "metadata": {
        "colab": {
          "base_uri": "https://localhost:8080/"
        },
        "id": "wmusuhb3wDNF",
        "outputId": "3257d87c-86af-4252-87dd-b3560a2cdf49"
      },
      "source": [
        "rfclf_preds=model_3.predict(X_test)\n",
        "rfclf_results=calculate_results(y_true=y_test,\n",
        "                  y_pred=rfclf_preds)\n",
        "rfclf_results"
      ],
      "execution_count": null,
      "outputs": [
        {
          "output_type": "execute_result",
          "data": {
            "text/plain": [
              "{'accuracy': 33.88370423546303,\n",
              " 'f1': 0.3189207823783005,\n",
              " 'precision': 0.3192936582390615,\n",
              " 'recall': 0.3388370423546303}"
            ]
          },
          "metadata": {},
          "execution_count": 57
        }
      ]
    },
    {
      "cell_type": "code",
      "metadata": {
        "colab": {
          "base_uri": "https://localhost:8080/"
        },
        "id": "VfpuW_U9wDGb",
        "outputId": "5e485612-c897-4619-fd83-bb076eba4772"
      },
      "source": [
        "ridgeclf_preds=model_5.predict(X_test)\n",
        "ridge_results=calculate_results(y_true=y_test,\n",
        "                  y_pred=ridgeclf_preds)\n",
        "ridge_results"
      ],
      "execution_count": null,
      "outputs": [
        {
          "output_type": "stream",
          "name": "stderr",
          "text": [
            "/usr/local/lib/python3.7/dist-packages/sklearn/metrics/_classification.py:1272: UndefinedMetricWarning: Precision and F-score are ill-defined and being set to 0.0 in labels with no predicted samples. Use `zero_division` parameter to control this behavior.\n",
            "  _warn_prf(average, modifier, msg_start, len(result))\n"
          ]
        },
        {
          "output_type": "execute_result",
          "data": {
            "text/plain": [
              "{'accuracy': 33.74012921751615,\n",
              " 'f1': 0.2629733045366101,\n",
              " 'precision': 0.2528677276406577,\n",
              " 'recall': 0.3374012921751615}"
            ]
          },
          "metadata": {},
          "execution_count": 58
        }
      ]
    },
    {
      "cell_type": "code",
      "metadata": {
        "colab": {
          "base_uri": "https://localhost:8080/"
        },
        "id": "K5Rq4fHLwC9S",
        "outputId": "2c35a6bf-0eee-433c-f955-b0b1989d4e19"
      },
      "source": [
        "gbclf_preds=model_3.predict(X_test)\n",
        "gbclf_results=calculate_results(y_true=y_test,\n",
        "                  y_pred=gbclf_preds)\n",
        "gbclf_results"
      ],
      "execution_count": null,
      "outputs": [
        {
          "output_type": "execute_result",
          "data": {
            "text/plain": [
              "{'accuracy': 33.88370423546303,\n",
              " 'f1': 0.3189207823783005,\n",
              " 'precision': 0.3192936582390615,\n",
              " 'recall': 0.3388370423546303}"
            ]
          },
          "metadata": {},
          "execution_count": 60
        }
      ]
    },
    {
      "cell_type": "code",
      "metadata": {
        "colab": {
          "base_uri": "https://localhost:8080/",
          "height": 172
        },
        "id": "nxFj2W-UwC0i",
        "outputId": "f8a888de-ba84-4d99-b588-6d4b5b8287ee"
      },
      "source": [
        "# Combine model results into a DataFrame\n",
        "import pandas as pd\n",
        "all_model_results=pd.DataFrame({\"Gradient_Boosting_Results\":gbclf_results,\n",
        "                                \"Hist_Gradient_Boosting_Results\":hgbc_results,\n",
        "                                \"Ridge_Classifier_Results\":ridge_results,\n",
        "                                \"Random_Forest_Classifier_Results\":rfclf_results})\n",
        "all_model_results=all_model_results.transpose()\n",
        "all_model_results"
      ],
      "execution_count": null,
      "outputs": [
        {
          "output_type": "execute_result",
          "data": {
            "text/html": [
              "<div>\n",
              "<style scoped>\n",
              "    .dataframe tbody tr th:only-of-type {\n",
              "        vertical-align: middle;\n",
              "    }\n",
              "\n",
              "    .dataframe tbody tr th {\n",
              "        vertical-align: top;\n",
              "    }\n",
              "\n",
              "    .dataframe thead th {\n",
              "        text-align: right;\n",
              "    }\n",
              "</style>\n",
              "<table border=\"1\" class=\"dataframe\">\n",
              "  <thead>\n",
              "    <tr style=\"text-align: right;\">\n",
              "      <th></th>\n",
              "      <th>accuracy</th>\n",
              "      <th>precision</th>\n",
              "      <th>recall</th>\n",
              "      <th>f1</th>\n",
              "    </tr>\n",
              "  </thead>\n",
              "  <tbody>\n",
              "    <tr>\n",
              "      <th>Gradient_Boosting_Results</th>\n",
              "      <td>33.883704</td>\n",
              "      <td>0.319294</td>\n",
              "      <td>0.338837</td>\n",
              "      <td>0.318921</td>\n",
              "    </tr>\n",
              "    <tr>\n",
              "      <th>Hist_Gradient_Boosting_Results</th>\n",
              "      <td>32.878679</td>\n",
              "      <td>0.302077</td>\n",
              "      <td>0.328787</td>\n",
              "      <td>0.306848</td>\n",
              "    </tr>\n",
              "    <tr>\n",
              "      <th>Ridge_Classifier_Results</th>\n",
              "      <td>33.740129</td>\n",
              "      <td>0.252868</td>\n",
              "      <td>0.337401</td>\n",
              "      <td>0.262973</td>\n",
              "    </tr>\n",
              "    <tr>\n",
              "      <th>Random_Forest_Classifier_Results</th>\n",
              "      <td>33.883704</td>\n",
              "      <td>0.319294</td>\n",
              "      <td>0.338837</td>\n",
              "      <td>0.318921</td>\n",
              "    </tr>\n",
              "  </tbody>\n",
              "</table>\n",
              "</div>"
            ],
            "text/plain": [
              "                                   accuracy  precision    recall        f1\n",
              "Gradient_Boosting_Results         33.883704   0.319294  0.338837  0.318921\n",
              "Hist_Gradient_Boosting_Results    32.878679   0.302077  0.328787  0.306848\n",
              "Ridge_Classifier_Results          33.740129   0.252868  0.337401  0.262973\n",
              "Random_Forest_Classifier_Results  33.883704   0.319294  0.338837  0.318921"
            ]
          },
          "metadata": {},
          "execution_count": 61
        }
      ]
    },
    {
      "cell_type": "markdown",
      "metadata": {
        "id": "to1eTEAnihUD"
      },
      "source": [
        "## Hyperparameter Tuning"
      ]
    },
    {
      "cell_type": "markdown",
      "metadata": {
        "id": "m04EsMtWx13C"
      },
      "source": [
        "### Tuning the hyperparameters of `GradientBoostingClassifier`"
      ]
    },
    {
      "cell_type": "code",
      "metadata": {
        "id": "hhSWout5gk9o"
      },
      "source": [
        "from sklearn.model_selection import RepeatedStratifiedKFold\n",
        "from sklearn.model_selection import GridSearchCV\n",
        "\n",
        "model_1 = GradientBoostingClassifier()\n",
        "parameters = {\n",
        "    \"n_estimators\":[5,50,250,500],\n",
        "    \"max_depth\":[1,3,5,7,9],\n",
        "    \"learning_rate\":[0.01,0.1,1,10,100]\n",
        "}\n",
        "\n",
        "\n",
        "cv = GridSearchCV(model_1,parameters,cv=5)\n",
        "cv.fit(X_train,y_train)"
      ],
      "execution_count": null,
      "outputs": []
    }
  ]
}