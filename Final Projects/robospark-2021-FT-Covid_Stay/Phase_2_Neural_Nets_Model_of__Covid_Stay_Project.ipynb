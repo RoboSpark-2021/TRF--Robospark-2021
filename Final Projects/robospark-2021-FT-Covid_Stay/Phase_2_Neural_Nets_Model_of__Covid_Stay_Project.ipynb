{
  "nbformat": 4,
  "nbformat_minor": 0,
  "metadata": {
    "colab": {
      "name": "Phase_2_Neural_Nets_Model_of_ Covid_Stay_Project.ipynb",
      "provenance": [],
      "collapsed_sections": []
    },
    "kernelspec": {
      "display_name": "Python 3",
      "name": "python3"
    },
    "language_info": {
      "name": "python"
    },
    "accelerator": "GPU"
  },
  "cells": [
    {
      "cell_type": "markdown",
      "metadata": {
        "id": "oqrLVt2SzTZM"
      },
      "source": [
        "# End-To-End Covid Stay Project\n",
        "\n",
        "In this project we would have to predict the time span of the patient who is suffering from covid based on certain parameters like:\n",
        "\n",
        "* Hospital_code\n",
        "* Hospital_type_code\n",
        "* city_code_hospital\n",
        "* hospital_region_code\n",
        "* Available_extra_rooms_in_hospital\n",
        "* Department\n",
        "* ward_type\n",
        "* ward_facility_code\n",
        "* Bed_Grade\n",
        "* patient_id\n",
        "..............etc\n"
      ]
    },
    {
      "cell_type": "markdown",
      "metadata": {
        "id": "6ClqwKD4z2Wj"
      },
      "source": [
        "### Importing the data from GitHub"
      ]
    },
    {
      "cell_type": "code",
      "metadata": {
        "colab": {
          "base_uri": "https://localhost:8080/"
        },
        "id": "zl114FhazfxT",
        "outputId": "610878b0-a66b-4118-cda2-816d3bf077f8"
      },
      "source": [
        "!wget https://raw.githubusercontent.com/Adwait01-Bhosale/RoboSpark/master/Covid_Stay_Data.csv"
      ],
      "execution_count": 1,
      "outputs": [
        {
          "output_type": "stream",
          "name": "stdout",
          "text": [
            "--2021-10-15 13:08:40--  https://raw.githubusercontent.com/Adwait01-Bhosale/RoboSpark/master/Covid_Stay_Data.csv\n",
            "Resolving raw.githubusercontent.com (raw.githubusercontent.com)... 185.199.108.133, 185.199.109.133, 185.199.110.133, ...\n",
            "Connecting to raw.githubusercontent.com (raw.githubusercontent.com)|185.199.108.133|:443... connected.\n",
            "HTTP request sent, awaiting response... 200 OK\n",
            "Length: 26915586 (26M) [text/plain]\n",
            "Saving to: ‘Covid_Stay_Data.csv’\n",
            "\n",
            "Covid_Stay_Data.csv 100%[===================>]  25.67M   125MB/s    in 0.2s    \n",
            "\n",
            "2021-10-15 13:08:41 (125 MB/s) - ‘Covid_Stay_Data.csv’ saved [26915586/26915586]\n",
            "\n"
          ]
        }
      ]
    },
    {
      "cell_type": "code",
      "metadata": {
        "id": "xNhkG97OzwhI"
      },
      "source": [
        "# Loading the data using pandas \n",
        "import pandas as pd\n",
        "import random\n",
        "data=pd.read_csv(\"Covid_Stay_Data.csv\")"
      ],
      "execution_count": 2,
      "outputs": []
    },
    {
      "cell_type": "code",
      "metadata": {
        "id": "LjBhgsb3z_lV"
      },
      "source": [
        "#  Taking only 8000 rows of dataset\n",
        "data=data.sample(30000)"
      ],
      "execution_count": 3,
      "outputs": []
    },
    {
      "cell_type": "code",
      "metadata": {
        "colab": {
          "base_uri": "https://localhost:8080/",
          "height": 358
        },
        "id": "AbEvDc_H0VjU",
        "outputId": "76663ae9-73d5-4b8b-8ed6-8664c02ec0fb"
      },
      "source": [
        "data.head()"
      ],
      "execution_count": 4,
      "outputs": [
        {
          "output_type": "execute_result",
          "data": {
            "text/html": [
              "<div>\n",
              "<style scoped>\n",
              "    .dataframe tbody tr th:only-of-type {\n",
              "        vertical-align: middle;\n",
              "    }\n",
              "\n",
              "    .dataframe tbody tr th {\n",
              "        vertical-align: top;\n",
              "    }\n",
              "\n",
              "    .dataframe thead th {\n",
              "        text-align: right;\n",
              "    }\n",
              "</style>\n",
              "<table border=\"1\" class=\"dataframe\">\n",
              "  <thead>\n",
              "    <tr style=\"text-align: right;\">\n",
              "      <th></th>\n",
              "      <th>case_id</th>\n",
              "      <th>Hospital_code</th>\n",
              "      <th>Hospital_type_code</th>\n",
              "      <th>City_Code_Hospital</th>\n",
              "      <th>Hospital_region_code</th>\n",
              "      <th>Available Extra Rooms in Hospital</th>\n",
              "      <th>Department</th>\n",
              "      <th>Ward_Type</th>\n",
              "      <th>Ward_Facility_Code</th>\n",
              "      <th>Bed Grade</th>\n",
              "      <th>patientid</th>\n",
              "      <th>City_Code_Patient</th>\n",
              "      <th>Type of Admission</th>\n",
              "      <th>Severity of Illness</th>\n",
              "      <th>Visitors with Patient</th>\n",
              "      <th>Age</th>\n",
              "      <th>Admission_Deposit</th>\n",
              "      <th>Stay</th>\n",
              "    </tr>\n",
              "  </thead>\n",
              "  <tbody>\n",
              "    <tr>\n",
              "      <th>285735</th>\n",
              "      <td>285736</td>\n",
              "      <td>32</td>\n",
              "      <td>f</td>\n",
              "      <td>9</td>\n",
              "      <td>Y</td>\n",
              "      <td>2</td>\n",
              "      <td>radiotherapy</td>\n",
              "      <td>S</td>\n",
              "      <td>B</td>\n",
              "      <td>3.0</td>\n",
              "      <td>25194</td>\n",
              "      <td>7.0</td>\n",
              "      <td>Trauma</td>\n",
              "      <td>Minor</td>\n",
              "      <td>2</td>\n",
              "      <td>51-60</td>\n",
              "      <td>4366.0</td>\n",
              "      <td>11-20</td>\n",
              "    </tr>\n",
              "    <tr>\n",
              "      <th>302953</th>\n",
              "      <td>302954</td>\n",
              "      <td>32</td>\n",
              "      <td>f</td>\n",
              "      <td>9</td>\n",
              "      <td>Y</td>\n",
              "      <td>2</td>\n",
              "      <td>gynecology</td>\n",
              "      <td>S</td>\n",
              "      <td>B</td>\n",
              "      <td>4.0</td>\n",
              "      <td>36233</td>\n",
              "      <td>8.0</td>\n",
              "      <td>Trauma</td>\n",
              "      <td>Minor</td>\n",
              "      <td>4</td>\n",
              "      <td>41-50</td>\n",
              "      <td>6823.0</td>\n",
              "      <td>51-60</td>\n",
              "    </tr>\n",
              "    <tr>\n",
              "      <th>95795</th>\n",
              "      <td>95796</td>\n",
              "      <td>1</td>\n",
              "      <td>d</td>\n",
              "      <td>10</td>\n",
              "      <td>Y</td>\n",
              "      <td>2</td>\n",
              "      <td>gynecology</td>\n",
              "      <td>R</td>\n",
              "      <td>B</td>\n",
              "      <td>3.0</td>\n",
              "      <td>98211</td>\n",
              "      <td>7.0</td>\n",
              "      <td>Urgent</td>\n",
              "      <td>Moderate</td>\n",
              "      <td>2</td>\n",
              "      <td>31-40</td>\n",
              "      <td>5630.0</td>\n",
              "      <td>21-30</td>\n",
              "    </tr>\n",
              "    <tr>\n",
              "      <th>67963</th>\n",
              "      <td>67964</td>\n",
              "      <td>6</td>\n",
              "      <td>a</td>\n",
              "      <td>6</td>\n",
              "      <td>X</td>\n",
              "      <td>4</td>\n",
              "      <td>gynecology</td>\n",
              "      <td>Q</td>\n",
              "      <td>F</td>\n",
              "      <td>2.0</td>\n",
              "      <td>43902</td>\n",
              "      <td>8.0</td>\n",
              "      <td>Emergency</td>\n",
              "      <td>Extreme</td>\n",
              "      <td>4</td>\n",
              "      <td>41-50</td>\n",
              "      <td>3513.0</td>\n",
              "      <td>21-30</td>\n",
              "    </tr>\n",
              "    <tr>\n",
              "      <th>186867</th>\n",
              "      <td>186868</td>\n",
              "      <td>30</td>\n",
              "      <td>c</td>\n",
              "      <td>3</td>\n",
              "      <td>Z</td>\n",
              "      <td>4</td>\n",
              "      <td>gynecology</td>\n",
              "      <td>Q</td>\n",
              "      <td>A</td>\n",
              "      <td>2.0</td>\n",
              "      <td>64160</td>\n",
              "      <td>8.0</td>\n",
              "      <td>Emergency</td>\n",
              "      <td>Extreme</td>\n",
              "      <td>4</td>\n",
              "      <td>51-60</td>\n",
              "      <td>5248.0</td>\n",
              "      <td>51-60</td>\n",
              "    </tr>\n",
              "  </tbody>\n",
              "</table>\n",
              "</div>"
            ],
            "text/plain": [
              "        case_id  Hospital_code  ... Admission_Deposit   Stay\n",
              "285735   285736             32  ...            4366.0  11-20\n",
              "302953   302954             32  ...            6823.0  51-60\n",
              "95795     95796              1  ...            5630.0  21-30\n",
              "67963     67964              6  ...            3513.0  21-30\n",
              "186867   186868             30  ...            5248.0  51-60\n",
              "\n",
              "[5 rows x 18 columns]"
            ]
          },
          "metadata": {},
          "execution_count": 4
        }
      ]
    },
    {
      "cell_type": "code",
      "metadata": {
        "id": "jK0FKs2H5vrX"
      },
      "source": [
        "# Renaming all the columns to avoid errors of column name \n",
        "data.rename(columns = {'Bed Grade' : 'Bed_Grade', 'Available Extra Rooms in Hospital' : 'Available_Extra_Rooms_in_Hospital','Type of Admission':'Type_of_Admission','Severity of Illness':'Severity_of_Illness','Visitors with Patient':'Visitors_with_Patient'},inplace=True)"
      ],
      "execution_count": 5,
      "outputs": []
    },
    {
      "cell_type": "markdown",
      "metadata": {
        "id": "lhwifl_n0YjN"
      },
      "source": [
        "## Dropping Few Unnecessary Columns"
      ]
    },
    {
      "cell_type": "code",
      "metadata": {
        "id": "vQ0ATWuq08O2"
      },
      "source": [
        "data.drop('case_id',axis=1,inplace=True)"
      ],
      "execution_count": 6,
      "outputs": []
    },
    {
      "cell_type": "code",
      "metadata": {
        "id": "2s9fS4w_KRkP"
      },
      "source": [
        "data.drop('patientid',axis=1,inplace=True)"
      ],
      "execution_count": 7,
      "outputs": []
    },
    {
      "cell_type": "code",
      "metadata": {
        "colab": {
          "base_uri": "https://localhost:8080/"
        },
        "id": "MBvV3chzLbXF",
        "outputId": "83247593-1cab-40a7-a9ff-93d7a5c1df1f"
      },
      "source": [
        "data['Hospital_code'].unique()"
      ],
      "execution_count": 8,
      "outputs": [
        {
          "output_type": "execute_result",
          "data": {
            "text/plain": [
              "array([32,  1,  6, 30, 21, 12, 26, 19, 11, 14, 23, 10, 18,  3, 20, 29, 15,\n",
              "       28,  5,  9, 27, 16, 13,  8, 24, 25, 31,  4, 22, 17,  2,  7])"
            ]
          },
          "metadata": {},
          "execution_count": 8
        }
      ]
    },
    {
      "cell_type": "code",
      "metadata": {
        "id": "ILQOZFBk0-6C"
      },
      "source": [
        "data.drop('Hospital_code',axis=1,inplace=True)"
      ],
      "execution_count": 9,
      "outputs": []
    },
    {
      "cell_type": "code",
      "metadata": {
        "colab": {
          "base_uri": "https://localhost:8080/"
        },
        "id": "OwIKN4orLeUq",
        "outputId": "e5eb752a-3c3a-473b-a761-db85c2fbb68c"
      },
      "source": [
        "data['City_Code_Hospital'].unique()"
      ],
      "execution_count": 10,
      "outputs": [
        {
          "output_type": "execute_result",
          "data": {
            "text/plain": [
              "array([ 9, 10,  6,  3,  2,  7,  1, 13,  4,  5, 11])"
            ]
          },
          "metadata": {},
          "execution_count": 10
        }
      ]
    },
    {
      "cell_type": "code",
      "metadata": {
        "id": "F-sa8o4k1AXp"
      },
      "source": [
        "data.drop('City_Code_Hospital',axis=1,inplace=True)"
      ],
      "execution_count": 11,
      "outputs": []
    },
    {
      "cell_type": "code",
      "metadata": {
        "colab": {
          "base_uri": "https://localhost:8080/"
        },
        "id": "ee9aMRcSMSiL",
        "outputId": "8d9c7f37-6052-4557-8431-882fa439b0d5"
      },
      "source": [
        "data['Visitors_with_Patient'].unique()"
      ],
      "execution_count": 12,
      "outputs": [
        {
          "output_type": "execute_result",
          "data": {
            "text/plain": [
              "array([ 2,  4,  7,  3,  6,  5,  9,  8, 24, 10,  1, 12, 14, 11, 22, 16, 15,\n",
              "       20, 25,  0, 13, 18, 30, 21])"
            ]
          },
          "metadata": {},
          "execution_count": 12
        }
      ]
    },
    {
      "cell_type": "code",
      "metadata": {
        "id": "Em7IrgeO58r5"
      },
      "source": [
        "data.drop('Visitors_with_Patient',axis=1,inplace=True)\n"
      ],
      "execution_count": 13,
      "outputs": []
    },
    {
      "cell_type": "code",
      "metadata": {
        "colab": {
          "base_uri": "https://localhost:8080/"
        },
        "id": "A8L8-uBMbUZD",
        "outputId": "e9a6389f-8392-4ed6-892c-0a0e9daf6791"
      },
      "source": [
        "data['Hospital_region_code'].unique()"
      ],
      "execution_count": 14,
      "outputs": [
        {
          "output_type": "execute_result",
          "data": {
            "text/plain": [
              "array(['Y', 'X', 'Z'], dtype=object)"
            ]
          },
          "metadata": {},
          "execution_count": 14
        }
      ]
    },
    {
      "cell_type": "code",
      "metadata": {
        "id": "SFXCLIRKTat2"
      },
      "source": [
        "data.drop('Hospital_region_code',axis=1, inplace=True)"
      ],
      "execution_count": 15,
      "outputs": []
    },
    {
      "cell_type": "code",
      "metadata": {
        "colab": {
          "base_uri": "https://localhost:8080/"
        },
        "id": "rVwaII9HNwgF",
        "outputId": "a246e951-603d-4c55-f55a-ecceeb42b45f"
      },
      "source": [
        "data.info()"
      ],
      "execution_count": 16,
      "outputs": [
        {
          "output_type": "stream",
          "name": "stdout",
          "text": [
            "<class 'pandas.core.frame.DataFrame'>\n",
            "Int64Index: 30000 entries, 285735 to 204675\n",
            "Data columns (total 12 columns):\n",
            " #   Column                             Non-Null Count  Dtype  \n",
            "---  ------                             --------------  -----  \n",
            " 0   Hospital_type_code                 30000 non-null  object \n",
            " 1   Available_Extra_Rooms_in_Hospital  30000 non-null  int64  \n",
            " 2   Department                         30000 non-null  object \n",
            " 3   Ward_Type                          30000 non-null  object \n",
            " 4   Ward_Facility_Code                 30000 non-null  object \n",
            " 5   Bed_Grade                          29986 non-null  float64\n",
            " 6   City_Code_Patient                  29571 non-null  float64\n",
            " 7   Type_of_Admission                  30000 non-null  object \n",
            " 8   Severity_of_Illness                30000 non-null  object \n",
            " 9   Age                                30000 non-null  object \n",
            " 10  Admission_Deposit                  30000 non-null  float64\n",
            " 11  Stay                               30000 non-null  object \n",
            "dtypes: float64(3), int64(1), object(8)\n",
            "memory usage: 3.0+ MB\n"
          ]
        }
      ]
    },
    {
      "cell_type": "markdown",
      "metadata": {
        "id": "fA3jdJcU4sYT"
      },
      "source": [
        "### Counting the number of ranges of values present in the stay column"
      ]
    },
    {
      "cell_type": "code",
      "metadata": {
        "colab": {
          "base_uri": "https://localhost:8080/"
        },
        "id": "nJMRYKz94o_W",
        "outputId": "bba83e2e-700c-4c08-b5d9-50c5621f028a"
      },
      "source": [
        "data['Stay'].value_counts()"
      ],
      "execution_count": 17,
      "outputs": [
        {
          "output_type": "execute_result",
          "data": {
            "text/plain": [
              "21-30                 8260\n",
              "11-20                 7290\n",
              "31-40                 5165\n",
              "51-60                 3253\n",
              "0-10                  2252\n",
              "41-50                 1135\n",
              "71-80                  967\n",
              "More than 100 Days     681\n",
              "81-90                  461\n",
              "61-70                  276\n",
              "91-100                 260\n",
              "Name: Stay, dtype: int64"
            ]
          },
          "metadata": {},
          "execution_count": 17
        }
      ]
    },
    {
      "cell_type": "code",
      "metadata": {
        "colab": {
          "base_uri": "https://localhost:8080/",
          "height": 307
        },
        "id": "wY_oIdqq4rQp",
        "outputId": "4240a8c5-1cc0-4e7f-dac8-110e2bb50169"
      },
      "source": [
        "data.head()"
      ],
      "execution_count": 18,
      "outputs": [
        {
          "output_type": "execute_result",
          "data": {
            "text/html": [
              "<div>\n",
              "<style scoped>\n",
              "    .dataframe tbody tr th:only-of-type {\n",
              "        vertical-align: middle;\n",
              "    }\n",
              "\n",
              "    .dataframe tbody tr th {\n",
              "        vertical-align: top;\n",
              "    }\n",
              "\n",
              "    .dataframe thead th {\n",
              "        text-align: right;\n",
              "    }\n",
              "</style>\n",
              "<table border=\"1\" class=\"dataframe\">\n",
              "  <thead>\n",
              "    <tr style=\"text-align: right;\">\n",
              "      <th></th>\n",
              "      <th>Hospital_type_code</th>\n",
              "      <th>Available_Extra_Rooms_in_Hospital</th>\n",
              "      <th>Department</th>\n",
              "      <th>Ward_Type</th>\n",
              "      <th>Ward_Facility_Code</th>\n",
              "      <th>Bed_Grade</th>\n",
              "      <th>City_Code_Patient</th>\n",
              "      <th>Type_of_Admission</th>\n",
              "      <th>Severity_of_Illness</th>\n",
              "      <th>Age</th>\n",
              "      <th>Admission_Deposit</th>\n",
              "      <th>Stay</th>\n",
              "    </tr>\n",
              "  </thead>\n",
              "  <tbody>\n",
              "    <tr>\n",
              "      <th>285735</th>\n",
              "      <td>f</td>\n",
              "      <td>2</td>\n",
              "      <td>radiotherapy</td>\n",
              "      <td>S</td>\n",
              "      <td>B</td>\n",
              "      <td>3.0</td>\n",
              "      <td>7.0</td>\n",
              "      <td>Trauma</td>\n",
              "      <td>Minor</td>\n",
              "      <td>51-60</td>\n",
              "      <td>4366.0</td>\n",
              "      <td>11-20</td>\n",
              "    </tr>\n",
              "    <tr>\n",
              "      <th>302953</th>\n",
              "      <td>f</td>\n",
              "      <td>2</td>\n",
              "      <td>gynecology</td>\n",
              "      <td>S</td>\n",
              "      <td>B</td>\n",
              "      <td>4.0</td>\n",
              "      <td>8.0</td>\n",
              "      <td>Trauma</td>\n",
              "      <td>Minor</td>\n",
              "      <td>41-50</td>\n",
              "      <td>6823.0</td>\n",
              "      <td>51-60</td>\n",
              "    </tr>\n",
              "    <tr>\n",
              "      <th>95795</th>\n",
              "      <td>d</td>\n",
              "      <td>2</td>\n",
              "      <td>gynecology</td>\n",
              "      <td>R</td>\n",
              "      <td>B</td>\n",
              "      <td>3.0</td>\n",
              "      <td>7.0</td>\n",
              "      <td>Urgent</td>\n",
              "      <td>Moderate</td>\n",
              "      <td>31-40</td>\n",
              "      <td>5630.0</td>\n",
              "      <td>21-30</td>\n",
              "    </tr>\n",
              "    <tr>\n",
              "      <th>67963</th>\n",
              "      <td>a</td>\n",
              "      <td>4</td>\n",
              "      <td>gynecology</td>\n",
              "      <td>Q</td>\n",
              "      <td>F</td>\n",
              "      <td>2.0</td>\n",
              "      <td>8.0</td>\n",
              "      <td>Emergency</td>\n",
              "      <td>Extreme</td>\n",
              "      <td>41-50</td>\n",
              "      <td>3513.0</td>\n",
              "      <td>21-30</td>\n",
              "    </tr>\n",
              "    <tr>\n",
              "      <th>186867</th>\n",
              "      <td>c</td>\n",
              "      <td>4</td>\n",
              "      <td>gynecology</td>\n",
              "      <td>Q</td>\n",
              "      <td>A</td>\n",
              "      <td>2.0</td>\n",
              "      <td>8.0</td>\n",
              "      <td>Emergency</td>\n",
              "      <td>Extreme</td>\n",
              "      <td>51-60</td>\n",
              "      <td>5248.0</td>\n",
              "      <td>51-60</td>\n",
              "    </tr>\n",
              "  </tbody>\n",
              "</table>\n",
              "</div>"
            ],
            "text/plain": [
              "       Hospital_type_code  ...   Stay\n",
              "285735                  f  ...  11-20\n",
              "302953                  f  ...  51-60\n",
              "95795                   d  ...  21-30\n",
              "67963                   a  ...  21-30\n",
              "186867                  c  ...  51-60\n",
              "\n",
              "[5 rows x 12 columns]"
            ]
          },
          "metadata": {},
          "execution_count": 18
        }
      ]
    },
    {
      "cell_type": "code",
      "metadata": {
        "colab": {
          "base_uri": "https://localhost:8080/"
        },
        "id": "Tw_He4au4yvU",
        "outputId": "84eced89-ffa0-4507-8ab8-32dd19143654"
      },
      "source": [
        "# Checking out the info of every column in the data, also get to know the datatype of each column\n",
        "data.info()"
      ],
      "execution_count": 19,
      "outputs": [
        {
          "output_type": "stream",
          "name": "stdout",
          "text": [
            "<class 'pandas.core.frame.DataFrame'>\n",
            "Int64Index: 30000 entries, 285735 to 204675\n",
            "Data columns (total 12 columns):\n",
            " #   Column                             Non-Null Count  Dtype  \n",
            "---  ------                             --------------  -----  \n",
            " 0   Hospital_type_code                 30000 non-null  object \n",
            " 1   Available_Extra_Rooms_in_Hospital  30000 non-null  int64  \n",
            " 2   Department                         30000 non-null  object \n",
            " 3   Ward_Type                          30000 non-null  object \n",
            " 4   Ward_Facility_Code                 30000 non-null  object \n",
            " 5   Bed_Grade                          29986 non-null  float64\n",
            " 6   City_Code_Patient                  29571 non-null  float64\n",
            " 7   Type_of_Admission                  30000 non-null  object \n",
            " 8   Severity_of_Illness                30000 non-null  object \n",
            " 9   Age                                30000 non-null  object \n",
            " 10  Admission_Deposit                  30000 non-null  float64\n",
            " 11  Stay                               30000 non-null  object \n",
            "dtypes: float64(3), int64(1), object(8)\n",
            "memory usage: 3.0+ MB\n"
          ]
        }
      ]
    },
    {
      "cell_type": "code",
      "metadata": {
        "colab": {
          "base_uri": "https://localhost:8080/"
        },
        "id": "ObYonZok49-J",
        "outputId": "d02786be-8f54-4688-d8fc-44d3344f4dfd"
      },
      "source": [
        "# Checking the shape of our dataset\n",
        "data.shape"
      ],
      "execution_count": 20,
      "outputs": [
        {
          "output_type": "execute_result",
          "data": {
            "text/plain": [
              "(30000, 12)"
            ]
          },
          "metadata": {},
          "execution_count": 20
        }
      ]
    },
    {
      "cell_type": "code",
      "metadata": {
        "id": "HVVK6JLM5C3E"
      },
      "source": [
        "# Here comes the step where we drop the unnecesary range of the column Stay\n",
        "data=data[~data.Stay.str.contains(\"41-50\")]\n",
        "data=data[~data.Stay.str.contains(\"71-80\")]\n",
        "data=data[~data.Stay.str.contains(\"More than 100 Days\")]\n",
        "data=data[~data.Stay.str.contains(\"81-90\")]\n",
        "data=data[~data.Stay.str.contains(\"91-100\")]\n",
        "data=data[~data.Stay.str.contains(\"61-70\")]"
      ],
      "execution_count": 21,
      "outputs": []
    },
    {
      "cell_type": "markdown",
      "metadata": {
        "id": "LYHsduOv5QZN"
      },
      "source": [
        "## `Nan` Values"
      ]
    },
    {
      "cell_type": "code",
      "metadata": {
        "colab": {
          "base_uri": "https://localhost:8080/"
        },
        "id": "7FJoNwSW5WSl",
        "outputId": "16b9ebe5-1264-4ca2-fedf-e8a453538eb4"
      },
      "source": [
        "# Checking the naa values\n",
        "data.isna().sum()"
      ],
      "execution_count": 22,
      "outputs": [
        {
          "output_type": "execute_result",
          "data": {
            "text/plain": [
              "Hospital_type_code                     0\n",
              "Available_Extra_Rooms_in_Hospital      0\n",
              "Department                             0\n",
              "Ward_Type                              0\n",
              "Ward_Facility_Code                     0\n",
              "Bed_Grade                             12\n",
              "City_Code_Patient                    363\n",
              "Type_of_Admission                      0\n",
              "Severity_of_Illness                    0\n",
              "Age                                    0\n",
              "Admission_Deposit                      0\n",
              "Stay                                   0\n",
              "dtype: int64"
            ]
          },
          "metadata": {},
          "execution_count": 22
        }
      ]
    },
    {
      "cell_type": "code",
      "metadata": {
        "id": "eMvZAC_e5b3b"
      },
      "source": [
        "# Let's drop all the nan values of the `City_code_patient` column\n",
        "data['City_Code_Patient'].dropna(inplace=True)"
      ],
      "execution_count": 23,
      "outputs": []
    },
    {
      "cell_type": "code",
      "metadata": {
        "id": "mHYidLZG5nvC"
      },
      "source": [
        "# Let's fill the nan vlaues with mean fot the Bed_Grade Column\n",
        "data.fillna(data['Bed_Grade'].mean(),inplace=True)"
      ],
      "execution_count": 24,
      "outputs": []
    },
    {
      "cell_type": "code",
      "metadata": {
        "colab": {
          "base_uri": "https://localhost:8080/"
        },
        "id": "wkAh5_El6CDd",
        "outputId": "8d165601-832e-4589-fec8-d0dd9babbac5"
      },
      "source": [
        "len(data.columns)"
      ],
      "execution_count": 25,
      "outputs": [
        {
          "output_type": "execute_result",
          "data": {
            "text/plain": [
              "12"
            ]
          },
          "metadata": {},
          "execution_count": 25
        }
      ]
    },
    {
      "cell_type": "markdown",
      "metadata": {
        "id": "ytUX3tcz6GlE"
      },
      "source": [
        "## Data Visualisation"
      ]
    },
    {
      "cell_type": "code",
      "metadata": {
        "id": "9AlkZChw6n3l"
      },
      "source": [
        "import matplotlib.pyplot as plt"
      ],
      "execution_count": 26,
      "outputs": []
    },
    {
      "cell_type": "code",
      "metadata": {
        "colab": {
          "base_uri": "https://localhost:8080/",
          "height": 513
        },
        "id": "OumprLu06LCE",
        "outputId": "18ac07a2-4448-4225-f625-ac60556c84f1"
      },
      "source": [
        "# Plotting an bar plot for Age Vs Stay\n",
        "fig,ax=plt.subplots(figsize=(10,8))\n",
        "ax.bar(data['Age'],data['Stay'],color=['r','g'])\n",
        "ax.set(title='Stay Vs Age',\n",
        "       xlabel=\"Age\",\n",
        "       ylabel='Number of days to stay');"
      ],
      "execution_count": 27,
      "outputs": [
        {
          "output_type": "display_data",
          "data": {
            "image/png": "[encoded data removed]",
            "text/plain": [
              "<Figure size 720x576 with 1 Axes>"
            ]
          },
          "metadata": {
            "needs_background": "light"
          }
        }
      ]
    },
    {
      "cell_type": "code",
      "metadata": {
        "colab": {
          "base_uri": "https://localhost:8080/",
          "height": 514
        },
        "id": "wP1XcuiA6mqd",
        "outputId": "fb685f0d-802b-44bb-ae47-e658b9bc8bea"
      },
      "source": [
        "# Plotting a scatter plot for Available_Extra_Rooms Vs Stay\n",
        "fig,ax=plt.subplots(figsize=(10,8))\n",
        "ax.scatter(data['Available_Extra_Rooms_in_Hospital'],data['Stay'],color=['y'])\n",
        "ax.set(title=\"Available_Extra_Rooms_in_Hospital Vs Stay\",\n",
        "       xlabel=\"Available_Extra_Rooms_in_Hospital\",\n",
        "       ylabel=\"Stay\");"
      ],
      "execution_count": 28,
      "outputs": [
        {
          "output_type": "display_data",
          "data": {
            "image/png": "[encoded data removed]",
            "text/plain": [
              "<Figure size 720x576 with 1 Axes>"
            ]
          },
          "metadata": {
            "needs_background": "light"
          }
        }
      ]
    },
    {
      "cell_type": "markdown",
      "metadata": {
        "id": "N6P3brOS7WNu"
      },
      "source": [
        "## Label Encoding all the categorical columns\n"
      ]
    },
    {
      "cell_type": "code",
      "metadata": {
        "id": "LIKgZPQM7pQn"
      },
      "source": [
        "from sklearn.preprocessing import LabelEncoder\n",
        "le=LabelEncoder()\n",
        "\n",
        "data['Hospital_type_code']=le.fit_transform(data['Hospital_type_code'])\n",
        "data['Department']=le.fit_transform(data['Department'])\n",
        "data['Ward_Type']=le.fit_transform(data['Ward_Type'])\n",
        "data['Ward_Facility_Code']=le.fit_transform(data['Ward_Facility_Code'])\n",
        "data['Type_of_Admission']=le.fit_transform(data['Type_of_Admission'])\n",
        "data['Severity_of_Illness']=le.fit_transform(data['Severity_of_Illness'])\n",
        "data['Age']=le.fit_transform(data['Age'])\n",
        "data['Stay']=le.fit_transform(data['Stay'])"
      ],
      "execution_count": 29,
      "outputs": []
    },
    {
      "cell_type": "markdown",
      "metadata": {
        "id": "Fh8b5h5d7rtq"
      },
      "source": [
        "## Splitting the data into two parts \n",
        "> Here we would be splitting our data into training and testing set where we would be having an ratio of 80:20, which means we would be giving 80% of the data for training part and 20% of the data for testing part"
      ]
    },
    {
      "cell_type": "code",
      "metadata": {
        "id": "VfvIcgbb8B4P"
      },
      "source": [
        "from sklearn.model_selection import train_test_split\n",
        "X=data.drop('Stay',axis=1)\n",
        "y=data['Stay']"
      ],
      "execution_count": 30,
      "outputs": []
    },
    {
      "cell_type": "code",
      "metadata": {
        "id": "2bwzIVDI8ON_"
      },
      "source": [
        "X_train,X_test,y_train,y_test=train_test_split(X,y,test_size=0.2,random_state=42)"
      ],
      "execution_count": 31,
      "outputs": []
    },
    {
      "cell_type": "markdown",
      "metadata": {
        "id": "i0Fpjh2z8Qms"
      },
      "source": [
        "## Calculating the correlation "
      ]
    },
    {
      "cell_type": "code",
      "metadata": {
        "id": "dg8cQM4C8VAk"
      },
      "source": [
        "corr_mat=data.corr()"
      ],
      "execution_count": 32,
      "outputs": []
    },
    {
      "cell_type": "code",
      "metadata": {
        "colab": {
          "base_uri": "https://localhost:8080/",
          "height": 438
        },
        "id": "dAzY-ShS8Wwx",
        "outputId": "11b936ae-28dc-420a-886b-f7d104218973"
      },
      "source": [
        "corr_mat"
      ],
      "execution_count": 33,
      "outputs": [
        {
          "output_type": "execute_result",
          "data": {
            "text/html": [
              "<div>\n",
              "<style scoped>\n",
              "    .dataframe tbody tr th:only-of-type {\n",
              "        vertical-align: middle;\n",
              "    }\n",
              "\n",
              "    .dataframe tbody tr th {\n",
              "        vertical-align: top;\n",
              "    }\n",
              "\n",
              "    .dataframe thead th {\n",
              "        text-align: right;\n",
              "    }\n",
              "</style>\n",
              "<table border=\"1\" class=\"dataframe\">\n",
              "  <thead>\n",
              "    <tr style=\"text-align: right;\">\n",
              "      <th></th>\n",
              "      <th>Hospital_type_code</th>\n",
              "      <th>Available_Extra_Rooms_in_Hospital</th>\n",
              "      <th>Department</th>\n",
              "      <th>Ward_Type</th>\n",
              "      <th>Ward_Facility_Code</th>\n",
              "      <th>Bed_Grade</th>\n",
              "      <th>City_Code_Patient</th>\n",
              "      <th>Type_of_Admission</th>\n",
              "      <th>Severity_of_Illness</th>\n",
              "      <th>Age</th>\n",
              "      <th>Admission_Deposit</th>\n",
              "      <th>Stay</th>\n",
              "    </tr>\n",
              "  </thead>\n",
              "  <tbody>\n",
              "    <tr>\n",
              "      <th>Hospital_type_code</th>\n",
              "      <td>1.000000</td>\n",
              "      <td>-0.112451</td>\n",
              "      <td>-0.005040</td>\n",
              "      <td>0.250037</td>\n",
              "      <td>-0.258111</td>\n",
              "      <td>0.018717</td>\n",
              "      <td>0.063611</td>\n",
              "      <td>0.088345</td>\n",
              "      <td>-0.007328</td>\n",
              "      <td>0.002355</td>\n",
              "      <td>0.029596</td>\n",
              "      <td>0.058762</td>\n",
              "    </tr>\n",
              "    <tr>\n",
              "      <th>Available_Extra_Rooms_in_Hospital</th>\n",
              "      <td>-0.112451</td>\n",
              "      <td>1.000000</td>\n",
              "      <td>0.062981</td>\n",
              "      <td>-0.431688</td>\n",
              "      <td>0.050565</td>\n",
              "      <td>-0.127597</td>\n",
              "      <td>-0.008989</td>\n",
              "      <td>-0.028725</td>\n",
              "      <td>0.014835</td>\n",
              "      <td>-0.146724</td>\n",
              "      <td>-0.150854</td>\n",
              "      <td>-0.080520</td>\n",
              "    </tr>\n",
              "    <tr>\n",
              "      <th>Department</th>\n",
              "      <td>-0.005040</td>\n",
              "      <td>0.062981</td>\n",
              "      <td>1.000000</td>\n",
              "      <td>-0.023531</td>\n",
              "      <td>-0.035845</td>\n",
              "      <td>-0.101044</td>\n",
              "      <td>0.020436</td>\n",
              "      <td>-0.077973</td>\n",
              "      <td>-0.007976</td>\n",
              "      <td>0.041730</td>\n",
              "      <td>-0.080486</td>\n",
              "      <td>0.001571</td>\n",
              "    </tr>\n",
              "    <tr>\n",
              "      <th>Ward_Type</th>\n",
              "      <td>0.250037</td>\n",
              "      <td>-0.431688</td>\n",
              "      <td>-0.023531</td>\n",
              "      <td>1.000000</td>\n",
              "      <td>-0.153413</td>\n",
              "      <td>-0.008858</td>\n",
              "      <td>0.014565</td>\n",
              "      <td>0.023013</td>\n",
              "      <td>0.007398</td>\n",
              "      <td>0.023281</td>\n",
              "      <td>0.060519</td>\n",
              "      <td>0.128055</td>\n",
              "    </tr>\n",
              "    <tr>\n",
              "      <th>Ward_Facility_Code</th>\n",
              "      <td>-0.258111</td>\n",
              "      <td>0.050565</td>\n",
              "      <td>-0.035845</td>\n",
              "      <td>-0.153413</td>\n",
              "      <td>1.000000</td>\n",
              "      <td>0.077509</td>\n",
              "      <td>-0.145414</td>\n",
              "      <td>0.039067</td>\n",
              "      <td>0.007090</td>\n",
              "      <td>-0.000951</td>\n",
              "      <td>-0.031654</td>\n",
              "      <td>0.011925</td>\n",
              "    </tr>\n",
              "    <tr>\n",
              "      <th>Bed_Grade</th>\n",
              "      <td>0.018717</td>\n",
              "      <td>-0.127597</td>\n",
              "      <td>-0.101044</td>\n",
              "      <td>-0.008858</td>\n",
              "      <td>0.077509</td>\n",
              "      <td>1.000000</td>\n",
              "      <td>-0.008145</td>\n",
              "      <td>0.126157</td>\n",
              "      <td>0.034171</td>\n",
              "      <td>0.005467</td>\n",
              "      <td>0.080571</td>\n",
              "      <td>-0.003229</td>\n",
              "    </tr>\n",
              "    <tr>\n",
              "      <th>City_Code_Patient</th>\n",
              "      <td>0.063611</td>\n",
              "      <td>-0.008989</td>\n",
              "      <td>0.020436</td>\n",
              "      <td>0.014565</td>\n",
              "      <td>-0.145414</td>\n",
              "      <td>-0.008145</td>\n",
              "      <td>1.000000</td>\n",
              "      <td>-0.026158</td>\n",
              "      <td>-0.010665</td>\n",
              "      <td>-0.019535</td>\n",
              "      <td>0.024296</td>\n",
              "      <td>-0.034589</td>\n",
              "    </tr>\n",
              "    <tr>\n",
              "      <th>Type_of_Admission</th>\n",
              "      <td>0.088345</td>\n",
              "      <td>-0.028725</td>\n",
              "      <td>-0.077973</td>\n",
              "      <td>0.023013</td>\n",
              "      <td>0.039067</td>\n",
              "      <td>0.126157</td>\n",
              "      <td>-0.026158</td>\n",
              "      <td>1.000000</td>\n",
              "      <td>0.009021</td>\n",
              "      <td>-0.066173</td>\n",
              "      <td>0.054938</td>\n",
              "      <td>0.071321</td>\n",
              "    </tr>\n",
              "    <tr>\n",
              "      <th>Severity_of_Illness</th>\n",
              "      <td>-0.007328</td>\n",
              "      <td>0.014835</td>\n",
              "      <td>-0.007976</td>\n",
              "      <td>0.007398</td>\n",
              "      <td>0.007090</td>\n",
              "      <td>0.034171</td>\n",
              "      <td>-0.010665</td>\n",
              "      <td>0.009021</td>\n",
              "      <td>1.000000</td>\n",
              "      <td>-0.023256</td>\n",
              "      <td>0.021451</td>\n",
              "      <td>-0.008918</td>\n",
              "    </tr>\n",
              "    <tr>\n",
              "      <th>Age</th>\n",
              "      <td>0.002355</td>\n",
              "      <td>-0.146724</td>\n",
              "      <td>0.041730</td>\n",
              "      <td>0.023281</td>\n",
              "      <td>-0.000951</td>\n",
              "      <td>0.005467</td>\n",
              "      <td>-0.019535</td>\n",
              "      <td>-0.066173</td>\n",
              "      <td>-0.023256</td>\n",
              "      <td>1.000000</td>\n",
              "      <td>0.022502</td>\n",
              "      <td>0.079264</td>\n",
              "    </tr>\n",
              "    <tr>\n",
              "      <th>Admission_Deposit</th>\n",
              "      <td>0.029596</td>\n",
              "      <td>-0.150854</td>\n",
              "      <td>-0.080486</td>\n",
              "      <td>0.060519</td>\n",
              "      <td>-0.031654</td>\n",
              "      <td>0.080571</td>\n",
              "      <td>0.024296</td>\n",
              "      <td>0.054938</td>\n",
              "      <td>0.021451</td>\n",
              "      <td>0.022502</td>\n",
              "      <td>1.000000</td>\n",
              "      <td>-0.002502</td>\n",
              "    </tr>\n",
              "    <tr>\n",
              "      <th>Stay</th>\n",
              "      <td>0.058762</td>\n",
              "      <td>-0.080520</td>\n",
              "      <td>0.001571</td>\n",
              "      <td>0.128055</td>\n",
              "      <td>0.011925</td>\n",
              "      <td>-0.003229</td>\n",
              "      <td>-0.034589</td>\n",
              "      <td>0.071321</td>\n",
              "      <td>-0.008918</td>\n",
              "      <td>0.079264</td>\n",
              "      <td>-0.002502</td>\n",
              "      <td>1.000000</td>\n",
              "    </tr>\n",
              "  </tbody>\n",
              "</table>\n",
              "</div>"
            ],
            "text/plain": [
              "                                   Hospital_type_code  ...      Stay\n",
              "Hospital_type_code                           1.000000  ...  0.058762\n",
              "Available_Extra_Rooms_in_Hospital           -0.112451  ... -0.080520\n",
              "Department                                  -0.005040  ...  0.001571\n",
              "Ward_Type                                    0.250037  ...  0.128055\n",
              "Ward_Facility_Code                          -0.258111  ...  0.011925\n",
              "Bed_Grade                                    0.018717  ... -0.003229\n",
              "City_Code_Patient                            0.063611  ... -0.034589\n",
              "Type_of_Admission                            0.088345  ...  0.071321\n",
              "Severity_of_Illness                         -0.007328  ... -0.008918\n",
              "Age                                          0.002355  ...  0.079264\n",
              "Admission_Deposit                            0.029596  ... -0.002502\n",
              "Stay                                         0.058762  ...  1.000000\n",
              "\n",
              "[12 rows x 12 columns]"
            ]
          },
          "metadata": {},
          "execution_count": 33
        }
      ]
    },
    {
      "cell_type": "markdown",
      "metadata": {
        "id": "0idT-dQk8ZsE"
      },
      "source": [
        "# Visualizing the correlation "
      ]
    },
    {
      "cell_type": "code",
      "metadata": {
        "colab": {
          "base_uri": "https://localhost:8080/",
          "height": 760
        },
        "id": "uMKHmXWp8ecQ",
        "outputId": "8f02f7b0-ab8b-4266-bc62-d458bd878ddc"
      },
      "source": [
        "import seaborn as sns\n",
        "fig,ax=plt.subplots(figsize=(12,10))\n",
        "ax=sns.heatmap(corr_mat,\n",
        "              annot=True,\n",
        "              linewidths=0.5,\n",
        "              cmap='Dark2',\n",
        "              fmt='.2f')"
      ],
      "execution_count": 34,
      "outputs": [
        {
          "output_type": "display_data",
          "data": {
            "image/png": "[encoded data removed]",
            "text/plain": [
              "<Figure size 864x720 with 2 Axes>"
            ]
          },
          "metadata": {
            "needs_background": "light"
          }
        }
      ]
    },
    {
      "cell_type": "markdown",
      "metadata": {
        "id": "acTyoaEAFbey"
      },
      "source": [
        "### Plotting a pairplot"
      ]
    },
    {
      "cell_type": "code",
      "metadata": {
        "id": "kTZm14PzFe1m"
      },
      "source": [
        "# sns.pairplot(corr_mat);"
      ],
      "execution_count": null,
      "outputs": []
    },
    {
      "cell_type": "markdown",
      "metadata": {
        "id": "6w4DI66K6L-j"
      },
      "source": [
        "### Here Comes the Neural Nets "
      ]
    },
    {
      "cell_type": "markdown",
      "metadata": {
        "id": "lkLcOlw7B18B"
      },
      "source": [
        "### Creating the first neural network model\n",
        "> Here we would add three layers of dense in which 2 would be the Dense(Input) layer and 1 would be the output layer.\n",
        "\n",
        "We have compiled the model with:\n",
        "* loss: \"mae\"\n",
        "* optimizer: \"adam\"\n",
        "* metrics=\"accuracy\""
      ]
    },
    {
      "cell_type": "code",
      "metadata": {
        "id": "RANEjL2y6OV3"
      },
      "source": [
        "# Creating the model\n",
        "import tensorflow as tf\n",
        "model_1=tf.keras.Sequential([\n",
        "              tf.keras.layers.Dense(100,activation=\"relu\"),\n",
        "              tf.keras.layers.Dense(10,activation=\"relu\"),\n",
        "              tf.keras.layers.Dense(1,activation=\"softmax\",name=\"output_layer\")\n",
        "])\n",
        "# Compile the model\n",
        "model_1.compile(loss=tf.keras.losses.mae,\n",
        "              optimizer=\"adam\",\n",
        "              metrics=[\"accuracy\"])"
      ],
      "execution_count": 36,
      "outputs": []
    },
    {
      "cell_type": "code",
      "metadata": {
        "colab": {
          "base_uri": "https://localhost:8080/"
        },
        "id": "eFH5AqRE7b8q",
        "outputId": "b6bbdb02-da12-426c-acb7-0e1d490a4400"
      },
      "source": [
        "history_model_1=model_1.fit(X_train,\n",
        "          y_train,\n",
        "          epochs=20)"
      ],
      "execution_count": 37,
      "outputs": [
        {
          "output_type": "stream",
          "name": "stdout",
          "text": [
            "Epoch 1/20\n",
            "656/656 [==============================] - 5s 3ms/step - loss: 1.1702 - accuracy: 0.2763\n",
            "Epoch 2/20\n",
            "656/656 [==============================] - 2s 3ms/step - loss: 1.1702 - accuracy: 0.2763\n",
            "Epoch 3/20\n",
            "656/656 [==============================] - 2s 3ms/step - loss: 1.1702 - accuracy: 0.2763\n",
            "Epoch 4/20\n",
            "656/656 [==============================] - 2s 3ms/step - loss: 1.1702 - accuracy: 0.2763\n",
            "Epoch 5/20\n",
            "656/656 [==============================] - 2s 3ms/step - loss: 1.1702 - accuracy: 0.2763\n",
            "Epoch 6/20\n",
            "656/656 [==============================] - 2s 3ms/step - loss: 1.1702 - accuracy: 0.2763\n",
            "Epoch 7/20\n",
            "656/656 [==============================] - 2s 3ms/step - loss: 1.1702 - accuracy: 0.2763\n",
            "Epoch 8/20\n",
            "656/656 [==============================] - 2s 3ms/step - loss: 1.1702 - accuracy: 0.2763\n",
            "Epoch 9/20\n",
            "656/656 [==============================] - 2s 3ms/step - loss: 1.1702 - accuracy: 0.2763\n",
            "Epoch 10/20\n",
            "656/656 [==============================] - 2s 3ms/step - loss: 1.1702 - accuracy: 0.2763\n",
            "Epoch 11/20\n",
            "656/656 [==============================] - 2s 3ms/step - loss: 1.1702 - accuracy: 0.2763\n",
            "Epoch 12/20\n",
            "656/656 [==============================] - 2s 3ms/step - loss: 1.1702 - accuracy: 0.2763\n",
            "Epoch 13/20\n",
            "656/656 [==============================] - 2s 3ms/step - loss: 1.1702 - accuracy: 0.2763\n",
            "Epoch 14/20\n",
            "656/656 [==============================] - 2s 3ms/step - loss: 1.1702 - accuracy: 0.2763\n",
            "Epoch 15/20\n",
            "656/656 [==============================] - 2s 3ms/step - loss: 1.1702 - accuracy: 0.2763\n",
            "Epoch 16/20\n",
            "656/656 [==============================] - 2s 3ms/step - loss: 1.1702 - accuracy: 0.2763\n",
            "Epoch 17/20\n",
            "656/656 [==============================] - 2s 3ms/step - loss: 1.1702 - accuracy: 0.2763\n",
            "Epoch 18/20\n",
            "656/656 [==============================] - 2s 3ms/step - loss: 1.1702 - accuracy: 0.2763\n",
            "Epoch 19/20\n",
            "656/656 [==============================] - 2s 3ms/step - loss: 1.1702 - accuracy: 0.2763\n",
            "Epoch 20/20\n",
            "656/656 [==============================] - 2s 3ms/step - loss: 1.1702 - accuracy: 0.2763\n"
          ]
        }
      ]
    },
    {
      "cell_type": "code",
      "metadata": {
        "colab": {
          "base_uri": "https://localhost:8080/"
        },
        "id": "ciAuT5L39HgW",
        "outputId": "982adb37-dd1b-4c77-bed5-b3c063741d70"
      },
      "source": [
        "model_1.evaluate(X_test,y_test)"
      ],
      "execution_count": 38,
      "outputs": [
        {
          "output_type": "stream",
          "name": "stdout",
          "text": [
            "164/164 [==============================] - 1s 2ms/step - loss: 1.1547 - accuracy: 0.2851\n"
          ]
        },
        {
          "output_type": "execute_result",
          "data": {
            "text/plain": [
              "[1.1546529531478882, 0.2850877046585083]"
            ]
          },
          "metadata": {},
          "execution_count": 38
        }
      ]
    },
    {
      "cell_type": "code",
      "metadata": {
        "colab": {
          "base_uri": "https://localhost:8080/"
        },
        "id": "B2QLrlQp9MRZ",
        "outputId": "c3414046-e1f3-4744-8c5e-4a9baa16e741"
      },
      "source": [
        "model_1.summary()"
      ],
      "execution_count": 39,
      "outputs": [
        {
          "output_type": "stream",
          "name": "stdout",
          "text": [
            "Model: \"sequential\"\n",
            "_________________________________________________________________\n",
            "Layer (type)                 Output Shape              Param #   \n",
            "=================================================================\n",
            "dense (Dense)                (None, 100)               1200      \n",
            "_________________________________________________________________\n",
            "dense_1 (Dense)              (None, 10)                1010      \n",
            "_________________________________________________________________\n",
            "output_layer (Dense)         (None, 1)                 11        \n",
            "=================================================================\n",
            "Total params: 2,221\n",
            "Trainable params: 2,221\n",
            "Non-trainable params: 0\n",
            "_________________________________________________________________\n"
          ]
        }
      ]
    },
    {
      "cell_type": "markdown",
      "metadata": {
        "id": "sBRSyn8HFRAL"
      },
      "source": [
        "## Creating our model_2\n",
        "> This includes extra 2 Dense layers"
      ]
    },
    {
      "cell_type": "code",
      "metadata": {
        "id": "GOUsLeDH9op1"
      },
      "source": [
        "model_2=tf.keras.Sequential([\n",
        "              tf.keras.layers.Dense(1000,activation=\"relu\"),\n",
        "              tf.keras.layers.Dense(100,activation=\"relu\"),\n",
        "              tf.keras.layers.Dense(100,activation=\"relu\"),\n",
        "              tf.keras.layers.Dense(10,activation=\"relu\"),\n",
        "              tf.keras.layers.Dense(1,activation=\"softmax\",name=\"output_layer\")])\n",
        "\n",
        "model_2.compile(loss=\"mae\",\n",
        "                optimizer=\"adam\",\n",
        "                metrics=[\"accuracy\"])"
      ],
      "execution_count": 40,
      "outputs": []
    },
    {
      "cell_type": "code",
      "metadata": {
        "colab": {
          "base_uri": "https://localhost:8080/"
        },
        "id": "_Q9gxHZj-aSD",
        "outputId": "a359f405-dd64-4f81-d150-3f2ce5ef3ade"
      },
      "source": [
        "history_model_2=model_2.fit(X_test,y_test,epochs=20)"
      ],
      "execution_count": 41,
      "outputs": [
        {
          "output_type": "stream",
          "name": "stdout",
          "text": [
            "Epoch 1/20\n",
            "164/164 [==============================] - 1s 4ms/step - loss: 1.1547 - accuracy: 0.2851\n",
            "Epoch 2/20\n",
            "164/164 [==============================] - 1s 3ms/step - loss: 1.1547 - accuracy: 0.2851\n",
            "Epoch 3/20\n",
            "164/164 [==============================] - 1s 3ms/step - loss: 1.1547 - accuracy: 0.2851\n",
            "Epoch 4/20\n",
            "164/164 [==============================] - 1s 3ms/step - loss: 1.1547 - accuracy: 0.2851\n",
            "Epoch 5/20\n",
            "164/164 [==============================] - 1s 3ms/step - loss: 1.1547 - accuracy: 0.2851\n",
            "Epoch 6/20\n",
            "164/164 [==============================] - 1s 3ms/step - loss: 1.1547 - accuracy: 0.2851\n",
            "Epoch 7/20\n",
            "164/164 [==============================] - 1s 3ms/step - loss: 1.1547 - accuracy: 0.2851\n",
            "Epoch 8/20\n",
            "164/164 [==============================] - 1s 4ms/step - loss: 1.1547 - accuracy: 0.2851\n",
            "Epoch 9/20\n",
            "164/164 [==============================] - 1s 3ms/step - loss: 1.1547 - accuracy: 0.2851\n",
            "Epoch 10/20\n",
            "164/164 [==============================] - 1s 3ms/step - loss: 1.1547 - accuracy: 0.2851\n",
            "Epoch 11/20\n",
            "164/164 [==============================] - 1s 3ms/step - loss: 1.1547 - accuracy: 0.2851\n",
            "Epoch 12/20\n",
            "164/164 [==============================] - 1s 3ms/step - loss: 1.1547 - accuracy: 0.2851\n",
            "Epoch 13/20\n",
            "164/164 [==============================] - 1s 3ms/step - loss: 1.1547 - accuracy: 0.2851\n",
            "Epoch 14/20\n",
            "164/164 [==============================] - 1s 4ms/step - loss: 1.1547 - accuracy: 0.2851\n",
            "Epoch 15/20\n",
            "164/164 [==============================] - 1s 3ms/step - loss: 1.1547 - accuracy: 0.2851\n",
            "Epoch 16/20\n",
            "164/164 [==============================] - 1s 3ms/step - loss: 1.1547 - accuracy: 0.2851\n",
            "Epoch 17/20\n",
            "164/164 [==============================] - 1s 3ms/step - loss: 1.1547 - accuracy: 0.2851\n",
            "Epoch 18/20\n",
            "164/164 [==============================] - 1s 3ms/step - loss: 1.1547 - accuracy: 0.2851\n",
            "Epoch 19/20\n",
            "164/164 [==============================] - 1s 3ms/step - loss: 1.1547 - accuracy: 0.2851\n",
            "Epoch 20/20\n",
            "164/164 [==============================] - 1s 3ms/step - loss: 1.1547 - accuracy: 0.2851\n"
          ]
        }
      ]
    },
    {
      "cell_type": "code",
      "metadata": {
        "colab": {
          "base_uri": "https://localhost:8080/"
        },
        "id": "XP1cKao4_AbP",
        "outputId": "3ee4e385-5dab-40c9-b4c2-cec9db1191c0"
      },
      "source": [
        "model_2.evaluate(X_test,y_test)"
      ],
      "execution_count": 42,
      "outputs": [
        {
          "output_type": "stream",
          "name": "stdout",
          "text": [
            "164/164 [==============================] - 1s 2ms/step - loss: 1.1547 - accuracy: 0.2851\n"
          ]
        },
        {
          "output_type": "execute_result",
          "data": {
            "text/plain": [
              "[1.1546529531478882, 0.2850877046585083]"
            ]
          },
          "metadata": {},
          "execution_count": 42
        }
      ]
    },
    {
      "cell_type": "markdown",
      "metadata": {
        "id": "YXF1XZJuFeFL"
      },
      "source": [
        "## Creating an Early Stopping callback\n",
        "\n",
        "> This would help us decrease our training time with best result"
      ]
    },
    {
      "cell_type": "code",
      "metadata": {
        "id": "wZkHpSRXEFGy"
      },
      "source": [
        " callback = tf.keras.callbacks.EarlyStopping(monitor='loss', patience=5,mode=\"max\")"
      ],
      "execution_count": 43,
      "outputs": []
    },
    {
      "cell_type": "markdown",
      "metadata": {
        "id": "f0Y6OyUHGgBE"
      },
      "source": [
        "## Creating model_3 \n",
        "> This model includes hidden neurons with the multiples of 8."
      ]
    },
    {
      "cell_type": "code",
      "metadata": {
        "colab": {
          "base_uri": "https://localhost:8080/"
        },
        "id": "J8UC3dJn_uWe",
        "outputId": "36604201-f03b-4600-c8a9-a41ef52df5ba"
      },
      "source": [
        " model_3 = tf.keras.models.Sequential([tf.keras.layers.Dense(256,activation=\"relu\"),\n",
        "                                       tf.keras.layers.Dense(128,activation=\"relu\"),\n",
        "                                       tf.keras.layers.Dense(64,activation=\"relu\"),\n",
        "                                       tf.keras.layers.Dense(1,activation=\"softmax\")])\n",
        " \n",
        " model_3.compile(loss=\"mae\",\n",
        "                 optimizer=\"adam\",\n",
        "                 metrics=[\"accuracy\"])\n",
        " \n",
        " history_model_3 = model_3.fit(X_train,\n",
        "                       y_train,\n",
        "                       validation_data=(X_test,y_test),\n",
        "                       epochs=30,\n",
        "                       callbacks=[callback])"
      ],
      "execution_count": 58,
      "outputs": [
        {
          "output_type": "stream",
          "name": "stdout",
          "text": [
            "Epoch 1/30\n",
            "656/656 [==============================] - 3s 4ms/step - loss: 1.1702 - accuracy: 0.2763 - val_loss: 1.1547 - val_accuracy: 0.2851\n",
            "Epoch 2/30\n",
            "656/656 [==============================] - 2s 4ms/step - loss: 1.1702 - accuracy: 0.2763 - val_loss: 1.1547 - val_accuracy: 0.2851\n",
            "Epoch 3/30\n",
            "656/656 [==============================] - 2s 4ms/step - loss: 1.1702 - accuracy: 0.2763 - val_loss: 1.1547 - val_accuracy: 0.2851\n",
            "Epoch 4/30\n",
            "656/656 [==============================] - 2s 4ms/step - loss: 1.1702 - accuracy: 0.2763 - val_loss: 1.1547 - val_accuracy: 0.2851\n",
            "Epoch 5/30\n",
            "656/656 [==============================] - 2s 4ms/step - loss: 1.1702 - accuracy: 0.2763 - val_loss: 1.1547 - val_accuracy: 0.2851\n",
            "Epoch 6/30\n",
            "656/656 [==============================] - 2s 4ms/step - loss: 1.1702 - accuracy: 0.2763 - val_loss: 1.1547 - val_accuracy: 0.2851\n"
          ]
        }
      ]
    },
    {
      "cell_type": "code",
      "metadata": {
        "colab": {
          "base_uri": "https://localhost:8080/"
        },
        "id": "_B2VKhvGBF09",
        "outputId": "2c47b3ac-a7b0-4b59-f1ca-bd253f3d054f"
      },
      "source": [
        "model_3.evaluate(X_test,y_test)"
      ],
      "execution_count": 60,
      "outputs": [
        {
          "output_type": "stream",
          "name": "stdout",
          "text": [
            "164/164 [==============================] - 0s 2ms/step - loss: 1.1547 - accuracy: 0.2851\n"
          ]
        },
        {
          "output_type": "execute_result",
          "data": {
            "text/plain": [
              "[1.1546529531478882, 0.2850877046585083]"
            ]
          },
          "metadata": {},
          "execution_count": 60
        }
      ]
    },
    {
      "cell_type": "markdown",
      "metadata": {
        "id": "aJ5_88EPBl-1"
      },
      "source": [
        "## Plot thr loss curves"
      ]
    },
    {
      "cell_type": "markdown",
      "metadata": {
        "id": "iPgOFNEWKw5G"
      },
      "source": [
        "### Plotting the loss curves of model_1"
      ]
    },
    {
      "cell_type": "code",
      "metadata": {
        "colab": {
          "base_uri": "https://localhost:8080/",
          "height": 266
        },
        "id": "Cx-MiKWGK2Ws",
        "outputId": "c935a3b7-6cb4-4cc6-978c-79811a7e7b5b"
      },
      "source": [
        "pd.DataFrame(history_model_1.history).plot();"
      ],
      "execution_count": 61,
      "outputs": [
        {
          "output_type": "display_data",
          "data": {
            "image/png": "[encoded data removed]",
            "text/plain": [
              "<Figure size 432x288 with 1 Axes>"
            ]
          },
          "metadata": {
            "needs_background": "light"
          }
        }
      ]
    },
    {
      "cell_type": "markdown",
      "metadata": {
        "id": "UIW8qRU5LCk6"
      },
      "source": [
        "### Plotting the loss curve of model_2"
      ]
    },
    {
      "cell_type": "code",
      "metadata": {
        "colab": {
          "base_uri": "https://localhost:8080/",
          "height": 282
        },
        "id": "nHHZ4AhHLH5M",
        "outputId": "2cdfb2b0-384a-4905-d09a-aaa369d75e21"
      },
      "source": [
        "pd.DataFrame(history_model_2.history).plot()"
      ],
      "execution_count": 63,
      "outputs": [
        {
          "output_type": "execute_result",
          "data": {
            "text/plain": [
              "<matplotlib.axes._subplots.AxesSubplot at 0x7fa4764edb90>"
            ]
          },
          "metadata": {},
          "execution_count": 63
        },
        {
          "output_type": "display_data",
          "data": {
            "image/png": "[encoded data removed]",
            "text/plain": [
              "<Figure size 432x288 with 1 Axes>"
            ]
          },
          "metadata": {
            "needs_background": "light"
          }
        }
      ]
    },
    {
      "cell_type": "code",
      "metadata": {
        "colab": {
          "base_uri": "https://localhost:8080/",
          "height": 284
        },
        "id": "iFs-rC0QLMBY",
        "outputId": "8f8d29df-9e93-4411-9dd8-bd3ac980344d"
      },
      "source": [
        "### Plotting loss curve of model_3\n",
        "pd.DataFrame(history_model_3.history).plot()"
      ],
      "execution_count": 64,
      "outputs": [
        {
          "output_type": "execute_result",
          "data": {
            "text/plain": [
              "<matplotlib.axes._subplots.AxesSubplot at 0x7fa4761fded0>"
            ]
          },
          "metadata": {},
          "execution_count": 64
        },
        {
          "output_type": "display_data",
          "data": {
            "image/png": "[encoded data removed]",
            "text/plain": [
              "<Figure size 432x288 with 1 Axes>"
            ]
          },
          "metadata": {
            "needs_background": "light"
          }
        }
      ]
    },
    {
      "cell_type": "code",
      "metadata": {
        "id": "XRK9Eq7fLVHm"
      },
      "source": [
        ""
      ],
      "execution_count": null,
      "outputs": []
    }
  ]
}