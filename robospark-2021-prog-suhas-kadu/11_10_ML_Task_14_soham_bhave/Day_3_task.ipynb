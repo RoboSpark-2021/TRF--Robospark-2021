{
  "nbformat": 4,
  "nbformat_minor": 0,
  "metadata": {
    "colab": {
      "name": "Day_3_task.ipynb",
      "provenance": []
    },
    "kernelspec": {
      "name": "python3",
      "display_name": "Python 3"
    },
    "language_info": {
      "name": "python"
    }
  },
  "cells": [
    {
      "cell_type": "markdown",
      "metadata": {
        "id": "XabgqLb_KRkn"
      },
      "source": [
        "\n",
        "\n",
        "\n",
        "# **DRIVE ACCESS AUTHENTICATION**\n",
        "\n",
        "\n"
      ]
    },
    {
      "cell_type": "code",
      "metadata": {
        "colab": {
          "base_uri": "https://localhost:8080/"
        },
        "id": "ajlOTriWLJTy",
        "outputId": "7b8317e2-a3f6-4f2c-c4d2-3cdc326abc2d"
      },
      "source": [
        "from google.colab import drive\n",
        "drive.mount('/content/drive')"
      ],
      "execution_count": 149,
      "outputs": [
        {
          "output_type": "stream",
          "name": "stdout",
          "text": [
            "Drive already mounted at /content/drive; to attempt to forcibly remount, call drive.mount(\"/content/drive\", force_remount=True).\n"
          ]
        }
      ]
    },
    {
      "cell_type": "markdown",
      "metadata": {
        "id": "lQ1J50n5MJdD"
      },
      "source": [
        "# **IMPORTING PACKAGES**"
      ]
    },
    {
      "cell_type": "code",
      "metadata": {
        "id": "vlpEN9L_K_O4"
      },
      "source": [
        "import pandas as pd\n",
        "import numpy as np"
      ],
      "execution_count": 150,
      "outputs": []
    },
    {
      "cell_type": "markdown",
      "metadata": {
        "id": "rf4NAjt6MdCa"
      },
      "source": [
        "# **READING THE DATASET**"
      ]
    },
    {
      "cell_type": "code",
      "metadata": {
        "id": "vDW3_2ytMi0E"
      },
      "source": [
        "df = pd.read_csv('/content/drive/MyDrive/TRF/data.csv')"
      ],
      "execution_count": 151,
      "outputs": []
    },
    {
      "cell_type": "markdown",
      "metadata": {
        "id": "siOEP6klMzMN"
      },
      "source": [
        "# **DATA PREPROCESSING**"
      ]
    },
    {
      "cell_type": "code",
      "metadata": {
        "colab": {
          "base_uri": "https://localhost:8080/",
          "height": 618
        },
        "id": "J2GB7zYFM7ET",
        "outputId": "fb67dd49-627b-491f-fc12-c58394a1f5a9"
      },
      "source": [
        "df"
      ],
      "execution_count": 152,
      "outputs": [
        {
          "output_type": "execute_result",
          "data": {
            "text/html": [
              "<div>\n",
              "<style scoped>\n",
              "    .dataframe tbody tr th:only-of-type {\n",
              "        vertical-align: middle;\n",
              "    }\n",
              "\n",
              "    .dataframe tbody tr th {\n",
              "        vertical-align: top;\n",
              "    }\n",
              "\n",
              "    .dataframe thead th {\n",
              "        text-align: right;\n",
              "    }\n",
              "</style>\n",
              "<table border=\"1\" class=\"dataframe\">\n",
              "  <thead>\n",
              "    <tr style=\"text-align: right;\">\n",
              "      <th></th>\n",
              "      <th>passenger_id</th>\n",
              "      <th>pclass</th>\n",
              "      <th>name</th>\n",
              "      <th>sex</th>\n",
              "      <th>age</th>\n",
              "      <th>sibsp</th>\n",
              "      <th>parch</th>\n",
              "      <th>ticket</th>\n",
              "      <th>fare</th>\n",
              "      <th>cabin</th>\n",
              "      <th>embarked</th>\n",
              "      <th>boat</th>\n",
              "      <th>body</th>\n",
              "      <th>home.dest</th>\n",
              "      <th>survived</th>\n",
              "    </tr>\n",
              "  </thead>\n",
              "  <tbody>\n",
              "    <tr>\n",
              "      <th>0</th>\n",
              "      <td>1216</td>\n",
              "      <td>3</td>\n",
              "      <td>Smyth, Miss. Julia</td>\n",
              "      <td>female</td>\n",
              "      <td>NaN</td>\n",
              "      <td>0</td>\n",
              "      <td>0</td>\n",
              "      <td>335432</td>\n",
              "      <td>7.7333</td>\n",
              "      <td>NaN</td>\n",
              "      <td>Q</td>\n",
              "      <td>13</td>\n",
              "      <td>NaN</td>\n",
              "      <td>NaN</td>\n",
              "      <td>1</td>\n",
              "    </tr>\n",
              "    <tr>\n",
              "      <th>1</th>\n",
              "      <td>699</td>\n",
              "      <td>3</td>\n",
              "      <td>Cacic, Mr. Luka</td>\n",
              "      <td>male</td>\n",
              "      <td>38.0</td>\n",
              "      <td>0</td>\n",
              "      <td>0</td>\n",
              "      <td>315089</td>\n",
              "      <td>8.6625</td>\n",
              "      <td>NaN</td>\n",
              "      <td>S</td>\n",
              "      <td>NaN</td>\n",
              "      <td>NaN</td>\n",
              "      <td>Croatia</td>\n",
              "      <td>0</td>\n",
              "    </tr>\n",
              "    <tr>\n",
              "      <th>2</th>\n",
              "      <td>1267</td>\n",
              "      <td>3</td>\n",
              "      <td>Van Impe, Mrs. Jean Baptiste (Rosalie Paula Go...</td>\n",
              "      <td>female</td>\n",
              "      <td>30.0</td>\n",
              "      <td>1</td>\n",
              "      <td>1</td>\n",
              "      <td>345773</td>\n",
              "      <td>24.1500</td>\n",
              "      <td>NaN</td>\n",
              "      <td>S</td>\n",
              "      <td>NaN</td>\n",
              "      <td>NaN</td>\n",
              "      <td>NaN</td>\n",
              "      <td>0</td>\n",
              "    </tr>\n",
              "    <tr>\n",
              "      <th>3</th>\n",
              "      <td>449</td>\n",
              "      <td>2</td>\n",
              "      <td>Hocking, Mrs. Elizabeth (Eliza Needs)</td>\n",
              "      <td>female</td>\n",
              "      <td>54.0</td>\n",
              "      <td>1</td>\n",
              "      <td>3</td>\n",
              "      <td>29105</td>\n",
              "      <td>23.0000</td>\n",
              "      <td>NaN</td>\n",
              "      <td>S</td>\n",
              "      <td>4</td>\n",
              "      <td>NaN</td>\n",
              "      <td>Cornwall / Akron, OH</td>\n",
              "      <td>1</td>\n",
              "    </tr>\n",
              "    <tr>\n",
              "      <th>4</th>\n",
              "      <td>576</td>\n",
              "      <td>2</td>\n",
              "      <td>Veal, Mr. James</td>\n",
              "      <td>male</td>\n",
              "      <td>40.0</td>\n",
              "      <td>0</td>\n",
              "      <td>0</td>\n",
              "      <td>28221</td>\n",
              "      <td>13.0000</td>\n",
              "      <td>NaN</td>\n",
              "      <td>S</td>\n",
              "      <td>NaN</td>\n",
              "      <td>NaN</td>\n",
              "      <td>Barre, Co Washington, VT</td>\n",
              "      <td>0</td>\n",
              "    </tr>\n",
              "    <tr>\n",
              "      <th>...</th>\n",
              "      <td>...</td>\n",
              "      <td>...</td>\n",
              "      <td>...</td>\n",
              "      <td>...</td>\n",
              "      <td>...</td>\n",
              "      <td>...</td>\n",
              "      <td>...</td>\n",
              "      <td>...</td>\n",
              "      <td>...</td>\n",
              "      <td>...</td>\n",
              "      <td>...</td>\n",
              "      <td>...</td>\n",
              "      <td>...</td>\n",
              "      <td>...</td>\n",
              "      <td>...</td>\n",
              "    </tr>\n",
              "    <tr>\n",
              "      <th>845</th>\n",
              "      <td>158</td>\n",
              "      <td>1</td>\n",
              "      <td>Hipkins, Mr. William Edward</td>\n",
              "      <td>male</td>\n",
              "      <td>55.0</td>\n",
              "      <td>0</td>\n",
              "      <td>0</td>\n",
              "      <td>680</td>\n",
              "      <td>50.0000</td>\n",
              "      <td>C39</td>\n",
              "      <td>S</td>\n",
              "      <td>NaN</td>\n",
              "      <td>NaN</td>\n",
              "      <td>London / Birmingham</td>\n",
              "      <td>0</td>\n",
              "    </tr>\n",
              "    <tr>\n",
              "      <th>846</th>\n",
              "      <td>174</td>\n",
              "      <td>1</td>\n",
              "      <td>Kent, Mr. Edward Austin</td>\n",
              "      <td>male</td>\n",
              "      <td>58.0</td>\n",
              "      <td>0</td>\n",
              "      <td>0</td>\n",
              "      <td>11771</td>\n",
              "      <td>29.7000</td>\n",
              "      <td>B37</td>\n",
              "      <td>C</td>\n",
              "      <td>NaN</td>\n",
              "      <td>258.0</td>\n",
              "      <td>Buffalo, NY</td>\n",
              "      <td>0</td>\n",
              "    </tr>\n",
              "    <tr>\n",
              "      <th>847</th>\n",
              "      <td>467</td>\n",
              "      <td>2</td>\n",
              "      <td>Kantor, Mrs. Sinai (Miriam Sternin)</td>\n",
              "      <td>female</td>\n",
              "      <td>24.0</td>\n",
              "      <td>1</td>\n",
              "      <td>0</td>\n",
              "      <td>244367</td>\n",
              "      <td>26.0000</td>\n",
              "      <td>NaN</td>\n",
              "      <td>S</td>\n",
              "      <td>12</td>\n",
              "      <td>NaN</td>\n",
              "      <td>Moscow / Bronx, NY</td>\n",
              "      <td>1</td>\n",
              "    </tr>\n",
              "    <tr>\n",
              "      <th>848</th>\n",
              "      <td>1112</td>\n",
              "      <td>3</td>\n",
              "      <td>Peacock, Miss. Treasteall</td>\n",
              "      <td>female</td>\n",
              "      <td>3.0</td>\n",
              "      <td>1</td>\n",
              "      <td>1</td>\n",
              "      <td>SOTON/O.Q. 3101315</td>\n",
              "      <td>13.7750</td>\n",
              "      <td>NaN</td>\n",
              "      <td>S</td>\n",
              "      <td>NaN</td>\n",
              "      <td>NaN</td>\n",
              "      <td>NaN</td>\n",
              "      <td>0</td>\n",
              "    </tr>\n",
              "    <tr>\n",
              "      <th>849</th>\n",
              "      <td>425</td>\n",
              "      <td>2</td>\n",
              "      <td>Greenberg, Mr. Samuel</td>\n",
              "      <td>male</td>\n",
              "      <td>52.0</td>\n",
              "      <td>0</td>\n",
              "      <td>0</td>\n",
              "      <td>250647</td>\n",
              "      <td>13.0000</td>\n",
              "      <td>NaN</td>\n",
              "      <td>S</td>\n",
              "      <td>NaN</td>\n",
              "      <td>19.0</td>\n",
              "      <td>Bronx, NY</td>\n",
              "      <td>0</td>\n",
              "    </tr>\n",
              "  </tbody>\n",
              "</table>\n",
              "<p>850 rows × 15 columns</p>\n",
              "</div>"
            ],
            "text/plain": [
              "     passenger_id  pclass  ...                 home.dest survived\n",
              "0            1216       3  ...                       NaN        1\n",
              "1             699       3  ...                   Croatia        0\n",
              "2            1267       3  ...                       NaN        0\n",
              "3             449       2  ...      Cornwall / Akron, OH        1\n",
              "4             576       2  ...  Barre, Co Washington, VT        0\n",
              "..            ...     ...  ...                       ...      ...\n",
              "845           158       1  ...       London / Birmingham        0\n",
              "846           174       1  ...               Buffalo, NY        0\n",
              "847           467       2  ...        Moscow / Bronx, NY        1\n",
              "848          1112       3  ...                       NaN        0\n",
              "849           425       2  ...                 Bronx, NY        0\n",
              "\n",
              "[850 rows x 15 columns]"
            ]
          },
          "metadata": {},
          "execution_count": 152
        }
      ]
    },
    {
      "cell_type": "markdown",
      "metadata": {
        "id": "81LccH93Nw9p"
      },
      "source": [
        "**DATA CLEANING AND REMOVING THE NULL VALUES**"
      ]
    },
    {
      "cell_type": "code",
      "metadata": {
        "colab": {
          "base_uri": "https://localhost:8080/"
        },
        "id": "ffoCdkfxM_FF",
        "outputId": "81bb3dfc-ee91-47db-e8c1-8de2768f4d4e"
      },
      "source": [
        "df.isnull().sum()"
      ],
      "execution_count": 153,
      "outputs": [
        {
          "output_type": "execute_result",
          "data": {
            "text/plain": [
              "passenger_id      0\n",
              "pclass            0\n",
              "name              0\n",
              "sex               0\n",
              "age             174\n",
              "sibsp             0\n",
              "parch             0\n",
              "ticket            0\n",
              "fare              1\n",
              "cabin           659\n",
              "embarked          1\n",
              "boat            542\n",
              "body            777\n",
              "home.dest       386\n",
              "survived          0\n",
              "dtype: int64"
            ]
          },
          "metadata": {},
          "execution_count": 153
        }
      ]
    },
    {
      "cell_type": "code",
      "metadata": {
        "colab": {
          "base_uri": "https://localhost:8080/"
        },
        "id": "b8txanYJOLEi",
        "outputId": "da049fe7-ee78-48e7-95a3-ba13f435b6df"
      },
      "source": [
        "df['age'].count()"
      ],
      "execution_count": 154,
      "outputs": [
        {
          "output_type": "execute_result",
          "data": {
            "text/plain": [
              "676"
            ]
          },
          "metadata": {},
          "execution_count": 154
        }
      ]
    },
    {
      "cell_type": "code",
      "metadata": {
        "colab": {
          "base_uri": "https://localhost:8080/"
        },
        "id": "3CFDurveOnDh",
        "outputId": "9b7945cb-fff0-40af-d91a-23bdcec18ffd"
      },
      "source": [
        "df['cabin'].count()"
      ],
      "execution_count": 155,
      "outputs": [
        {
          "output_type": "execute_result",
          "data": {
            "text/plain": [
              "191"
            ]
          },
          "metadata": {},
          "execution_count": 155
        }
      ]
    },
    {
      "cell_type": "code",
      "metadata": {
        "colab": {
          "base_uri": "https://localhost:8080/"
        },
        "id": "njQf4ck6Oqxu",
        "outputId": "955938fb-c970-4191-ee8d-1335db696cf4"
      },
      "source": [
        "df['boat'].count()"
      ],
      "execution_count": 156,
      "outputs": [
        {
          "output_type": "execute_result",
          "data": {
            "text/plain": [
              "308"
            ]
          },
          "metadata": {},
          "execution_count": 156
        }
      ]
    },
    {
      "cell_type": "code",
      "metadata": {
        "colab": {
          "base_uri": "https://localhost:8080/"
        },
        "id": "jNrnEsTPOt2l",
        "outputId": "85cb9004-4ab8-4368-d654-798b233b9c4d"
      },
      "source": [
        "df['body'].count()"
      ],
      "execution_count": 157,
      "outputs": [
        {
          "output_type": "execute_result",
          "data": {
            "text/plain": [
              "73"
            ]
          },
          "metadata": {},
          "execution_count": 157
        }
      ]
    },
    {
      "cell_type": "code",
      "metadata": {
        "colab": {
          "base_uri": "https://localhost:8080/"
        },
        "id": "2Kw33f2KOwsT",
        "outputId": "1adefef0-ad20-4226-fea7-85b68274766f"
      },
      "source": [
        "df['home.dest'].count()"
      ],
      "execution_count": 158,
      "outputs": [
        {
          "output_type": "execute_result",
          "data": {
            "text/plain": [
              "464"
            ]
          },
          "metadata": {},
          "execution_count": 158
        }
      ]
    },
    {
      "cell_type": "code",
      "metadata": {
        "id": "6LSBZJPgPDCO"
      },
      "source": [
        "df.drop(labels = {'body','cabin','home.dest','boat','name','ticket'} , axis = 1 , inplace = True)"
      ],
      "execution_count": 159,
      "outputs": []
    },
    {
      "cell_type": "code",
      "metadata": {
        "colab": {
          "base_uri": "https://localhost:8080/",
          "height": 417
        },
        "id": "wU4kcrAIPxip",
        "outputId": "0e27b2e0-eed5-420d-fce7-71b5a5892dfd"
      },
      "source": [
        "df"
      ],
      "execution_count": 160,
      "outputs": [
        {
          "output_type": "execute_result",
          "data": {
            "text/html": [
              "<div>\n",
              "<style scoped>\n",
              "    .dataframe tbody tr th:only-of-type {\n",
              "        vertical-align: middle;\n",
              "    }\n",
              "\n",
              "    .dataframe tbody tr th {\n",
              "        vertical-align: top;\n",
              "    }\n",
              "\n",
              "    .dataframe thead th {\n",
              "        text-align: right;\n",
              "    }\n",
              "</style>\n",
              "<table border=\"1\" class=\"dataframe\">\n",
              "  <thead>\n",
              "    <tr style=\"text-align: right;\">\n",
              "      <th></th>\n",
              "      <th>passenger_id</th>\n",
              "      <th>pclass</th>\n",
              "      <th>sex</th>\n",
              "      <th>age</th>\n",
              "      <th>sibsp</th>\n",
              "      <th>parch</th>\n",
              "      <th>fare</th>\n",
              "      <th>embarked</th>\n",
              "      <th>survived</th>\n",
              "    </tr>\n",
              "  </thead>\n",
              "  <tbody>\n",
              "    <tr>\n",
              "      <th>0</th>\n",
              "      <td>1216</td>\n",
              "      <td>3</td>\n",
              "      <td>female</td>\n",
              "      <td>NaN</td>\n",
              "      <td>0</td>\n",
              "      <td>0</td>\n",
              "      <td>7.7333</td>\n",
              "      <td>Q</td>\n",
              "      <td>1</td>\n",
              "    </tr>\n",
              "    <tr>\n",
              "      <th>1</th>\n",
              "      <td>699</td>\n",
              "      <td>3</td>\n",
              "      <td>male</td>\n",
              "      <td>38.0</td>\n",
              "      <td>0</td>\n",
              "      <td>0</td>\n",
              "      <td>8.6625</td>\n",
              "      <td>S</td>\n",
              "      <td>0</td>\n",
              "    </tr>\n",
              "    <tr>\n",
              "      <th>2</th>\n",
              "      <td>1267</td>\n",
              "      <td>3</td>\n",
              "      <td>female</td>\n",
              "      <td>30.0</td>\n",
              "      <td>1</td>\n",
              "      <td>1</td>\n",
              "      <td>24.1500</td>\n",
              "      <td>S</td>\n",
              "      <td>0</td>\n",
              "    </tr>\n",
              "    <tr>\n",
              "      <th>3</th>\n",
              "      <td>449</td>\n",
              "      <td>2</td>\n",
              "      <td>female</td>\n",
              "      <td>54.0</td>\n",
              "      <td>1</td>\n",
              "      <td>3</td>\n",
              "      <td>23.0000</td>\n",
              "      <td>S</td>\n",
              "      <td>1</td>\n",
              "    </tr>\n",
              "    <tr>\n",
              "      <th>4</th>\n",
              "      <td>576</td>\n",
              "      <td>2</td>\n",
              "      <td>male</td>\n",
              "      <td>40.0</td>\n",
              "      <td>0</td>\n",
              "      <td>0</td>\n",
              "      <td>13.0000</td>\n",
              "      <td>S</td>\n",
              "      <td>0</td>\n",
              "    </tr>\n",
              "    <tr>\n",
              "      <th>...</th>\n",
              "      <td>...</td>\n",
              "      <td>...</td>\n",
              "      <td>...</td>\n",
              "      <td>...</td>\n",
              "      <td>...</td>\n",
              "      <td>...</td>\n",
              "      <td>...</td>\n",
              "      <td>...</td>\n",
              "      <td>...</td>\n",
              "    </tr>\n",
              "    <tr>\n",
              "      <th>845</th>\n",
              "      <td>158</td>\n",
              "      <td>1</td>\n",
              "      <td>male</td>\n",
              "      <td>55.0</td>\n",
              "      <td>0</td>\n",
              "      <td>0</td>\n",
              "      <td>50.0000</td>\n",
              "      <td>S</td>\n",
              "      <td>0</td>\n",
              "    </tr>\n",
              "    <tr>\n",
              "      <th>846</th>\n",
              "      <td>174</td>\n",
              "      <td>1</td>\n",
              "      <td>male</td>\n",
              "      <td>58.0</td>\n",
              "      <td>0</td>\n",
              "      <td>0</td>\n",
              "      <td>29.7000</td>\n",
              "      <td>C</td>\n",
              "      <td>0</td>\n",
              "    </tr>\n",
              "    <tr>\n",
              "      <th>847</th>\n",
              "      <td>467</td>\n",
              "      <td>2</td>\n",
              "      <td>female</td>\n",
              "      <td>24.0</td>\n",
              "      <td>1</td>\n",
              "      <td>0</td>\n",
              "      <td>26.0000</td>\n",
              "      <td>S</td>\n",
              "      <td>1</td>\n",
              "    </tr>\n",
              "    <tr>\n",
              "      <th>848</th>\n",
              "      <td>1112</td>\n",
              "      <td>3</td>\n",
              "      <td>female</td>\n",
              "      <td>3.0</td>\n",
              "      <td>1</td>\n",
              "      <td>1</td>\n",
              "      <td>13.7750</td>\n",
              "      <td>S</td>\n",
              "      <td>0</td>\n",
              "    </tr>\n",
              "    <tr>\n",
              "      <th>849</th>\n",
              "      <td>425</td>\n",
              "      <td>2</td>\n",
              "      <td>male</td>\n",
              "      <td>52.0</td>\n",
              "      <td>0</td>\n",
              "      <td>0</td>\n",
              "      <td>13.0000</td>\n",
              "      <td>S</td>\n",
              "      <td>0</td>\n",
              "    </tr>\n",
              "  </tbody>\n",
              "</table>\n",
              "<p>850 rows × 9 columns</p>\n",
              "</div>"
            ],
            "text/plain": [
              "     passenger_id  pclass     sex   age  ...  parch     fare  embarked survived\n",
              "0            1216       3  female   NaN  ...      0   7.7333         Q        1\n",
              "1             699       3    male  38.0  ...      0   8.6625         S        0\n",
              "2            1267       3  female  30.0  ...      1  24.1500         S        0\n",
              "3             449       2  female  54.0  ...      3  23.0000         S        1\n",
              "4             576       2    male  40.0  ...      0  13.0000         S        0\n",
              "..            ...     ...     ...   ...  ...    ...      ...       ...      ...\n",
              "845           158       1    male  55.0  ...      0  50.0000         S        0\n",
              "846           174       1    male  58.0  ...      0  29.7000         C        0\n",
              "847           467       2  female  24.0  ...      0  26.0000         S        1\n",
              "848          1112       3  female   3.0  ...      1  13.7750         S        0\n",
              "849           425       2    male  52.0  ...      0  13.0000         S        0\n",
              "\n",
              "[850 rows x 9 columns]"
            ]
          },
          "metadata": {},
          "execution_count": 160
        }
      ]
    },
    {
      "cell_type": "code",
      "metadata": {
        "colab": {
          "base_uri": "https://localhost:8080/"
        },
        "id": "IXDszJSrQYyn",
        "outputId": "d8baacef-e195-416e-f7dd-b248074ef81c"
      },
      "source": [
        "df.isnull().sum()"
      ],
      "execution_count": 161,
      "outputs": [
        {
          "output_type": "execute_result",
          "data": {
            "text/plain": [
              "passenger_id      0\n",
              "pclass            0\n",
              "sex               0\n",
              "age             174\n",
              "sibsp             0\n",
              "parch             0\n",
              "fare              1\n",
              "embarked          1\n",
              "survived          0\n",
              "dtype: int64"
            ]
          },
          "metadata": {},
          "execution_count": 161
        }
      ]
    },
    {
      "cell_type": "code",
      "metadata": {
        "colab": {
          "base_uri": "https://localhost:8080/",
          "height": 417
        },
        "id": "i9lTG43rP2G8",
        "outputId": "bae66ce6-af51-4007-89d2-882e5b33beae"
      },
      "source": [
        "new_df = df.dropna()\n",
        "new_df"
      ],
      "execution_count": 162,
      "outputs": [
        {
          "output_type": "execute_result",
          "data": {
            "text/html": [
              "<div>\n",
              "<style scoped>\n",
              "    .dataframe tbody tr th:only-of-type {\n",
              "        vertical-align: middle;\n",
              "    }\n",
              "\n",
              "    .dataframe tbody tr th {\n",
              "        vertical-align: top;\n",
              "    }\n",
              "\n",
              "    .dataframe thead th {\n",
              "        text-align: right;\n",
              "    }\n",
              "</style>\n",
              "<table border=\"1\" class=\"dataframe\">\n",
              "  <thead>\n",
              "    <tr style=\"text-align: right;\">\n",
              "      <th></th>\n",
              "      <th>passenger_id</th>\n",
              "      <th>pclass</th>\n",
              "      <th>sex</th>\n",
              "      <th>age</th>\n",
              "      <th>sibsp</th>\n",
              "      <th>parch</th>\n",
              "      <th>fare</th>\n",
              "      <th>embarked</th>\n",
              "      <th>survived</th>\n",
              "    </tr>\n",
              "  </thead>\n",
              "  <tbody>\n",
              "    <tr>\n",
              "      <th>1</th>\n",
              "      <td>699</td>\n",
              "      <td>3</td>\n",
              "      <td>male</td>\n",
              "      <td>38.0</td>\n",
              "      <td>0</td>\n",
              "      <td>0</td>\n",
              "      <td>8.6625</td>\n",
              "      <td>S</td>\n",
              "      <td>0</td>\n",
              "    </tr>\n",
              "    <tr>\n",
              "      <th>2</th>\n",
              "      <td>1267</td>\n",
              "      <td>3</td>\n",
              "      <td>female</td>\n",
              "      <td>30.0</td>\n",
              "      <td>1</td>\n",
              "      <td>1</td>\n",
              "      <td>24.1500</td>\n",
              "      <td>S</td>\n",
              "      <td>0</td>\n",
              "    </tr>\n",
              "    <tr>\n",
              "      <th>3</th>\n",
              "      <td>449</td>\n",
              "      <td>2</td>\n",
              "      <td>female</td>\n",
              "      <td>54.0</td>\n",
              "      <td>1</td>\n",
              "      <td>3</td>\n",
              "      <td>23.0000</td>\n",
              "      <td>S</td>\n",
              "      <td>1</td>\n",
              "    </tr>\n",
              "    <tr>\n",
              "      <th>4</th>\n",
              "      <td>576</td>\n",
              "      <td>2</td>\n",
              "      <td>male</td>\n",
              "      <td>40.0</td>\n",
              "      <td>0</td>\n",
              "      <td>0</td>\n",
              "      <td>13.0000</td>\n",
              "      <td>S</td>\n",
              "      <td>0</td>\n",
              "    </tr>\n",
              "    <tr>\n",
              "      <th>5</th>\n",
              "      <td>1083</td>\n",
              "      <td>3</td>\n",
              "      <td>male</td>\n",
              "      <td>28.0</td>\n",
              "      <td>0</td>\n",
              "      <td>0</td>\n",
              "      <td>22.5250</td>\n",
              "      <td>S</td>\n",
              "      <td>0</td>\n",
              "    </tr>\n",
              "    <tr>\n",
              "      <th>...</th>\n",
              "      <td>...</td>\n",
              "      <td>...</td>\n",
              "      <td>...</td>\n",
              "      <td>...</td>\n",
              "      <td>...</td>\n",
              "      <td>...</td>\n",
              "      <td>...</td>\n",
              "      <td>...</td>\n",
              "      <td>...</td>\n",
              "    </tr>\n",
              "    <tr>\n",
              "      <th>845</th>\n",
              "      <td>158</td>\n",
              "      <td>1</td>\n",
              "      <td>male</td>\n",
              "      <td>55.0</td>\n",
              "      <td>0</td>\n",
              "      <td>0</td>\n",
              "      <td>50.0000</td>\n",
              "      <td>S</td>\n",
              "      <td>0</td>\n",
              "    </tr>\n",
              "    <tr>\n",
              "      <th>846</th>\n",
              "      <td>174</td>\n",
              "      <td>1</td>\n",
              "      <td>male</td>\n",
              "      <td>58.0</td>\n",
              "      <td>0</td>\n",
              "      <td>0</td>\n",
              "      <td>29.7000</td>\n",
              "      <td>C</td>\n",
              "      <td>0</td>\n",
              "    </tr>\n",
              "    <tr>\n",
              "      <th>847</th>\n",
              "      <td>467</td>\n",
              "      <td>2</td>\n",
              "      <td>female</td>\n",
              "      <td>24.0</td>\n",
              "      <td>1</td>\n",
              "      <td>0</td>\n",
              "      <td>26.0000</td>\n",
              "      <td>S</td>\n",
              "      <td>1</td>\n",
              "    </tr>\n",
              "    <tr>\n",
              "      <th>848</th>\n",
              "      <td>1112</td>\n",
              "      <td>3</td>\n",
              "      <td>female</td>\n",
              "      <td>3.0</td>\n",
              "      <td>1</td>\n",
              "      <td>1</td>\n",
              "      <td>13.7750</td>\n",
              "      <td>S</td>\n",
              "      <td>0</td>\n",
              "    </tr>\n",
              "    <tr>\n",
              "      <th>849</th>\n",
              "      <td>425</td>\n",
              "      <td>2</td>\n",
              "      <td>male</td>\n",
              "      <td>52.0</td>\n",
              "      <td>0</td>\n",
              "      <td>0</td>\n",
              "      <td>13.0000</td>\n",
              "      <td>S</td>\n",
              "      <td>0</td>\n",
              "    </tr>\n",
              "  </tbody>\n",
              "</table>\n",
              "<p>674 rows × 9 columns</p>\n",
              "</div>"
            ],
            "text/plain": [
              "     passenger_id  pclass     sex   age  ...  parch     fare  embarked survived\n",
              "1             699       3    male  38.0  ...      0   8.6625         S        0\n",
              "2            1267       3  female  30.0  ...      1  24.1500         S        0\n",
              "3             449       2  female  54.0  ...      3  23.0000         S        1\n",
              "4             576       2    male  40.0  ...      0  13.0000         S        0\n",
              "5            1083       3    male  28.0  ...      0  22.5250         S        0\n",
              "..            ...     ...     ...   ...  ...    ...      ...       ...      ...\n",
              "845           158       1    male  55.0  ...      0  50.0000         S        0\n",
              "846           174       1    male  58.0  ...      0  29.7000         C        0\n",
              "847           467       2  female  24.0  ...      0  26.0000         S        1\n",
              "848          1112       3  female   3.0  ...      1  13.7750         S        0\n",
              "849           425       2    male  52.0  ...      0  13.0000         S        0\n",
              "\n",
              "[674 rows x 9 columns]"
            ]
          },
          "metadata": {},
          "execution_count": 162
        }
      ]
    },
    {
      "cell_type": "code",
      "metadata": {
        "colab": {
          "base_uri": "https://localhost:8080/"
        },
        "id": "Y_F9S4VWQDbu",
        "outputId": "abca9520-9e3c-4630-bc8b-57db08605e12"
      },
      "source": [
        "new_df.isnull().sum()"
      ],
      "execution_count": 163,
      "outputs": [
        {
          "output_type": "execute_result",
          "data": {
            "text/plain": [
              "passenger_id    0\n",
              "pclass          0\n",
              "sex             0\n",
              "age             0\n",
              "sibsp           0\n",
              "parch           0\n",
              "fare            0\n",
              "embarked        0\n",
              "survived        0\n",
              "dtype: int64"
            ]
          },
          "metadata": {},
          "execution_count": 163
        }
      ]
    },
    {
      "cell_type": "code",
      "metadata": {
        "colab": {
          "base_uri": "https://localhost:8080/"
        },
        "id": "nA6Q2PnuQlJx",
        "outputId": "99434762-9590-4575-cea7-09319fb219c7"
      },
      "source": [
        "new_df.shape"
      ],
      "execution_count": 164,
      "outputs": [
        {
          "output_type": "execute_result",
          "data": {
            "text/plain": [
              "(674, 9)"
            ]
          },
          "metadata": {},
          "execution_count": 164
        }
      ]
    },
    {
      "cell_type": "code",
      "metadata": {
        "colab": {
          "base_uri": "https://localhost:8080/"
        },
        "id": "_6Zfu-pWR6Fm",
        "outputId": "0afa2081-4d90-462f-c6a1-2515c80779f3"
      },
      "source": [
        "df.isnull().sum()"
      ],
      "execution_count": 165,
      "outputs": [
        {
          "output_type": "execute_result",
          "data": {
            "text/plain": [
              "passenger_id      0\n",
              "pclass            0\n",
              "sex               0\n",
              "age             174\n",
              "sibsp             0\n",
              "parch             0\n",
              "fare              1\n",
              "embarked          1\n",
              "survived          0\n",
              "dtype: int64"
            ]
          },
          "metadata": {},
          "execution_count": 165
        }
      ]
    },
    {
      "cell_type": "code",
      "metadata": {
        "id": "IFgUMQJwTKaF"
      },
      "source": [
        "df = df.dropna(subset = ['fare','embarked'])"
      ],
      "execution_count": 166,
      "outputs": []
    },
    {
      "cell_type": "code",
      "metadata": {
        "colab": {
          "base_uri": "https://localhost:8080/"
        },
        "id": "BSdewAf4TUR2",
        "outputId": "f4120d1f-680e-43f0-b583-34592aeac7c6"
      },
      "source": [
        "df.isnull().sum()"
      ],
      "execution_count": 167,
      "outputs": [
        {
          "output_type": "execute_result",
          "data": {
            "text/plain": [
              "passenger_id      0\n",
              "pclass            0\n",
              "sex               0\n",
              "age             174\n",
              "sibsp             0\n",
              "parch             0\n",
              "fare              0\n",
              "embarked          0\n",
              "survived          0\n",
              "dtype: int64"
            ]
          },
          "metadata": {},
          "execution_count": 167
        }
      ]
    },
    {
      "cell_type": "markdown",
      "metadata": {
        "id": "AxvqkqqgRKXY"
      },
      "source": [
        "**REPLACING THE NULL VALUES WITH MEAN OR MEDIAN VALUES**"
      ]
    },
    {
      "cell_type": "code",
      "metadata": {
        "colab": {
          "base_uri": "https://localhost:8080/"
        },
        "id": "c7smDxyaQ1sT",
        "outputId": "bb783b3f-f7a6-4759-fa8a-d1f2bbaa7ebf"
      },
      "source": [
        "cols_null = ['age']\n",
        "median = []\n",
        "\n",
        "# loop for obtaining the median\n",
        "for i in cols_null: \n",
        "  median.append(df[i].median())  \n",
        "\n",
        "print(\"Median Value : \" , median[0])\n",
        "\n",
        "k = 0 \n",
        "\n",
        "# loop for replacing null values \n",
        "for i in cols_null:\n",
        "  df[i].fillna(median[k] , inplace = True)    # fillna fills the null values \n",
        "  k = k + 1 "
      ],
      "execution_count": 168,
      "outputs": [
        {
          "output_type": "stream",
          "name": "stdout",
          "text": [
            "Median Value :  28.0\n"
          ]
        },
        {
          "output_type": "stream",
          "name": "stderr",
          "text": [
            "/usr/local/lib/python3.7/dist-packages/pandas/core/series.py:4536: SettingWithCopyWarning: \n",
            "A value is trying to be set on a copy of a slice from a DataFrame\n",
            "\n",
            "See the caveats in the documentation: https://pandas.pydata.org/pandas-docs/stable/user_guide/indexing.html#returning-a-view-versus-a-copy\n",
            "  downcast=downcast,\n"
          ]
        }
      ]
    },
    {
      "cell_type": "code",
      "metadata": {
        "colab": {
          "base_uri": "https://localhost:8080/"
        },
        "id": "6MAIY2MkSVN2",
        "outputId": "70ffad3a-6be9-454b-d6f1-8ff4500625fd"
      },
      "source": [
        "df.isnull().sum()"
      ],
      "execution_count": 169,
      "outputs": [
        {
          "output_type": "execute_result",
          "data": {
            "text/plain": [
              "passenger_id    0\n",
              "pclass          0\n",
              "sex             0\n",
              "age             0\n",
              "sibsp           0\n",
              "parch           0\n",
              "fare            0\n",
              "embarked        0\n",
              "survived        0\n",
              "dtype: int64"
            ]
          },
          "metadata": {},
          "execution_count": 169
        }
      ]
    },
    {
      "cell_type": "markdown",
      "metadata": {
        "id": "65oYSuO3ZlzL"
      },
      "source": [
        "**NORMAILZATION OF THE REQUIRED COLUMNS**"
      ]
    },
    {
      "cell_type": "code",
      "metadata": {
        "colab": {
          "base_uri": "https://localhost:8080/",
          "height": 417
        },
        "id": "sd8ApEhxafwh",
        "outputId": "668d43bd-ef3d-4f1f-e91e-f47170f01bc5"
      },
      "source": [
        "df"
      ],
      "execution_count": 170,
      "outputs": [
        {
          "output_type": "execute_result",
          "data": {
            "text/html": [
              "<div>\n",
              "<style scoped>\n",
              "    .dataframe tbody tr th:only-of-type {\n",
              "        vertical-align: middle;\n",
              "    }\n",
              "\n",
              "    .dataframe tbody tr th {\n",
              "        vertical-align: top;\n",
              "    }\n",
              "\n",
              "    .dataframe thead th {\n",
              "        text-align: right;\n",
              "    }\n",
              "</style>\n",
              "<table border=\"1\" class=\"dataframe\">\n",
              "  <thead>\n",
              "    <tr style=\"text-align: right;\">\n",
              "      <th></th>\n",
              "      <th>passenger_id</th>\n",
              "      <th>pclass</th>\n",
              "      <th>sex</th>\n",
              "      <th>age</th>\n",
              "      <th>sibsp</th>\n",
              "      <th>parch</th>\n",
              "      <th>fare</th>\n",
              "      <th>embarked</th>\n",
              "      <th>survived</th>\n",
              "    </tr>\n",
              "  </thead>\n",
              "  <tbody>\n",
              "    <tr>\n",
              "      <th>0</th>\n",
              "      <td>1216</td>\n",
              "      <td>3</td>\n",
              "      <td>female</td>\n",
              "      <td>28.0</td>\n",
              "      <td>0</td>\n",
              "      <td>0</td>\n",
              "      <td>7.7333</td>\n",
              "      <td>Q</td>\n",
              "      <td>1</td>\n",
              "    </tr>\n",
              "    <tr>\n",
              "      <th>1</th>\n",
              "      <td>699</td>\n",
              "      <td>3</td>\n",
              "      <td>male</td>\n",
              "      <td>38.0</td>\n",
              "      <td>0</td>\n",
              "      <td>0</td>\n",
              "      <td>8.6625</td>\n",
              "      <td>S</td>\n",
              "      <td>0</td>\n",
              "    </tr>\n",
              "    <tr>\n",
              "      <th>2</th>\n",
              "      <td>1267</td>\n",
              "      <td>3</td>\n",
              "      <td>female</td>\n",
              "      <td>30.0</td>\n",
              "      <td>1</td>\n",
              "      <td>1</td>\n",
              "      <td>24.1500</td>\n",
              "      <td>S</td>\n",
              "      <td>0</td>\n",
              "    </tr>\n",
              "    <tr>\n",
              "      <th>3</th>\n",
              "      <td>449</td>\n",
              "      <td>2</td>\n",
              "      <td>female</td>\n",
              "      <td>54.0</td>\n",
              "      <td>1</td>\n",
              "      <td>3</td>\n",
              "      <td>23.0000</td>\n",
              "      <td>S</td>\n",
              "      <td>1</td>\n",
              "    </tr>\n",
              "    <tr>\n",
              "      <th>4</th>\n",
              "      <td>576</td>\n",
              "      <td>2</td>\n",
              "      <td>male</td>\n",
              "      <td>40.0</td>\n",
              "      <td>0</td>\n",
              "      <td>0</td>\n",
              "      <td>13.0000</td>\n",
              "      <td>S</td>\n",
              "      <td>0</td>\n",
              "    </tr>\n",
              "    <tr>\n",
              "      <th>...</th>\n",
              "      <td>...</td>\n",
              "      <td>...</td>\n",
              "      <td>...</td>\n",
              "      <td>...</td>\n",
              "      <td>...</td>\n",
              "      <td>...</td>\n",
              "      <td>...</td>\n",
              "      <td>...</td>\n",
              "      <td>...</td>\n",
              "    </tr>\n",
              "    <tr>\n",
              "      <th>845</th>\n",
              "      <td>158</td>\n",
              "      <td>1</td>\n",
              "      <td>male</td>\n",
              "      <td>55.0</td>\n",
              "      <td>0</td>\n",
              "      <td>0</td>\n",
              "      <td>50.0000</td>\n",
              "      <td>S</td>\n",
              "      <td>0</td>\n",
              "    </tr>\n",
              "    <tr>\n",
              "      <th>846</th>\n",
              "      <td>174</td>\n",
              "      <td>1</td>\n",
              "      <td>male</td>\n",
              "      <td>58.0</td>\n",
              "      <td>0</td>\n",
              "      <td>0</td>\n",
              "      <td>29.7000</td>\n",
              "      <td>C</td>\n",
              "      <td>0</td>\n",
              "    </tr>\n",
              "    <tr>\n",
              "      <th>847</th>\n",
              "      <td>467</td>\n",
              "      <td>2</td>\n",
              "      <td>female</td>\n",
              "      <td>24.0</td>\n",
              "      <td>1</td>\n",
              "      <td>0</td>\n",
              "      <td>26.0000</td>\n",
              "      <td>S</td>\n",
              "      <td>1</td>\n",
              "    </tr>\n",
              "    <tr>\n",
              "      <th>848</th>\n",
              "      <td>1112</td>\n",
              "      <td>3</td>\n",
              "      <td>female</td>\n",
              "      <td>3.0</td>\n",
              "      <td>1</td>\n",
              "      <td>1</td>\n",
              "      <td>13.7750</td>\n",
              "      <td>S</td>\n",
              "      <td>0</td>\n",
              "    </tr>\n",
              "    <tr>\n",
              "      <th>849</th>\n",
              "      <td>425</td>\n",
              "      <td>2</td>\n",
              "      <td>male</td>\n",
              "      <td>52.0</td>\n",
              "      <td>0</td>\n",
              "      <td>0</td>\n",
              "      <td>13.0000</td>\n",
              "      <td>S</td>\n",
              "      <td>0</td>\n",
              "    </tr>\n",
              "  </tbody>\n",
              "</table>\n",
              "<p>848 rows × 9 columns</p>\n",
              "</div>"
            ],
            "text/plain": [
              "     passenger_id  pclass     sex   age  ...  parch     fare  embarked survived\n",
              "0            1216       3  female  28.0  ...      0   7.7333         Q        1\n",
              "1             699       3    male  38.0  ...      0   8.6625         S        0\n",
              "2            1267       3  female  30.0  ...      1  24.1500         S        0\n",
              "3             449       2  female  54.0  ...      3  23.0000         S        1\n",
              "4             576       2    male  40.0  ...      0  13.0000         S        0\n",
              "..            ...     ...     ...   ...  ...    ...      ...       ...      ...\n",
              "845           158       1    male  55.0  ...      0  50.0000         S        0\n",
              "846           174       1    male  58.0  ...      0  29.7000         C        0\n",
              "847           467       2  female  24.0  ...      0  26.0000         S        1\n",
              "848          1112       3  female   3.0  ...      1  13.7750         S        0\n",
              "849           425       2    male  52.0  ...      0  13.0000         S        0\n",
              "\n",
              "[848 rows x 9 columns]"
            ]
          },
          "metadata": {},
          "execution_count": 170
        }
      ]
    },
    {
      "cell_type": "code",
      "metadata": {
        "colab": {
          "base_uri": "https://localhost:8080/"
        },
        "id": "x6XB4VPRa2hp",
        "outputId": "ab856ea4-a316-4465-e82b-4d6865a06356"
      },
      "source": [
        "cols_to_normalize = ['age','fare']\n",
        "\n",
        "# Find the maximum and minimum values\n",
        "max = []\n",
        "min = []\n",
        "\n",
        "# loop for getting the max and min of each column \n",
        "for i in cols_to_normalize : \n",
        "  max.append(df[i].max())\n",
        "\n",
        "for i in cols_to_normalize:\n",
        "  min.append(df[i].min())\n",
        "\n",
        "print(\"max = \",max,\"min = \",min)\n",
        "\n",
        "k = 0 \n",
        "\n",
        "# loop for normalizing the column values \n",
        "for i in cols_to_normalize : \n",
        "  df[i] = (df[i] - min[k])/(max[k] - min[k])\n",
        "  k = k + 1 "
      ],
      "execution_count": 171,
      "outputs": [
        {
          "output_type": "stream",
          "name": "stdout",
          "text": [
            "max =  [80.0, 512.3292] min =  [0.1667, 0.0]\n"
          ]
        },
        {
          "output_type": "stream",
          "name": "stderr",
          "text": [
            "/usr/local/lib/python3.7/dist-packages/ipykernel_launcher.py:20: SettingWithCopyWarning: \n",
            "A value is trying to be set on a copy of a slice from a DataFrame.\n",
            "Try using .loc[row_indexer,col_indexer] = value instead\n",
            "\n",
            "See the caveats in the documentation: https://pandas.pydata.org/pandas-docs/stable/user_guide/indexing.html#returning-a-view-versus-a-copy\n"
          ]
        }
      ]
    },
    {
      "cell_type": "code",
      "metadata": {
        "colab": {
          "base_uri": "https://localhost:8080/",
          "height": 417
        },
        "id": "rRubqn1fc3uV",
        "outputId": "b4a4f0fb-c39b-4baf-cf8d-6a5755a20cdc"
      },
      "source": [
        "df"
      ],
      "execution_count": 172,
      "outputs": [
        {
          "output_type": "execute_result",
          "data": {
            "text/html": [
              "<div>\n",
              "<style scoped>\n",
              "    .dataframe tbody tr th:only-of-type {\n",
              "        vertical-align: middle;\n",
              "    }\n",
              "\n",
              "    .dataframe tbody tr th {\n",
              "        vertical-align: top;\n",
              "    }\n",
              "\n",
              "    .dataframe thead th {\n",
              "        text-align: right;\n",
              "    }\n",
              "</style>\n",
              "<table border=\"1\" class=\"dataframe\">\n",
              "  <thead>\n",
              "    <tr style=\"text-align: right;\">\n",
              "      <th></th>\n",
              "      <th>passenger_id</th>\n",
              "      <th>pclass</th>\n",
              "      <th>sex</th>\n",
              "      <th>age</th>\n",
              "      <th>sibsp</th>\n",
              "      <th>parch</th>\n",
              "      <th>fare</th>\n",
              "      <th>embarked</th>\n",
              "      <th>survived</th>\n",
              "    </tr>\n",
              "  </thead>\n",
              "  <tbody>\n",
              "    <tr>\n",
              "      <th>0</th>\n",
              "      <td>1216</td>\n",
              "      <td>3</td>\n",
              "      <td>female</td>\n",
              "      <td>0.348643</td>\n",
              "      <td>0</td>\n",
              "      <td>0</td>\n",
              "      <td>0.015094</td>\n",
              "      <td>Q</td>\n",
              "      <td>1</td>\n",
              "    </tr>\n",
              "    <tr>\n",
              "      <th>1</th>\n",
              "      <td>699</td>\n",
              "      <td>3</td>\n",
              "      <td>male</td>\n",
              "      <td>0.473904</td>\n",
              "      <td>0</td>\n",
              "      <td>0</td>\n",
              "      <td>0.016908</td>\n",
              "      <td>S</td>\n",
              "      <td>0</td>\n",
              "    </tr>\n",
              "    <tr>\n",
              "      <th>2</th>\n",
              "      <td>1267</td>\n",
              "      <td>3</td>\n",
              "      <td>female</td>\n",
              "      <td>0.373695</td>\n",
              "      <td>1</td>\n",
              "      <td>1</td>\n",
              "      <td>0.047138</td>\n",
              "      <td>S</td>\n",
              "      <td>0</td>\n",
              "    </tr>\n",
              "    <tr>\n",
              "      <th>3</th>\n",
              "      <td>449</td>\n",
              "      <td>2</td>\n",
              "      <td>female</td>\n",
              "      <td>0.674321</td>\n",
              "      <td>1</td>\n",
              "      <td>3</td>\n",
              "      <td>0.044893</td>\n",
              "      <td>S</td>\n",
              "      <td>1</td>\n",
              "    </tr>\n",
              "    <tr>\n",
              "      <th>4</th>\n",
              "      <td>576</td>\n",
              "      <td>2</td>\n",
              "      <td>male</td>\n",
              "      <td>0.498956</td>\n",
              "      <td>0</td>\n",
              "      <td>0</td>\n",
              "      <td>0.025374</td>\n",
              "      <td>S</td>\n",
              "      <td>0</td>\n",
              "    </tr>\n",
              "    <tr>\n",
              "      <th>...</th>\n",
              "      <td>...</td>\n",
              "      <td>...</td>\n",
              "      <td>...</td>\n",
              "      <td>...</td>\n",
              "      <td>...</td>\n",
              "      <td>...</td>\n",
              "      <td>...</td>\n",
              "      <td>...</td>\n",
              "      <td>...</td>\n",
              "    </tr>\n",
              "    <tr>\n",
              "      <th>845</th>\n",
              "      <td>158</td>\n",
              "      <td>1</td>\n",
              "      <td>male</td>\n",
              "      <td>0.686847</td>\n",
              "      <td>0</td>\n",
              "      <td>0</td>\n",
              "      <td>0.097594</td>\n",
              "      <td>S</td>\n",
              "      <td>0</td>\n",
              "    </tr>\n",
              "    <tr>\n",
              "      <th>846</th>\n",
              "      <td>174</td>\n",
              "      <td>1</td>\n",
              "      <td>male</td>\n",
              "      <td>0.724426</td>\n",
              "      <td>0</td>\n",
              "      <td>0</td>\n",
              "      <td>0.057971</td>\n",
              "      <td>C</td>\n",
              "      <td>0</td>\n",
              "    </tr>\n",
              "    <tr>\n",
              "      <th>847</th>\n",
              "      <td>467</td>\n",
              "      <td>2</td>\n",
              "      <td>female</td>\n",
              "      <td>0.298538</td>\n",
              "      <td>1</td>\n",
              "      <td>0</td>\n",
              "      <td>0.050749</td>\n",
              "      <td>S</td>\n",
              "      <td>1</td>\n",
              "    </tr>\n",
              "    <tr>\n",
              "      <th>848</th>\n",
              "      <td>1112</td>\n",
              "      <td>3</td>\n",
              "      <td>female</td>\n",
              "      <td>0.035490</td>\n",
              "      <td>1</td>\n",
              "      <td>1</td>\n",
              "      <td>0.026887</td>\n",
              "      <td>S</td>\n",
              "      <td>0</td>\n",
              "    </tr>\n",
              "    <tr>\n",
              "      <th>849</th>\n",
              "      <td>425</td>\n",
              "      <td>2</td>\n",
              "      <td>male</td>\n",
              "      <td>0.649269</td>\n",
              "      <td>0</td>\n",
              "      <td>0</td>\n",
              "      <td>0.025374</td>\n",
              "      <td>S</td>\n",
              "      <td>0</td>\n",
              "    </tr>\n",
              "  </tbody>\n",
              "</table>\n",
              "<p>848 rows × 9 columns</p>\n",
              "</div>"
            ],
            "text/plain": [
              "     passenger_id  pclass     sex       age  ...  parch      fare  embarked survived\n",
              "0            1216       3  female  0.348643  ...      0  0.015094         Q        1\n",
              "1             699       3    male  0.473904  ...      0  0.016908         S        0\n",
              "2            1267       3  female  0.373695  ...      1  0.047138         S        0\n",
              "3             449       2  female  0.674321  ...      3  0.044893         S        1\n",
              "4             576       2    male  0.498956  ...      0  0.025374         S        0\n",
              "..            ...     ...     ...       ...  ...    ...       ...       ...      ...\n",
              "845           158       1    male  0.686847  ...      0  0.097594         S        0\n",
              "846           174       1    male  0.724426  ...      0  0.057971         C        0\n",
              "847           467       2  female  0.298538  ...      0  0.050749         S        1\n",
              "848          1112       3  female  0.035490  ...      1  0.026887         S        0\n",
              "849           425       2    male  0.649269  ...      0  0.025374         S        0\n",
              "\n",
              "[848 rows x 9 columns]"
            ]
          },
          "metadata": {},
          "execution_count": 172
        }
      ]
    },
    {
      "cell_type": "markdown",
      "metadata": {
        "id": "Ukdh65BXd2sB"
      },
      "source": [
        "**ENCODING**"
      ]
    },
    {
      "cell_type": "code",
      "metadata": {
        "id": "DTWviigsd6S1"
      },
      "source": [
        "# Implement Sklearn label encoding on df\n",
        "from sklearn import preprocessing"
      ],
      "execution_count": 173,
      "outputs": []
    },
    {
      "cell_type": "code",
      "metadata": {
        "id": "bT8WU7oreQLd"
      },
      "source": [
        "# for sex determination\n",
        "Lable_Encoder = preprocessing.LabelEncoder()"
      ],
      "execution_count": 174,
      "outputs": []
    },
    {
      "cell_type": "code",
      "metadata": {
        "colab": {
          "base_uri": "https://localhost:8080/"
        },
        "id": "r1Z8oY3yeUtR",
        "outputId": "501d1165-0aef-4f3d-a081-5008ba29071f"
      },
      "source": [
        "df['sex'] = Lable_Encoder.fit_transform(df['sex'])"
      ],
      "execution_count": 175,
      "outputs": [
        {
          "output_type": "stream",
          "name": "stderr",
          "text": [
            "/usr/local/lib/python3.7/dist-packages/ipykernel_launcher.py:1: SettingWithCopyWarning: \n",
            "A value is trying to be set on a copy of a slice from a DataFrame.\n",
            "Try using .loc[row_indexer,col_indexer] = value instead\n",
            "\n",
            "See the caveats in the documentation: https://pandas.pydata.org/pandas-docs/stable/user_guide/indexing.html#returning-a-view-versus-a-copy\n",
            "  \"\"\"Entry point for launching an IPython kernel.\n"
          ]
        }
      ]
    },
    {
      "cell_type": "code",
      "metadata": {
        "colab": {
          "base_uri": "https://localhost:8080/"
        },
        "id": "dUK2BHxoeYgf",
        "outputId": "0c46fb4c-6843-4cf1-fd69-32e002ffe0d6"
      },
      "source": [
        "df['sex'].unique()"
      ],
      "execution_count": 176,
      "outputs": [
        {
          "output_type": "execute_result",
          "data": {
            "text/plain": [
              "array([0, 1])"
            ]
          },
          "metadata": {},
          "execution_count": 176
        }
      ]
    },
    {
      "cell_type": "code",
      "metadata": {
        "colab": {
          "base_uri": "https://localhost:8080/",
          "height": 417
        },
        "id": "W1guodw_ebHB",
        "outputId": "fc99b859-8bea-415e-bbf3-13ca69d04590"
      },
      "source": [
        "df"
      ],
      "execution_count": 177,
      "outputs": [
        {
          "output_type": "execute_result",
          "data": {
            "text/html": [
              "<div>\n",
              "<style scoped>\n",
              "    .dataframe tbody tr th:only-of-type {\n",
              "        vertical-align: middle;\n",
              "    }\n",
              "\n",
              "    .dataframe tbody tr th {\n",
              "        vertical-align: top;\n",
              "    }\n",
              "\n",
              "    .dataframe thead th {\n",
              "        text-align: right;\n",
              "    }\n",
              "</style>\n",
              "<table border=\"1\" class=\"dataframe\">\n",
              "  <thead>\n",
              "    <tr style=\"text-align: right;\">\n",
              "      <th></th>\n",
              "      <th>passenger_id</th>\n",
              "      <th>pclass</th>\n",
              "      <th>sex</th>\n",
              "      <th>age</th>\n",
              "      <th>sibsp</th>\n",
              "      <th>parch</th>\n",
              "      <th>fare</th>\n",
              "      <th>embarked</th>\n",
              "      <th>survived</th>\n",
              "    </tr>\n",
              "  </thead>\n",
              "  <tbody>\n",
              "    <tr>\n",
              "      <th>0</th>\n",
              "      <td>1216</td>\n",
              "      <td>3</td>\n",
              "      <td>0</td>\n",
              "      <td>0.348643</td>\n",
              "      <td>0</td>\n",
              "      <td>0</td>\n",
              "      <td>0.015094</td>\n",
              "      <td>Q</td>\n",
              "      <td>1</td>\n",
              "    </tr>\n",
              "    <tr>\n",
              "      <th>1</th>\n",
              "      <td>699</td>\n",
              "      <td>3</td>\n",
              "      <td>1</td>\n",
              "      <td>0.473904</td>\n",
              "      <td>0</td>\n",
              "      <td>0</td>\n",
              "      <td>0.016908</td>\n",
              "      <td>S</td>\n",
              "      <td>0</td>\n",
              "    </tr>\n",
              "    <tr>\n",
              "      <th>2</th>\n",
              "      <td>1267</td>\n",
              "      <td>3</td>\n",
              "      <td>0</td>\n",
              "      <td>0.373695</td>\n",
              "      <td>1</td>\n",
              "      <td>1</td>\n",
              "      <td>0.047138</td>\n",
              "      <td>S</td>\n",
              "      <td>0</td>\n",
              "    </tr>\n",
              "    <tr>\n",
              "      <th>3</th>\n",
              "      <td>449</td>\n",
              "      <td>2</td>\n",
              "      <td>0</td>\n",
              "      <td>0.674321</td>\n",
              "      <td>1</td>\n",
              "      <td>3</td>\n",
              "      <td>0.044893</td>\n",
              "      <td>S</td>\n",
              "      <td>1</td>\n",
              "    </tr>\n",
              "    <tr>\n",
              "      <th>4</th>\n",
              "      <td>576</td>\n",
              "      <td>2</td>\n",
              "      <td>1</td>\n",
              "      <td>0.498956</td>\n",
              "      <td>0</td>\n",
              "      <td>0</td>\n",
              "      <td>0.025374</td>\n",
              "      <td>S</td>\n",
              "      <td>0</td>\n",
              "    </tr>\n",
              "    <tr>\n",
              "      <th>...</th>\n",
              "      <td>...</td>\n",
              "      <td>...</td>\n",
              "      <td>...</td>\n",
              "      <td>...</td>\n",
              "      <td>...</td>\n",
              "      <td>...</td>\n",
              "      <td>...</td>\n",
              "      <td>...</td>\n",
              "      <td>...</td>\n",
              "    </tr>\n",
              "    <tr>\n",
              "      <th>845</th>\n",
              "      <td>158</td>\n",
              "      <td>1</td>\n",
              "      <td>1</td>\n",
              "      <td>0.686847</td>\n",
              "      <td>0</td>\n",
              "      <td>0</td>\n",
              "      <td>0.097594</td>\n",
              "      <td>S</td>\n",
              "      <td>0</td>\n",
              "    </tr>\n",
              "    <tr>\n",
              "      <th>846</th>\n",
              "      <td>174</td>\n",
              "      <td>1</td>\n",
              "      <td>1</td>\n",
              "      <td>0.724426</td>\n",
              "      <td>0</td>\n",
              "      <td>0</td>\n",
              "      <td>0.057971</td>\n",
              "      <td>C</td>\n",
              "      <td>0</td>\n",
              "    </tr>\n",
              "    <tr>\n",
              "      <th>847</th>\n",
              "      <td>467</td>\n",
              "      <td>2</td>\n",
              "      <td>0</td>\n",
              "      <td>0.298538</td>\n",
              "      <td>1</td>\n",
              "      <td>0</td>\n",
              "      <td>0.050749</td>\n",
              "      <td>S</td>\n",
              "      <td>1</td>\n",
              "    </tr>\n",
              "    <tr>\n",
              "      <th>848</th>\n",
              "      <td>1112</td>\n",
              "      <td>3</td>\n",
              "      <td>0</td>\n",
              "      <td>0.035490</td>\n",
              "      <td>1</td>\n",
              "      <td>1</td>\n",
              "      <td>0.026887</td>\n",
              "      <td>S</td>\n",
              "      <td>0</td>\n",
              "    </tr>\n",
              "    <tr>\n",
              "      <th>849</th>\n",
              "      <td>425</td>\n",
              "      <td>2</td>\n",
              "      <td>1</td>\n",
              "      <td>0.649269</td>\n",
              "      <td>0</td>\n",
              "      <td>0</td>\n",
              "      <td>0.025374</td>\n",
              "      <td>S</td>\n",
              "      <td>0</td>\n",
              "    </tr>\n",
              "  </tbody>\n",
              "</table>\n",
              "<p>848 rows × 9 columns</p>\n",
              "</div>"
            ],
            "text/plain": [
              "     passenger_id  pclass  sex       age  ...  parch      fare  embarked survived\n",
              "0            1216       3    0  0.348643  ...      0  0.015094         Q        1\n",
              "1             699       3    1  0.473904  ...      0  0.016908         S        0\n",
              "2            1267       3    0  0.373695  ...      1  0.047138         S        0\n",
              "3             449       2    0  0.674321  ...      3  0.044893         S        1\n",
              "4             576       2    1  0.498956  ...      0  0.025374         S        0\n",
              "..            ...     ...  ...       ...  ...    ...       ...       ...      ...\n",
              "845           158       1    1  0.686847  ...      0  0.097594         S        0\n",
              "846           174       1    1  0.724426  ...      0  0.057971         C        0\n",
              "847           467       2    0  0.298538  ...      0  0.050749         S        1\n",
              "848          1112       3    0  0.035490  ...      1  0.026887         S        0\n",
              "849           425       2    1  0.649269  ...      0  0.025374         S        0\n",
              "\n",
              "[848 rows x 9 columns]"
            ]
          },
          "metadata": {},
          "execution_count": 177
        }
      ]
    },
    {
      "cell_type": "code",
      "metadata": {
        "colab": {
          "base_uri": "https://localhost:8080/"
        },
        "id": "ww6wyCGqe9xz",
        "outputId": "03941040-2fef-443e-9000-0f59ea387069"
      },
      "source": [
        "# for pclass\n",
        "df['pclass'] = Lable_Encoder.fit_transform(df['pclass'])"
      ],
      "execution_count": 178,
      "outputs": [
        {
          "output_type": "stream",
          "name": "stderr",
          "text": [
            "/usr/local/lib/python3.7/dist-packages/ipykernel_launcher.py:2: SettingWithCopyWarning: \n",
            "A value is trying to be set on a copy of a slice from a DataFrame.\n",
            "Try using .loc[row_indexer,col_indexer] = value instead\n",
            "\n",
            "See the caveats in the documentation: https://pandas.pydata.org/pandas-docs/stable/user_guide/indexing.html#returning-a-view-versus-a-copy\n",
            "  \n"
          ]
        }
      ]
    },
    {
      "cell_type": "code",
      "metadata": {
        "colab": {
          "base_uri": "https://localhost:8080/"
        },
        "id": "2zarWwXCfRD5",
        "outputId": "46a1ee60-3180-4397-f3ef-c255c0a9dae9"
      },
      "source": [
        "df['pclass'].unique()"
      ],
      "execution_count": 179,
      "outputs": [
        {
          "output_type": "execute_result",
          "data": {
            "text/plain": [
              "array([2, 1, 0])"
            ]
          },
          "metadata": {},
          "execution_count": 179
        }
      ]
    },
    {
      "cell_type": "code",
      "metadata": {
        "colab": {
          "base_uri": "https://localhost:8080/",
          "height": 417
        },
        "id": "d7dGzQsQfVd4",
        "outputId": "fc15b51c-e4da-4f46-d0d4-f86529208f7f"
      },
      "source": [
        "df"
      ],
      "execution_count": 180,
      "outputs": [
        {
          "output_type": "execute_result",
          "data": {
            "text/html": [
              "<div>\n",
              "<style scoped>\n",
              "    .dataframe tbody tr th:only-of-type {\n",
              "        vertical-align: middle;\n",
              "    }\n",
              "\n",
              "    .dataframe tbody tr th {\n",
              "        vertical-align: top;\n",
              "    }\n",
              "\n",
              "    .dataframe thead th {\n",
              "        text-align: right;\n",
              "    }\n",
              "</style>\n",
              "<table border=\"1\" class=\"dataframe\">\n",
              "  <thead>\n",
              "    <tr style=\"text-align: right;\">\n",
              "      <th></th>\n",
              "      <th>passenger_id</th>\n",
              "      <th>pclass</th>\n",
              "      <th>sex</th>\n",
              "      <th>age</th>\n",
              "      <th>sibsp</th>\n",
              "      <th>parch</th>\n",
              "      <th>fare</th>\n",
              "      <th>embarked</th>\n",
              "      <th>survived</th>\n",
              "    </tr>\n",
              "  </thead>\n",
              "  <tbody>\n",
              "    <tr>\n",
              "      <th>0</th>\n",
              "      <td>1216</td>\n",
              "      <td>2</td>\n",
              "      <td>0</td>\n",
              "      <td>0.348643</td>\n",
              "      <td>0</td>\n",
              "      <td>0</td>\n",
              "      <td>0.015094</td>\n",
              "      <td>Q</td>\n",
              "      <td>1</td>\n",
              "    </tr>\n",
              "    <tr>\n",
              "      <th>1</th>\n",
              "      <td>699</td>\n",
              "      <td>2</td>\n",
              "      <td>1</td>\n",
              "      <td>0.473904</td>\n",
              "      <td>0</td>\n",
              "      <td>0</td>\n",
              "      <td>0.016908</td>\n",
              "      <td>S</td>\n",
              "      <td>0</td>\n",
              "    </tr>\n",
              "    <tr>\n",
              "      <th>2</th>\n",
              "      <td>1267</td>\n",
              "      <td>2</td>\n",
              "      <td>0</td>\n",
              "      <td>0.373695</td>\n",
              "      <td>1</td>\n",
              "      <td>1</td>\n",
              "      <td>0.047138</td>\n",
              "      <td>S</td>\n",
              "      <td>0</td>\n",
              "    </tr>\n",
              "    <tr>\n",
              "      <th>3</th>\n",
              "      <td>449</td>\n",
              "      <td>1</td>\n",
              "      <td>0</td>\n",
              "      <td>0.674321</td>\n",
              "      <td>1</td>\n",
              "      <td>3</td>\n",
              "      <td>0.044893</td>\n",
              "      <td>S</td>\n",
              "      <td>1</td>\n",
              "    </tr>\n",
              "    <tr>\n",
              "      <th>4</th>\n",
              "      <td>576</td>\n",
              "      <td>1</td>\n",
              "      <td>1</td>\n",
              "      <td>0.498956</td>\n",
              "      <td>0</td>\n",
              "      <td>0</td>\n",
              "      <td>0.025374</td>\n",
              "      <td>S</td>\n",
              "      <td>0</td>\n",
              "    </tr>\n",
              "    <tr>\n",
              "      <th>...</th>\n",
              "      <td>...</td>\n",
              "      <td>...</td>\n",
              "      <td>...</td>\n",
              "      <td>...</td>\n",
              "      <td>...</td>\n",
              "      <td>...</td>\n",
              "      <td>...</td>\n",
              "      <td>...</td>\n",
              "      <td>...</td>\n",
              "    </tr>\n",
              "    <tr>\n",
              "      <th>845</th>\n",
              "      <td>158</td>\n",
              "      <td>0</td>\n",
              "      <td>1</td>\n",
              "      <td>0.686847</td>\n",
              "      <td>0</td>\n",
              "      <td>0</td>\n",
              "      <td>0.097594</td>\n",
              "      <td>S</td>\n",
              "      <td>0</td>\n",
              "    </tr>\n",
              "    <tr>\n",
              "      <th>846</th>\n",
              "      <td>174</td>\n",
              "      <td>0</td>\n",
              "      <td>1</td>\n",
              "      <td>0.724426</td>\n",
              "      <td>0</td>\n",
              "      <td>0</td>\n",
              "      <td>0.057971</td>\n",
              "      <td>C</td>\n",
              "      <td>0</td>\n",
              "    </tr>\n",
              "    <tr>\n",
              "      <th>847</th>\n",
              "      <td>467</td>\n",
              "      <td>1</td>\n",
              "      <td>0</td>\n",
              "      <td>0.298538</td>\n",
              "      <td>1</td>\n",
              "      <td>0</td>\n",
              "      <td>0.050749</td>\n",
              "      <td>S</td>\n",
              "      <td>1</td>\n",
              "    </tr>\n",
              "    <tr>\n",
              "      <th>848</th>\n",
              "      <td>1112</td>\n",
              "      <td>2</td>\n",
              "      <td>0</td>\n",
              "      <td>0.035490</td>\n",
              "      <td>1</td>\n",
              "      <td>1</td>\n",
              "      <td>0.026887</td>\n",
              "      <td>S</td>\n",
              "      <td>0</td>\n",
              "    </tr>\n",
              "    <tr>\n",
              "      <th>849</th>\n",
              "      <td>425</td>\n",
              "      <td>1</td>\n",
              "      <td>1</td>\n",
              "      <td>0.649269</td>\n",
              "      <td>0</td>\n",
              "      <td>0</td>\n",
              "      <td>0.025374</td>\n",
              "      <td>S</td>\n",
              "      <td>0</td>\n",
              "    </tr>\n",
              "  </tbody>\n",
              "</table>\n",
              "<p>848 rows × 9 columns</p>\n",
              "</div>"
            ],
            "text/plain": [
              "     passenger_id  pclass  sex       age  ...  parch      fare  embarked survived\n",
              "0            1216       2    0  0.348643  ...      0  0.015094         Q        1\n",
              "1             699       2    1  0.473904  ...      0  0.016908         S        0\n",
              "2            1267       2    0  0.373695  ...      1  0.047138         S        0\n",
              "3             449       1    0  0.674321  ...      3  0.044893         S        1\n",
              "4             576       1    1  0.498956  ...      0  0.025374         S        0\n",
              "..            ...     ...  ...       ...  ...    ...       ...       ...      ...\n",
              "845           158       0    1  0.686847  ...      0  0.097594         S        0\n",
              "846           174       0    1  0.724426  ...      0  0.057971         C        0\n",
              "847           467       1    0  0.298538  ...      0  0.050749         S        1\n",
              "848          1112       2    0  0.035490  ...      1  0.026887         S        0\n",
              "849           425       1    1  0.649269  ...      0  0.025374         S        0\n",
              "\n",
              "[848 rows x 9 columns]"
            ]
          },
          "metadata": {},
          "execution_count": 180
        }
      ]
    },
    {
      "cell_type": "code",
      "metadata": {
        "colab": {
          "base_uri": "https://localhost:8080/"
        },
        "id": "4PIpllvafn1D",
        "outputId": "5c2e11d5-dd1a-4529-c6f2-f63f80e5c6c0"
      },
      "source": [
        "# for embarked\n",
        "df['embarked'] = Lable_Encoder.fit_transform(df['embarked'])"
      ],
      "execution_count": 181,
      "outputs": [
        {
          "output_type": "stream",
          "name": "stderr",
          "text": [
            "/usr/local/lib/python3.7/dist-packages/ipykernel_launcher.py:2: SettingWithCopyWarning: \n",
            "A value is trying to be set on a copy of a slice from a DataFrame.\n",
            "Try using .loc[row_indexer,col_indexer] = value instead\n",
            "\n",
            "See the caveats in the documentation: https://pandas.pydata.org/pandas-docs/stable/user_guide/indexing.html#returning-a-view-versus-a-copy\n",
            "  \n"
          ]
        }
      ]
    },
    {
      "cell_type": "code",
      "metadata": {
        "colab": {
          "base_uri": "https://localhost:8080/"
        },
        "id": "o4zoYDosfwnv",
        "outputId": "fa8090fe-4084-46fe-97fb-a36ade8818a6"
      },
      "source": [
        "df['embarked'].unique()"
      ],
      "execution_count": 182,
      "outputs": [
        {
          "output_type": "execute_result",
          "data": {
            "text/plain": [
              "array([1, 2, 0])"
            ]
          },
          "metadata": {},
          "execution_count": 182
        }
      ]
    },
    {
      "cell_type": "code",
      "metadata": {
        "colab": {
          "base_uri": "https://localhost:8080/",
          "height": 417
        },
        "id": "LYlg9Hpyf2Pn",
        "outputId": "02f30272-14f3-4a5b-836b-490c232ddb65"
      },
      "source": [
        "df"
      ],
      "execution_count": 183,
      "outputs": [
        {
          "output_type": "execute_result",
          "data": {
            "text/html": [
              "<div>\n",
              "<style scoped>\n",
              "    .dataframe tbody tr th:only-of-type {\n",
              "        vertical-align: middle;\n",
              "    }\n",
              "\n",
              "    .dataframe tbody tr th {\n",
              "        vertical-align: top;\n",
              "    }\n",
              "\n",
              "    .dataframe thead th {\n",
              "        text-align: right;\n",
              "    }\n",
              "</style>\n",
              "<table border=\"1\" class=\"dataframe\">\n",
              "  <thead>\n",
              "    <tr style=\"text-align: right;\">\n",
              "      <th></th>\n",
              "      <th>passenger_id</th>\n",
              "      <th>pclass</th>\n",
              "      <th>sex</th>\n",
              "      <th>age</th>\n",
              "      <th>sibsp</th>\n",
              "      <th>parch</th>\n",
              "      <th>fare</th>\n",
              "      <th>embarked</th>\n",
              "      <th>survived</th>\n",
              "    </tr>\n",
              "  </thead>\n",
              "  <tbody>\n",
              "    <tr>\n",
              "      <th>0</th>\n",
              "      <td>1216</td>\n",
              "      <td>2</td>\n",
              "      <td>0</td>\n",
              "      <td>0.348643</td>\n",
              "      <td>0</td>\n",
              "      <td>0</td>\n",
              "      <td>0.015094</td>\n",
              "      <td>1</td>\n",
              "      <td>1</td>\n",
              "    </tr>\n",
              "    <tr>\n",
              "      <th>1</th>\n",
              "      <td>699</td>\n",
              "      <td>2</td>\n",
              "      <td>1</td>\n",
              "      <td>0.473904</td>\n",
              "      <td>0</td>\n",
              "      <td>0</td>\n",
              "      <td>0.016908</td>\n",
              "      <td>2</td>\n",
              "      <td>0</td>\n",
              "    </tr>\n",
              "    <tr>\n",
              "      <th>2</th>\n",
              "      <td>1267</td>\n",
              "      <td>2</td>\n",
              "      <td>0</td>\n",
              "      <td>0.373695</td>\n",
              "      <td>1</td>\n",
              "      <td>1</td>\n",
              "      <td>0.047138</td>\n",
              "      <td>2</td>\n",
              "      <td>0</td>\n",
              "    </tr>\n",
              "    <tr>\n",
              "      <th>3</th>\n",
              "      <td>449</td>\n",
              "      <td>1</td>\n",
              "      <td>0</td>\n",
              "      <td>0.674321</td>\n",
              "      <td>1</td>\n",
              "      <td>3</td>\n",
              "      <td>0.044893</td>\n",
              "      <td>2</td>\n",
              "      <td>1</td>\n",
              "    </tr>\n",
              "    <tr>\n",
              "      <th>4</th>\n",
              "      <td>576</td>\n",
              "      <td>1</td>\n",
              "      <td>1</td>\n",
              "      <td>0.498956</td>\n",
              "      <td>0</td>\n",
              "      <td>0</td>\n",
              "      <td>0.025374</td>\n",
              "      <td>2</td>\n",
              "      <td>0</td>\n",
              "    </tr>\n",
              "    <tr>\n",
              "      <th>...</th>\n",
              "      <td>...</td>\n",
              "      <td>...</td>\n",
              "      <td>...</td>\n",
              "      <td>...</td>\n",
              "      <td>...</td>\n",
              "      <td>...</td>\n",
              "      <td>...</td>\n",
              "      <td>...</td>\n",
              "      <td>...</td>\n",
              "    </tr>\n",
              "    <tr>\n",
              "      <th>845</th>\n",
              "      <td>158</td>\n",
              "      <td>0</td>\n",
              "      <td>1</td>\n",
              "      <td>0.686847</td>\n",
              "      <td>0</td>\n",
              "      <td>0</td>\n",
              "      <td>0.097594</td>\n",
              "      <td>2</td>\n",
              "      <td>0</td>\n",
              "    </tr>\n",
              "    <tr>\n",
              "      <th>846</th>\n",
              "      <td>174</td>\n",
              "      <td>0</td>\n",
              "      <td>1</td>\n",
              "      <td>0.724426</td>\n",
              "      <td>0</td>\n",
              "      <td>0</td>\n",
              "      <td>0.057971</td>\n",
              "      <td>0</td>\n",
              "      <td>0</td>\n",
              "    </tr>\n",
              "    <tr>\n",
              "      <th>847</th>\n",
              "      <td>467</td>\n",
              "      <td>1</td>\n",
              "      <td>0</td>\n",
              "      <td>0.298538</td>\n",
              "      <td>1</td>\n",
              "      <td>0</td>\n",
              "      <td>0.050749</td>\n",
              "      <td>2</td>\n",
              "      <td>1</td>\n",
              "    </tr>\n",
              "    <tr>\n",
              "      <th>848</th>\n",
              "      <td>1112</td>\n",
              "      <td>2</td>\n",
              "      <td>0</td>\n",
              "      <td>0.035490</td>\n",
              "      <td>1</td>\n",
              "      <td>1</td>\n",
              "      <td>0.026887</td>\n",
              "      <td>2</td>\n",
              "      <td>0</td>\n",
              "    </tr>\n",
              "    <tr>\n",
              "      <th>849</th>\n",
              "      <td>425</td>\n",
              "      <td>1</td>\n",
              "      <td>1</td>\n",
              "      <td>0.649269</td>\n",
              "      <td>0</td>\n",
              "      <td>0</td>\n",
              "      <td>0.025374</td>\n",
              "      <td>2</td>\n",
              "      <td>0</td>\n",
              "    </tr>\n",
              "  </tbody>\n",
              "</table>\n",
              "<p>848 rows × 9 columns</p>\n",
              "</div>"
            ],
            "text/plain": [
              "     passenger_id  pclass  sex       age  ...  parch      fare  embarked  survived\n",
              "0            1216       2    0  0.348643  ...      0  0.015094         1         1\n",
              "1             699       2    1  0.473904  ...      0  0.016908         2         0\n",
              "2            1267       2    0  0.373695  ...      1  0.047138         2         0\n",
              "3             449       1    0  0.674321  ...      3  0.044893         2         1\n",
              "4             576       1    1  0.498956  ...      0  0.025374         2         0\n",
              "..            ...     ...  ...       ...  ...    ...       ...       ...       ...\n",
              "845           158       0    1  0.686847  ...      0  0.097594         2         0\n",
              "846           174       0    1  0.724426  ...      0  0.057971         0         0\n",
              "847           467       1    0  0.298538  ...      0  0.050749         2         1\n",
              "848          1112       2    0  0.035490  ...      1  0.026887         2         0\n",
              "849           425       1    1  0.649269  ...      0  0.025374         2         0\n",
              "\n",
              "[848 rows x 9 columns]"
            ]
          },
          "metadata": {},
          "execution_count": 183
        }
      ]
    },
    {
      "cell_type": "code",
      "metadata": {
        "colab": {
          "base_uri": "https://localhost:8080/",
          "height": 326
        },
        "id": "Y-jqLTgfnyiB",
        "outputId": "cc97d8b8-cee4-4b50-e61a-dba9c8b8e8a2"
      },
      "source": [
        "df.corr()"
      ],
      "execution_count": 184,
      "outputs": [
        {
          "output_type": "execute_result",
          "data": {
            "text/html": [
              "<div>\n",
              "<style scoped>\n",
              "    .dataframe tbody tr th:only-of-type {\n",
              "        vertical-align: middle;\n",
              "    }\n",
              "\n",
              "    .dataframe tbody tr th {\n",
              "        vertical-align: top;\n",
              "    }\n",
              "\n",
              "    .dataframe thead th {\n",
              "        text-align: right;\n",
              "    }\n",
              "</style>\n",
              "<table border=\"1\" class=\"dataframe\">\n",
              "  <thead>\n",
              "    <tr style=\"text-align: right;\">\n",
              "      <th></th>\n",
              "      <th>passenger_id</th>\n",
              "      <th>pclass</th>\n",
              "      <th>sex</th>\n",
              "      <th>age</th>\n",
              "      <th>sibsp</th>\n",
              "      <th>parch</th>\n",
              "      <th>fare</th>\n",
              "      <th>embarked</th>\n",
              "      <th>survived</th>\n",
              "    </tr>\n",
              "  </thead>\n",
              "  <tbody>\n",
              "    <tr>\n",
              "      <th>passenger_id</th>\n",
              "      <td>1.000000</td>\n",
              "      <td>0.896404</td>\n",
              "      <td>0.139459</td>\n",
              "      <td>-0.312397</td>\n",
              "      <td>0.099346</td>\n",
              "      <td>-0.000101</td>\n",
              "      <td>-0.479385</td>\n",
              "      <td>0.133703</td>\n",
              "      <td>-0.303497</td>\n",
              "    </tr>\n",
              "    <tr>\n",
              "      <th>pclass</th>\n",
              "      <td>0.896404</td>\n",
              "      <td>1.000000</td>\n",
              "      <td>0.149197</td>\n",
              "      <td>-0.379626</td>\n",
              "      <td>0.074151</td>\n",
              "      <td>-0.006794</td>\n",
              "      <td>-0.560355</td>\n",
              "      <td>0.203509</td>\n",
              "      <td>-0.327250</td>\n",
              "    </tr>\n",
              "    <tr>\n",
              "      <th>sex</th>\n",
              "      <td>0.139459</td>\n",
              "      <td>0.149197</td>\n",
              "      <td>1.000000</td>\n",
              "      <td>0.027629</td>\n",
              "      <td>-0.124274</td>\n",
              "      <td>-0.170664</td>\n",
              "      <td>-0.182020</td>\n",
              "      <td>0.072045</td>\n",
              "      <td>-0.508923</td>\n",
              "    </tr>\n",
              "    <tr>\n",
              "      <th>age</th>\n",
              "      <td>-0.312397</td>\n",
              "      <td>-0.379626</td>\n",
              "      <td>0.027629</td>\n",
              "      <td>1.000000</td>\n",
              "      <td>-0.187389</td>\n",
              "      <td>-0.126716</td>\n",
              "      <td>0.194672</td>\n",
              "      <td>-0.072590</td>\n",
              "      <td>-0.032685</td>\n",
              "    </tr>\n",
              "    <tr>\n",
              "      <th>sibsp</th>\n",
              "      <td>0.099346</td>\n",
              "      <td>0.074151</td>\n",
              "      <td>-0.124274</td>\n",
              "      <td>-0.187389</td>\n",
              "      <td>1.000000</td>\n",
              "      <td>0.388942</td>\n",
              "      <td>0.142352</td>\n",
              "      <td>0.091365</td>\n",
              "      <td>-0.044749</td>\n",
              "    </tr>\n",
              "    <tr>\n",
              "      <th>parch</th>\n",
              "      <td>-0.000101</td>\n",
              "      <td>-0.006794</td>\n",
              "      <td>-0.170664</td>\n",
              "      <td>-0.126716</td>\n",
              "      <td>0.388942</td>\n",
              "      <td>1.000000</td>\n",
              "      <td>0.246988</td>\n",
              "      <td>0.060980</td>\n",
              "      <td>0.059546</td>\n",
              "    </tr>\n",
              "    <tr>\n",
              "      <th>fare</th>\n",
              "      <td>-0.479385</td>\n",
              "      <td>-0.560355</td>\n",
              "      <td>-0.182020</td>\n",
              "      <td>0.194672</td>\n",
              "      <td>0.142352</td>\n",
              "      <td>0.246988</td>\n",
              "      <td>1.000000</td>\n",
              "      <td>-0.255033</td>\n",
              "      <td>0.250287</td>\n",
              "    </tr>\n",
              "    <tr>\n",
              "      <th>embarked</th>\n",
              "      <td>0.133703</td>\n",
              "      <td>0.203509</td>\n",
              "      <td>0.072045</td>\n",
              "      <td>-0.072590</td>\n",
              "      <td>0.091365</td>\n",
              "      <td>0.060980</td>\n",
              "      <td>-0.255033</td>\n",
              "      <td>1.000000</td>\n",
              "      <td>-0.151700</td>\n",
              "    </tr>\n",
              "    <tr>\n",
              "      <th>survived</th>\n",
              "      <td>-0.303497</td>\n",
              "      <td>-0.327250</td>\n",
              "      <td>-0.508923</td>\n",
              "      <td>-0.032685</td>\n",
              "      <td>-0.044749</td>\n",
              "      <td>0.059546</td>\n",
              "      <td>0.250287</td>\n",
              "      <td>-0.151700</td>\n",
              "      <td>1.000000</td>\n",
              "    </tr>\n",
              "  </tbody>\n",
              "</table>\n",
              "</div>"
            ],
            "text/plain": [
              "              passenger_id    pclass       sex  ...      fare  embarked  survived\n",
              "passenger_id      1.000000  0.896404  0.139459  ... -0.479385  0.133703 -0.303497\n",
              "pclass            0.896404  1.000000  0.149197  ... -0.560355  0.203509 -0.327250\n",
              "sex               0.139459  0.149197  1.000000  ... -0.182020  0.072045 -0.508923\n",
              "age              -0.312397 -0.379626  0.027629  ...  0.194672 -0.072590 -0.032685\n",
              "sibsp             0.099346  0.074151 -0.124274  ...  0.142352  0.091365 -0.044749\n",
              "parch            -0.000101 -0.006794 -0.170664  ...  0.246988  0.060980  0.059546\n",
              "fare             -0.479385 -0.560355 -0.182020  ...  1.000000 -0.255033  0.250287\n",
              "embarked          0.133703  0.203509  0.072045  ... -0.255033  1.000000 -0.151700\n",
              "survived         -0.303497 -0.327250 -0.508923  ...  0.250287 -0.151700  1.000000\n",
              "\n",
              "[9 rows x 9 columns]"
            ]
          },
          "metadata": {},
          "execution_count": 184
        }
      ]
    },
    {
      "cell_type": "markdown",
      "metadata": {
        "id": "F_6kvw7AoJ7W"
      },
      "source": [
        "# **MODEL IMPLEMENTATION**"
      ]
    },
    {
      "cell_type": "markdown",
      "metadata": {
        "id": "VBquWkmKoYCJ"
      },
      "source": [
        "**TRAIN TEST SPLIT**"
      ]
    },
    {
      "cell_type": "code",
      "metadata": {
        "id": "MNgOxpSuobFn"
      },
      "source": [
        "from sklearn import model_selection"
      ],
      "execution_count": 185,
      "outputs": []
    },
    {
      "cell_type": "code",
      "metadata": {
        "id": "4qcRloS5oheu"
      },
      "source": [
        "# separates target variable from the rest of the features \n",
        "X = df.drop('survived' , axis = 1) \n",
        "Y = df['survived']"
      ],
      "execution_count": 186,
      "outputs": []
    },
    {
      "cell_type": "code",
      "metadata": {
        "colab": {
          "base_uri": "https://localhost:8080/",
          "height": 417
        },
        "id": "2KK22iAco7Ir",
        "outputId": "b2ce8da3-def3-4be9-c20a-4eb6a1b09c88"
      },
      "source": [
        "X"
      ],
      "execution_count": 187,
      "outputs": [
        {
          "output_type": "execute_result",
          "data": {
            "text/html": [
              "<div>\n",
              "<style scoped>\n",
              "    .dataframe tbody tr th:only-of-type {\n",
              "        vertical-align: middle;\n",
              "    }\n",
              "\n",
              "    .dataframe tbody tr th {\n",
              "        vertical-align: top;\n",
              "    }\n",
              "\n",
              "    .dataframe thead th {\n",
              "        text-align: right;\n",
              "    }\n",
              "</style>\n",
              "<table border=\"1\" class=\"dataframe\">\n",
              "  <thead>\n",
              "    <tr style=\"text-align: right;\">\n",
              "      <th></th>\n",
              "      <th>passenger_id</th>\n",
              "      <th>pclass</th>\n",
              "      <th>sex</th>\n",
              "      <th>age</th>\n",
              "      <th>sibsp</th>\n",
              "      <th>parch</th>\n",
              "      <th>fare</th>\n",
              "      <th>embarked</th>\n",
              "    </tr>\n",
              "  </thead>\n",
              "  <tbody>\n",
              "    <tr>\n",
              "      <th>0</th>\n",
              "      <td>1216</td>\n",
              "      <td>2</td>\n",
              "      <td>0</td>\n",
              "      <td>0.348643</td>\n",
              "      <td>0</td>\n",
              "      <td>0</td>\n",
              "      <td>0.015094</td>\n",
              "      <td>1</td>\n",
              "    </tr>\n",
              "    <tr>\n",
              "      <th>1</th>\n",
              "      <td>699</td>\n",
              "      <td>2</td>\n",
              "      <td>1</td>\n",
              "      <td>0.473904</td>\n",
              "      <td>0</td>\n",
              "      <td>0</td>\n",
              "      <td>0.016908</td>\n",
              "      <td>2</td>\n",
              "    </tr>\n",
              "    <tr>\n",
              "      <th>2</th>\n",
              "      <td>1267</td>\n",
              "      <td>2</td>\n",
              "      <td>0</td>\n",
              "      <td>0.373695</td>\n",
              "      <td>1</td>\n",
              "      <td>1</td>\n",
              "      <td>0.047138</td>\n",
              "      <td>2</td>\n",
              "    </tr>\n",
              "    <tr>\n",
              "      <th>3</th>\n",
              "      <td>449</td>\n",
              "      <td>1</td>\n",
              "      <td>0</td>\n",
              "      <td>0.674321</td>\n",
              "      <td>1</td>\n",
              "      <td>3</td>\n",
              "      <td>0.044893</td>\n",
              "      <td>2</td>\n",
              "    </tr>\n",
              "    <tr>\n",
              "      <th>4</th>\n",
              "      <td>576</td>\n",
              "      <td>1</td>\n",
              "      <td>1</td>\n",
              "      <td>0.498956</td>\n",
              "      <td>0</td>\n",
              "      <td>0</td>\n",
              "      <td>0.025374</td>\n",
              "      <td>2</td>\n",
              "    </tr>\n",
              "    <tr>\n",
              "      <th>...</th>\n",
              "      <td>...</td>\n",
              "      <td>...</td>\n",
              "      <td>...</td>\n",
              "      <td>...</td>\n",
              "      <td>...</td>\n",
              "      <td>...</td>\n",
              "      <td>...</td>\n",
              "      <td>...</td>\n",
              "    </tr>\n",
              "    <tr>\n",
              "      <th>845</th>\n",
              "      <td>158</td>\n",
              "      <td>0</td>\n",
              "      <td>1</td>\n",
              "      <td>0.686847</td>\n",
              "      <td>0</td>\n",
              "      <td>0</td>\n",
              "      <td>0.097594</td>\n",
              "      <td>2</td>\n",
              "    </tr>\n",
              "    <tr>\n",
              "      <th>846</th>\n",
              "      <td>174</td>\n",
              "      <td>0</td>\n",
              "      <td>1</td>\n",
              "      <td>0.724426</td>\n",
              "      <td>0</td>\n",
              "      <td>0</td>\n",
              "      <td>0.057971</td>\n",
              "      <td>0</td>\n",
              "    </tr>\n",
              "    <tr>\n",
              "      <th>847</th>\n",
              "      <td>467</td>\n",
              "      <td>1</td>\n",
              "      <td>0</td>\n",
              "      <td>0.298538</td>\n",
              "      <td>1</td>\n",
              "      <td>0</td>\n",
              "      <td>0.050749</td>\n",
              "      <td>2</td>\n",
              "    </tr>\n",
              "    <tr>\n",
              "      <th>848</th>\n",
              "      <td>1112</td>\n",
              "      <td>2</td>\n",
              "      <td>0</td>\n",
              "      <td>0.035490</td>\n",
              "      <td>1</td>\n",
              "      <td>1</td>\n",
              "      <td>0.026887</td>\n",
              "      <td>2</td>\n",
              "    </tr>\n",
              "    <tr>\n",
              "      <th>849</th>\n",
              "      <td>425</td>\n",
              "      <td>1</td>\n",
              "      <td>1</td>\n",
              "      <td>0.649269</td>\n",
              "      <td>0</td>\n",
              "      <td>0</td>\n",
              "      <td>0.025374</td>\n",
              "      <td>2</td>\n",
              "    </tr>\n",
              "  </tbody>\n",
              "</table>\n",
              "<p>848 rows × 8 columns</p>\n",
              "</div>"
            ],
            "text/plain": [
              "     passenger_id  pclass  sex       age  sibsp  parch      fare  embarked\n",
              "0            1216       2    0  0.348643      0      0  0.015094         1\n",
              "1             699       2    1  0.473904      0      0  0.016908         2\n",
              "2            1267       2    0  0.373695      1      1  0.047138         2\n",
              "3             449       1    0  0.674321      1      3  0.044893         2\n",
              "4             576       1    1  0.498956      0      0  0.025374         2\n",
              "..            ...     ...  ...       ...    ...    ...       ...       ...\n",
              "845           158       0    1  0.686847      0      0  0.097594         2\n",
              "846           174       0    1  0.724426      0      0  0.057971         0\n",
              "847           467       1    0  0.298538      1      0  0.050749         2\n",
              "848          1112       2    0  0.035490      1      1  0.026887         2\n",
              "849           425       1    1  0.649269      0      0  0.025374         2\n",
              "\n",
              "[848 rows x 8 columns]"
            ]
          },
          "metadata": {},
          "execution_count": 187
        }
      ]
    },
    {
      "cell_type": "code",
      "metadata": {
        "colab": {
          "base_uri": "https://localhost:8080/"
        },
        "id": "o5fYM1P1o-3l",
        "outputId": "b38ef28d-ee25-4692-9058-944e0129fbbc"
      },
      "source": [
        "Y"
      ],
      "execution_count": 188,
      "outputs": [
        {
          "output_type": "execute_result",
          "data": {
            "text/plain": [
              "0      1\n",
              "1      0\n",
              "2      0\n",
              "3      1\n",
              "4      0\n",
              "      ..\n",
              "845    0\n",
              "846    0\n",
              "847    1\n",
              "848    0\n",
              "849    0\n",
              "Name: survived, Length: 848, dtype: int64"
            ]
          },
          "metadata": {},
          "execution_count": 188
        }
      ]
    },
    {
      "cell_type": "code",
      "metadata": {
        "id": "HbfCiTuspIr7"
      },
      "source": [
        "# For training the model we divide the data into training data and testing data\n",
        "# for that we use train_test_split function\n",
        "\n",
        "X_train, X_test, Y_train, Y_test = model_selection.train_test_split(X, Y, test_size = 0.3, random_state = 0, stratify=Y )"
      ],
      "execution_count": 189,
      "outputs": []
    },
    {
      "cell_type": "code",
      "metadata": {
        "colab": {
          "base_uri": "https://localhost:8080/"
        },
        "id": "vSzWcGRoqfnp",
        "outputId": "f1c6bfea-a33e-4e57-dcdd-ce022fab4f21"
      },
      "source": [
        "X_train.shape"
      ],
      "execution_count": 191,
      "outputs": [
        {
          "output_type": "execute_result",
          "data": {
            "text/plain": [
              "(593, 8)"
            ]
          },
          "metadata": {},
          "execution_count": 191
        }
      ]
    },
    {
      "cell_type": "code",
      "metadata": {
        "colab": {
          "base_uri": "https://localhost:8080/"
        },
        "id": "1ygi_irxqkHe",
        "outputId": "7fd70a52-d11f-45c0-f756-53ffdf9dd227"
      },
      "source": [
        "Y_train.shape"
      ],
      "execution_count": 192,
      "outputs": [
        {
          "output_type": "execute_result",
          "data": {
            "text/plain": [
              "(593,)"
            ]
          },
          "metadata": {},
          "execution_count": 192
        }
      ]
    },
    {
      "cell_type": "code",
      "metadata": {
        "colab": {
          "base_uri": "https://localhost:8080/"
        },
        "id": "AMUsD4-Cqp_9",
        "outputId": "81f90b9d-635b-43e4-a85f-fb969d0b0f1b"
      },
      "source": [
        "X_test.shape"
      ],
      "execution_count": 193,
      "outputs": [
        {
          "output_type": "execute_result",
          "data": {
            "text/plain": [
              "(255, 8)"
            ]
          },
          "metadata": {},
          "execution_count": 193
        }
      ]
    },
    {
      "cell_type": "code",
      "metadata": {
        "colab": {
          "base_uri": "https://localhost:8080/"
        },
        "id": "pIvCvoVxqs7T",
        "outputId": "7643d403-091e-4f61-b14f-0e7c69c7d4c0"
      },
      "source": [
        "Y_test.shape"
      ],
      "execution_count": 194,
      "outputs": [
        {
          "output_type": "execute_result",
          "data": {
            "text/plain": [
              "(255,)"
            ]
          },
          "metadata": {},
          "execution_count": 194
        }
      ]
    },
    {
      "cell_type": "markdown",
      "metadata": {
        "id": "KQovyX8wrrI3"
      },
      "source": [
        "**USING THE DECISION TREE CLASSIFIER TO TRAIN THE MODEL**"
      ]
    },
    {
      "cell_type": "code",
      "metadata": {
        "id": "_0NSVboQr52l"
      },
      "source": [
        "from sklearn.tree import DecisionTreeClassifier"
      ],
      "execution_count": 195,
      "outputs": []
    },
    {
      "cell_type": "code",
      "metadata": {
        "id": "OXWNGqsstbup"
      },
      "source": [
        "Model = DecisionTreeClassifier(criterion = \"entropy\", random_state = 0)"
      ],
      "execution_count": 196,
      "outputs": []
    },
    {
      "cell_type": "code",
      "metadata": {
        "id": "7FCqkYrot8ld"
      },
      "source": [
        "Model = Model.fit(X_train,Y_train)"
      ],
      "execution_count": 197,
      "outputs": []
    },
    {
      "cell_type": "code",
      "metadata": {
        "id": "CG2tQE0Sxn27"
      },
      "source": [
        "y_pred = Model.predict(X_test)"
      ],
      "execution_count": 198,
      "outputs": []
    },
    {
      "cell_type": "code",
      "metadata": {
        "id": "ssTU8jmQx6gG"
      },
      "source": [
        "from sklearn import metrics"
      ],
      "execution_count": 200,
      "outputs": []
    },
    {
      "cell_type": "code",
      "metadata": {
        "colab": {
          "base_uri": "https://localhost:8080/"
        },
        "id": "TNUQoP5hxwAr",
        "outputId": "7388b3e0-b65f-47a9-a951-7667f02b76f4"
      },
      "source": [
        "print(\"Accuracy:\",metrics.accuracy_score(Y_test, y_pred))"
      ],
      "execution_count": 201,
      "outputs": [
        {
          "output_type": "stream",
          "name": "stdout",
          "text": [
            "Accuracy: 0.7490196078431373\n"
          ]
        }
      ]
    },
    {
      "cell_type": "code",
      "metadata": {
        "id": "hinQ-rITyMJ_"
      },
      "source": [
        "Score = Model.score(X_test,Y_test)"
      ],
      "execution_count": 202,
      "outputs": []
    },
    {
      "cell_type": "code",
      "metadata": {
        "colab": {
          "base_uri": "https://localhost:8080/"
        },
        "id": "M0Zj66Fdy_QD",
        "outputId": "759db76c-b5db-443f-e365-2bdb59ebc501"
      },
      "source": [
        "print(Score)"
      ],
      "execution_count": 203,
      "outputs": [
        {
          "output_type": "stream",
          "name": "stdout",
          "text": [
            "0.7490196078431373\n"
          ]
        }
      ]
    }
  ]
}