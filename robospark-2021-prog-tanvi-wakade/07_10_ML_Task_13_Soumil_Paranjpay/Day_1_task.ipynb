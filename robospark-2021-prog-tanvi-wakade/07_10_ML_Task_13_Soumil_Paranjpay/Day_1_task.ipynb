{
  "nbformat": 4,
  "nbformat_minor": 2,
  "metadata": {
    "kernelspec": {
      "name": "python3",
      "display_name": "Python 3.9.7 64-bit"
    },
    "language_info": {
      "codemirror_mode": {
        "name": "ipython",
        "version": 3
      },
      "file_extension": ".py",
      "mimetype": "text/x-python",
      "name": "python",
      "nbconvert_exporter": "python",
      "pygments_lexer": "ipython3",
      "version": "3.9.7"
    },
    "colab": {
      "name": "Robosoft ML 2021-22 Day1 task.ipynb",
      "provenance": []
    },
    "interpreter": {
      "hash": "b0fa6594d8f4cbf19f97940f81e996739fb7646882a419484c72d19e05852a7e"
    }
  },
  "cells": [
    {
      "cell_type": "markdown",
      "source": [
        "Download the dataset from [here](https://drive.google.com/file/d/1dVbihPJFSh6sqUkOZBQHyTFZBHPowLPc/view?usp=sharing)"
      ],
      "metadata": {
        "id": "fhSR1uEnTiGy"
      }
    },
    {
      "cell_type": "code",
      "execution_count": 1,
      "source": [
        "import pandas\n",
        "df = pandas.read_csv('ecommerce.csv')"
      ],
      "outputs": [],
      "metadata": {}
    },
    {
      "cell_type": "markdown",
      "source": [
        "**Check the head of the DataFrame.**"
      ],
      "metadata": {
        "id": "tjdO3GJSTE0i"
      }
    },
    {
      "cell_type": "code",
      "execution_count": 41,
      "source": [
        "df.head()"
      ],
      "outputs": [
        {
          "output_type": "execute_result",
          "data": {
            "text/html": [
              "<div>\n",
              "<style scoped>\n",
              "    .dataframe tbody tr th:only-of-type {\n",
              "        vertical-align: middle;\n",
              "    }\n",
              "\n",
              "    .dataframe tbody tr th {\n",
              "        vertical-align: top;\n",
              "    }\n",
              "\n",
              "    .dataframe thead th {\n",
              "        text-align: right;\n",
              "    }\n",
              "</style>\n",
              "<table border=\"1\" class=\"dataframe\">\n",
              "  <thead>\n",
              "    <tr style=\"text-align: right;\">\n",
              "      <th></th>\n",
              "      <th>Address</th>\n",
              "      <th>Lot</th>\n",
              "      <th>AM or PM</th>\n",
              "      <th>Browser Info</th>\n",
              "      <th>Company</th>\n",
              "      <th>Credit Card</th>\n",
              "      <th>CC Exp Date</th>\n",
              "      <th>CC Security Code</th>\n",
              "      <th>CC Provider</th>\n",
              "      <th>Email</th>\n",
              "      <th>Job</th>\n",
              "      <th>IP Address</th>\n",
              "      <th>Language</th>\n",
              "      <th>Purchase Price</th>\n",
              "      <th>JobCount</th>\n",
              "    </tr>\n",
              "  </thead>\n",
              "  <tbody>\n",
              "    <tr>\n",
              "      <th>0</th>\n",
              "      <td>16629 Pace Camp Apt. 448\\r\\nAlexisborough, NE ...</td>\n",
              "      <td>46 in</td>\n",
              "      <td>PM</td>\n",
              "      <td>Opera/9.56.(X11; Linux x86_64; sl-SI) Presto/2...</td>\n",
              "      <td>Martinez-Herman</td>\n",
              "      <td>6011929061123406</td>\n",
              "      <td>02/20</td>\n",
              "      <td>900</td>\n",
              "      <td>JCB 16 digit</td>\n",
              "      <td>pdunlap@yahoo.com</td>\n",
              "      <td>Scientist, product/process development</td>\n",
              "      <td>149.146.147.205</td>\n",
              "      <td>el</td>\n",
              "      <td>98.14</td>\n",
              "      <td>19</td>\n",
              "    </tr>\n",
              "    <tr>\n",
              "      <th>1</th>\n",
              "      <td>9374 Jasmine Spurs Suite 508\\r\\nSouth John, TN...</td>\n",
              "      <td>28 rn</td>\n",
              "      <td>PM</td>\n",
              "      <td>Opera/8.93.(Windows 98; Win 9x 4.90; en-US) Pr...</td>\n",
              "      <td>Fletcher, Richards and Whitaker</td>\n",
              "      <td>3337758169645356</td>\n",
              "      <td>11/18</td>\n",
              "      <td>561</td>\n",
              "      <td>Mastercard</td>\n",
              "      <td>anthony41@reed.com</td>\n",
              "      <td>Drilling engineer</td>\n",
              "      <td>15.160.41.51</td>\n",
              "      <td>fr</td>\n",
              "      <td>70.73</td>\n",
              "      <td>21</td>\n",
              "    </tr>\n",
              "    <tr>\n",
              "      <th>2</th>\n",
              "      <td>Unit 0065 Box 5052\\r\\nDPO AP 27450</td>\n",
              "      <td>94 vE</td>\n",
              "      <td>PM</td>\n",
              "      <td>Mozilla/5.0 (compatible; MSIE 9.0; Windows NT ...</td>\n",
              "      <td>Simpson, Williams and Pham</td>\n",
              "      <td>675957666125</td>\n",
              "      <td>08/19</td>\n",
              "      <td>699</td>\n",
              "      <td>JCB 16 digit</td>\n",
              "      <td>amymiller@morales-harrison.com</td>\n",
              "      <td>Customer service manager</td>\n",
              "      <td>132.207.160.22</td>\n",
              "      <td>de</td>\n",
              "      <td>0.95</td>\n",
              "      <td>18</td>\n",
              "    </tr>\n",
              "    <tr>\n",
              "      <th>3</th>\n",
              "      <td>7780 Julia Fords\\r\\nNew Stacy, WA 45798</td>\n",
              "      <td>36 vm</td>\n",
              "      <td>PM</td>\n",
              "      <td>Mozilla/5.0 (Macintosh; Intel Mac OS X 10_8_0 ...</td>\n",
              "      <td>Williams, Marshall and Buchanan</td>\n",
              "      <td>6011578504430710</td>\n",
              "      <td>02/24</td>\n",
              "      <td>384</td>\n",
              "      <td>Discover</td>\n",
              "      <td>brent16@olson-robinson.info</td>\n",
              "      <td>Drilling engineer</td>\n",
              "      <td>30.250.74.19</td>\n",
              "      <td>es</td>\n",
              "      <td>78.04</td>\n",
              "      <td>21</td>\n",
              "    </tr>\n",
              "    <tr>\n",
              "      <th>4</th>\n",
              "      <td>23012 Munoz Drive Suite 337\\r\\nNew Cynthia, TX...</td>\n",
              "      <td>20 IE</td>\n",
              "      <td>AM</td>\n",
              "      <td>Opera/9.58.(X11; Linux x86_64; it-IT) Presto/2...</td>\n",
              "      <td>Brown, Watson and Andrews</td>\n",
              "      <td>6011456623207998</td>\n",
              "      <td>10/25</td>\n",
              "      <td>678</td>\n",
              "      <td>Diners Club / Carte Blanche</td>\n",
              "      <td>christopherwright@gmail.com</td>\n",
              "      <td>Fine artist</td>\n",
              "      <td>24.140.33.94</td>\n",
              "      <td>es</td>\n",
              "      <td>77.82</td>\n",
              "      <td>13</td>\n",
              "    </tr>\n",
              "  </tbody>\n",
              "</table>\n",
              "</div>"
            ],
            "text/plain": [
              "                                             Address    Lot AM or PM  \\\n",
              "0  16629 Pace Camp Apt. 448\\r\\nAlexisborough, NE ...  46 in       PM   \n",
              "1  9374 Jasmine Spurs Suite 508\\r\\nSouth John, TN...  28 rn       PM   \n",
              "2                 Unit 0065 Box 5052\\r\\nDPO AP 27450  94 vE       PM   \n",
              "3            7780 Julia Fords\\r\\nNew Stacy, WA 45798  36 vm       PM   \n",
              "4  23012 Munoz Drive Suite 337\\r\\nNew Cynthia, TX...  20 IE       AM   \n",
              "\n",
              "                                        Browser Info  \\\n",
              "0  Opera/9.56.(X11; Linux x86_64; sl-SI) Presto/2...   \n",
              "1  Opera/8.93.(Windows 98; Win 9x 4.90; en-US) Pr...   \n",
              "2  Mozilla/5.0 (compatible; MSIE 9.0; Windows NT ...   \n",
              "3  Mozilla/5.0 (Macintosh; Intel Mac OS X 10_8_0 ...   \n",
              "4  Opera/9.58.(X11; Linux x86_64; it-IT) Presto/2...   \n",
              "\n",
              "                           Company       Credit Card CC Exp Date  \\\n",
              "0                  Martinez-Herman  6011929061123406       02/20   \n",
              "1  Fletcher, Richards and Whitaker  3337758169645356       11/18   \n",
              "2       Simpson, Williams and Pham      675957666125       08/19   \n",
              "3  Williams, Marshall and Buchanan  6011578504430710       02/24   \n",
              "4        Brown, Watson and Andrews  6011456623207998       10/25   \n",
              "\n",
              "   CC Security Code                  CC Provider  \\\n",
              "0               900                 JCB 16 digit   \n",
              "1               561                   Mastercard   \n",
              "2               699                 JCB 16 digit   \n",
              "3               384                     Discover   \n",
              "4               678  Diners Club / Carte Blanche   \n",
              "\n",
              "                            Email                                     Job  \\\n",
              "0               pdunlap@yahoo.com  Scientist, product/process development   \n",
              "1              anthony41@reed.com                       Drilling engineer   \n",
              "2  amymiller@morales-harrison.com                Customer service manager   \n",
              "3     brent16@olson-robinson.info                       Drilling engineer   \n",
              "4     christopherwright@gmail.com                             Fine artist   \n",
              "\n",
              "        IP Address Language  Purchase Price  JobCount  \n",
              "0  149.146.147.205       el           98.14        19  \n",
              "1     15.160.41.51       fr           70.73        21  \n",
              "2   132.207.160.22       de            0.95        18  \n",
              "3     30.250.74.19       es           78.04        21  \n",
              "4     24.140.33.94       es           77.82        13  "
            ]
          },
          "metadata": {},
          "execution_count": 41
        }
      ],
      "metadata": {
        "id": "wEOFLIC2TE0t",
        "outputId": "5db9a052-2f51-4b11-9f87-d2581500d742"
      }
    },
    {
      "cell_type": "markdown",
      "source": [
        "** How many rows and columns are there? **"
      ],
      "metadata": {
        "id": "5Lo-QcqMTE0w"
      }
    },
    {
      "cell_type": "code",
      "execution_count": 40,
      "source": [
        "df.shape[0], df.shape[1]"
      ],
      "outputs": [
        {
          "output_type": "execute_result",
          "data": {
            "text/plain": [
              "(10000, 15)"
            ]
          },
          "metadata": {},
          "execution_count": 40
        }
      ],
      "metadata": {
        "id": "iH4PHhIwTE01",
        "outputId": "cad45a4a-f5a1-4a36-d01a-19a7921b1a4b"
      }
    },
    {
      "cell_type": "markdown",
      "source": [
        "** What is the average Purchase Price? **"
      ],
      "metadata": {
        "id": "mYknbrScTE03"
      }
    },
    {
      "cell_type": "code",
      "execution_count": 39,
      "source": [
        "df[\"Purchase Price\"].mean()"
      ],
      "outputs": [
        {
          "output_type": "execute_result",
          "data": {
            "text/plain": [
              "50.347302"
            ]
          },
          "metadata": {},
          "execution_count": 39
        }
      ],
      "metadata": {
        "id": "9XTTR2VrTE05",
        "outputId": "65d2b484-0c2a-4816-bd56-41839bb3edfa"
      }
    },
    {
      "cell_type": "markdown",
      "source": [
        "** What were the highest and lowest purchase prices? **"
      ],
      "metadata": {
        "id": "pAoxjDY1TE07"
      }
    },
    {
      "cell_type": "code",
      "execution_count": 38,
      "source": [
        "df[\"Purchase Price\"].max(), df[\"Purchase Price\"].min()"
      ],
      "outputs": [
        {
          "output_type": "execute_result",
          "data": {
            "text/plain": [
              "(99.99, 0.0)"
            ]
          },
          "metadata": {},
          "execution_count": 38
        }
      ],
      "metadata": {
        "id": "QX1JwUpmTE08",
        "outputId": "3689027b-4b8f-4a47-a88d-90ffbbfcfde8"
      }
    },
    {
      "cell_type": "markdown",
      "source": [
        "** How many people have the job title of \"Lawyer\" ? **\n"
      ],
      "metadata": {
        "id": "f3CHM1gTTE0-"
      }
    },
    {
      "cell_type": "code",
      "execution_count": 37,
      "source": [
        "df[(df[\"Job\"] == \"Lawyer\")].shape[0]"
      ],
      "outputs": [
        {
          "output_type": "execute_result",
          "data": {
            "text/plain": [
              "30"
            ]
          },
          "metadata": {},
          "execution_count": 37
        }
      ],
      "metadata": {
        "id": "Kk1k9pdmTE0_"
      }
    },
    {
      "cell_type": "markdown",
      "source": [
        "** How many people made the purchase during the AM and how many people made the purchase during PM ? **\n",
        "\n"
      ],
      "metadata": {
        "id": "Uuf7AlD0TE1B"
      }
    },
    {
      "cell_type": "code",
      "execution_count": 36,
      "source": [
        "df[df[\"AM or PM\"] == \"AM\"].shape[0], df[df[\"AM or PM\"] == \"PM\"].shape[0]"
      ],
      "outputs": [
        {
          "output_type": "execute_result",
          "data": {
            "text/plain": [
              "(4932, 5068)"
            ]
          },
          "metadata": {},
          "execution_count": 36
        }
      ],
      "metadata": {
        "id": "15bz7ui0TE1D",
        "outputId": "1eb9113a-8cbf-4c5a-cbe0-54726b46f639"
      }
    },
    {
      "cell_type": "markdown",
      "source": [
        "** What are the 5 most common Job Titles? **"
      ],
      "metadata": {
        "id": "Re05oVGfTE1E"
      }
    },
    {
      "cell_type": "code",
      "execution_count": 43,
      "source": [
        "df.value_counts('Job').head()"
      ],
      "outputs": [
        {
          "output_type": "execute_result",
          "data": {
            "text/plain": [
              "Job\n",
              "Interior and spatial designer        31\n",
              "Lawyer                               30\n",
              "Social researcher                    28\n",
              "Designer, jewellery                  27\n",
              "Research officer, political party    27\n",
              "dtype: int64"
            ]
          },
          "metadata": {},
          "execution_count": 43
        }
      ],
      "metadata": {
        "id": "3JPrxQNpTE1F"
      }
    },
    {
      "cell_type": "markdown",
      "source": [
        "** Someone made a purchase that came from Lot: \"90 WT\" , what was the Purchase Price for this transaction? **"
      ],
      "metadata": {
        "id": "kQjVw0VsTE1G"
      }
    },
    {
      "cell_type": "code",
      "execution_count": 53,
      "source": [
        "df.where(df[\"Lot\"] == \"90 WT\").dropna().iloc[0][\"Purchase Price\"]"
      ],
      "outputs": [
        {
          "output_type": "execute_result",
          "data": {
            "text/plain": [
              "75.1"
            ]
          },
          "metadata": {},
          "execution_count": 53
        }
      ],
      "metadata": {
        "id": "99gDYg3KTE1H",
        "outputId": "b3df1b99-7d69-4170-b7b1-0d43482a2306"
      }
    },
    {
      "cell_type": "markdown",
      "source": [
        "** What is the email of the person with the following Credit Card Number: 4926535242672853 **"
      ],
      "metadata": {
        "id": "gaGZoVevTE1J"
      }
    },
    {
      "cell_type": "code",
      "execution_count": 58,
      "source": [
        "df.where(df[\"Credit Card\"] == 4926535242672853).dropna().iloc[0][\"Email\"]"
      ],
      "outputs": [
        {
          "output_type": "execute_result",
          "data": {
            "text/plain": [
              "'bondellen@williams-garza.com'"
            ]
          },
          "metadata": {},
          "execution_count": 58
        }
      ],
      "metadata": {
        "id": "PyM1KsInTE1K",
        "outputId": "0518bab4-b602-46ca-c3b9-3f92ee1a72a9"
      }
    },
    {
      "cell_type": "markdown",
      "source": [
        "** How many people have American Express as their Credit Card Provider *and* made a purchase above $95 ?**"
      ],
      "metadata": {
        "id": "kbK-nQPITE1K"
      }
    },
    {
      "cell_type": "code",
      "execution_count": 65,
      "source": [
        "df.where((df[\"CC Provider\"] == \"American Express\") & (df[\"Purchase Price\"] > 95)).dropna().shape[0]"
      ],
      "outputs": [
        {
          "output_type": "execute_result",
          "data": {
            "text/plain": [
              "39"
            ]
          },
          "metadata": {},
          "execution_count": 65
        }
      ],
      "metadata": {
        "id": "1D94G_2zTE1L"
      }
    },
    {
      "cell_type": "markdown",
      "source": [
        "** Hard: How many people have a credit card that expires in 2025? **"
      ],
      "metadata": {
        "id": "2V33cNyNTE1L"
      }
    },
    {
      "cell_type": "code",
      "execution_count": 85,
      "source": [
        "df.where(df[\"CC Exp Date\"].str.contains(\"/25\")).dropna().shape[0]"
      ],
      "outputs": [
        {
          "output_type": "execute_result",
          "data": {
            "text/plain": [
              "1033"
            ]
          },
          "metadata": {},
          "execution_count": 85
        }
      ],
      "metadata": {
        "id": "H3j0u7scTE1L",
        "outputId": "0b169fca-60e8-44bb-d0fd-4d7e15e77fdd"
      }
    },
    {
      "cell_type": "markdown",
      "source": [
        "** Hard: What are the top 5 most popular email providers/hosts (e.g. gmail.com, yahoo.com, etc...) **"
      ],
      "metadata": {
        "id": "SpULOOIcTE1M"
      }
    },
    {
      "cell_type": "code",
      "execution_count": 93,
      "source": [
        "df['Email Host'] = df['Email'].str.split('@').str[1]\n",
        "df.value_counts(\"Email Host\").head()"
      ],
      "outputs": [
        {
          "output_type": "execute_result",
          "data": {
            "text/plain": [
              "Email Host\n",
              "hotmail.com     1638\n",
              "yahoo.com       1616\n",
              "gmail.com       1605\n",
              "smith.com         42\n",
              "williams.com      37\n",
              "dtype: int64"
            ]
          },
          "metadata": {},
          "execution_count": 93
        }
      ],
      "metadata": {
        "id": "gOB6hkWtTE1N",
        "outputId": "1a67f942-7779-45bc-f54e-0be9d6095374"
      }
    },
    {
      "cell_type": "markdown",
      "source": [
        "# Great Job!"
      ],
      "metadata": {
        "id": "GNlmaKMyTE1O"
      }
    }
  ]
}