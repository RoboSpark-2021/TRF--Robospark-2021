{
  "nbformat": 4,
  "nbformat_minor": 0,
  "metadata": {
    "colab": {
      "name": "workshop_proj.ipynb",
      "provenance": [],
      "collapsed_sections": []
    },
    "kernelspec": {
      "name": "python3",
      "display_name": "Python 3"
    },
    "language_info": {
      "name": "python"
    }
  },
  "cells": [
    {
      "cell_type": "markdown",
      "metadata": {
        "id": "xCVygxUXqxwc"
      },
      "source": [
        "# **DRIVE ACCESS AUTHENTICATION**\n",
        "\n"
      ]
    },
    {
      "cell_type": "code",
      "metadata": {
        "colab": {
          "base_uri": "https://localhost:8080/"
        },
        "id": "PqapEvfroYTl",
        "outputId": "773fa922-60ae-4296-eb56-92244e6bd188"
      },
      "source": [
        "\n",
        "from google.colab import drive\n",
        "drive.mount('/content/drive')\n"
      ],
      "execution_count": 1,
      "outputs": [
        {
          "output_type": "stream",
          "name": "stdout",
          "text": [
            "Mounted at /content/drive\n"
          ]
        }
      ]
    },
    {
      "cell_type": "markdown",
      "metadata": {
        "id": "43y0Yh1cqkR1"
      },
      "source": [
        "# **IMPORTING PACKAGES**"
      ]
    },
    {
      "cell_type": "code",
      "metadata": {
        "id": "fVyK8FegpDe4"
      },
      "source": [
        "import pandas as pd       # dataframe operations \n",
        "import numpy as np        # numeric operations "
      ],
      "execution_count": 2,
      "outputs": []
    },
    {
      "cell_type": "markdown",
      "metadata": {
        "id": "zVJxAu2Fq6Zj"
      },
      "source": [
        "# **READING THE DATASET**"
      ]
    },
    {
      "cell_type": "code",
      "metadata": {
        "id": "KT30b1kLopjJ"
      },
      "source": [
        "path = '/content/drive/MyDrive/Data/dementia_data.csv'  # path of the dataset \n",
        "\n",
        "df = pd.read_csv(path)  # reads data and stores as dataframe \n",
        "\n"
      ],
      "execution_count": 3,
      "outputs": []
    },
    {
      "cell_type": "markdown",
      "metadata": {
        "id": "PmUf0dzprGYf"
      },
      "source": [
        "# **DATA PREPROCESSING**"
      ]
    },
    {
      "cell_type": "markdown",
      "metadata": {
        "id": "rOAypb3Yt3Yf"
      },
      "source": [
        "**SOME PANDAS COMMANDS**"
      ]
    },
    {
      "cell_type": "code",
      "metadata": {
        "id": "GfaRVp1wixLz",
        "colab": {
          "base_uri": "https://localhost:8080/",
          "height": 417
        },
        "outputId": "21e1e59a-c725-4d37-f581-7d80171dadac"
      },
      "source": [
        "df"
      ],
      "execution_count": 4,
      "outputs": [
        {
          "output_type": "execute_result",
          "data": {
            "text/html": [
              "<div>\n",
              "<style scoped>\n",
              "    .dataframe tbody tr th:only-of-type {\n",
              "        vertical-align: middle;\n",
              "    }\n",
              "\n",
              "    .dataframe tbody tr th {\n",
              "        vertical-align: top;\n",
              "    }\n",
              "\n",
              "    .dataframe thead th {\n",
              "        text-align: right;\n",
              "    }\n",
              "</style>\n",
              "<table border=\"1\" class=\"dataframe\">\n",
              "  <thead>\n",
              "    <tr style=\"text-align: right;\">\n",
              "      <th></th>\n",
              "      <th>Subject ID</th>\n",
              "      <th>MRI ID</th>\n",
              "      <th>Group</th>\n",
              "      <th>Visit</th>\n",
              "      <th>MR Delay</th>\n",
              "      <th>M/F</th>\n",
              "      <th>Age</th>\n",
              "      <th>EDUC</th>\n",
              "      <th>SES</th>\n",
              "      <th>MMSE</th>\n",
              "      <th>eTIV</th>\n",
              "      <th>nWBV</th>\n",
              "      <th>ASF</th>\n",
              "    </tr>\n",
              "  </thead>\n",
              "  <tbody>\n",
              "    <tr>\n",
              "      <th>0</th>\n",
              "      <td>OAS2_0001</td>\n",
              "      <td>OAS2_0001_MR1</td>\n",
              "      <td>Nondemented</td>\n",
              "      <td>1</td>\n",
              "      <td>0</td>\n",
              "      <td>M</td>\n",
              "      <td>87</td>\n",
              "      <td>14</td>\n",
              "      <td>2.0</td>\n",
              "      <td>27.0</td>\n",
              "      <td>1987</td>\n",
              "      <td>0.696</td>\n",
              "      <td>0.883</td>\n",
              "    </tr>\n",
              "    <tr>\n",
              "      <th>1</th>\n",
              "      <td>OAS2_0001</td>\n",
              "      <td>OAS2_0001_MR2</td>\n",
              "      <td>Nondemented</td>\n",
              "      <td>2</td>\n",
              "      <td>457</td>\n",
              "      <td>M</td>\n",
              "      <td>88</td>\n",
              "      <td>14</td>\n",
              "      <td>2.0</td>\n",
              "      <td>30.0</td>\n",
              "      <td>2004</td>\n",
              "      <td>0.681</td>\n",
              "      <td>0.876</td>\n",
              "    </tr>\n",
              "    <tr>\n",
              "      <th>2</th>\n",
              "      <td>OAS2_0002</td>\n",
              "      <td>OAS2_0002_MR1</td>\n",
              "      <td>Demented</td>\n",
              "      <td>1</td>\n",
              "      <td>0</td>\n",
              "      <td>M</td>\n",
              "      <td>75</td>\n",
              "      <td>12</td>\n",
              "      <td>NaN</td>\n",
              "      <td>23.0</td>\n",
              "      <td>1678</td>\n",
              "      <td>0.736</td>\n",
              "      <td>1.046</td>\n",
              "    </tr>\n",
              "    <tr>\n",
              "      <th>3</th>\n",
              "      <td>OAS2_0002</td>\n",
              "      <td>OAS2_0002_MR2</td>\n",
              "      <td>Demented</td>\n",
              "      <td>2</td>\n",
              "      <td>560</td>\n",
              "      <td>M</td>\n",
              "      <td>76</td>\n",
              "      <td>12</td>\n",
              "      <td>NaN</td>\n",
              "      <td>28.0</td>\n",
              "      <td>1738</td>\n",
              "      <td>0.713</td>\n",
              "      <td>1.010</td>\n",
              "    </tr>\n",
              "    <tr>\n",
              "      <th>4</th>\n",
              "      <td>OAS2_0002</td>\n",
              "      <td>OAS2_0002_MR3</td>\n",
              "      <td>Demented</td>\n",
              "      <td>3</td>\n",
              "      <td>1895</td>\n",
              "      <td>M</td>\n",
              "      <td>80</td>\n",
              "      <td>12</td>\n",
              "      <td>NaN</td>\n",
              "      <td>22.0</td>\n",
              "      <td>1698</td>\n",
              "      <td>0.701</td>\n",
              "      <td>1.034</td>\n",
              "    </tr>\n",
              "    <tr>\n",
              "      <th>...</th>\n",
              "      <td>...</td>\n",
              "      <td>...</td>\n",
              "      <td>...</td>\n",
              "      <td>...</td>\n",
              "      <td>...</td>\n",
              "      <td>...</td>\n",
              "      <td>...</td>\n",
              "      <td>...</td>\n",
              "      <td>...</td>\n",
              "      <td>...</td>\n",
              "      <td>...</td>\n",
              "      <td>...</td>\n",
              "      <td>...</td>\n",
              "    </tr>\n",
              "    <tr>\n",
              "      <th>368</th>\n",
              "      <td>OAS2_0185</td>\n",
              "      <td>OAS2_0185_MR2</td>\n",
              "      <td>Demented</td>\n",
              "      <td>2</td>\n",
              "      <td>842</td>\n",
              "      <td>M</td>\n",
              "      <td>82</td>\n",
              "      <td>16</td>\n",
              "      <td>1.0</td>\n",
              "      <td>28.0</td>\n",
              "      <td>1693</td>\n",
              "      <td>0.694</td>\n",
              "      <td>1.037</td>\n",
              "    </tr>\n",
              "    <tr>\n",
              "      <th>369</th>\n",
              "      <td>OAS2_0185</td>\n",
              "      <td>OAS2_0185_MR3</td>\n",
              "      <td>Demented</td>\n",
              "      <td>3</td>\n",
              "      <td>2297</td>\n",
              "      <td>M</td>\n",
              "      <td>86</td>\n",
              "      <td>16</td>\n",
              "      <td>1.0</td>\n",
              "      <td>26.0</td>\n",
              "      <td>1688</td>\n",
              "      <td>0.675</td>\n",
              "      <td>1.040</td>\n",
              "    </tr>\n",
              "    <tr>\n",
              "      <th>370</th>\n",
              "      <td>OAS2_0186</td>\n",
              "      <td>OAS2_0186_MR1</td>\n",
              "      <td>Nondemented</td>\n",
              "      <td>1</td>\n",
              "      <td>0</td>\n",
              "      <td>F</td>\n",
              "      <td>61</td>\n",
              "      <td>13</td>\n",
              "      <td>2.0</td>\n",
              "      <td>30.0</td>\n",
              "      <td>1319</td>\n",
              "      <td>0.801</td>\n",
              "      <td>1.331</td>\n",
              "    </tr>\n",
              "    <tr>\n",
              "      <th>371</th>\n",
              "      <td>OAS2_0186</td>\n",
              "      <td>OAS2_0186_MR2</td>\n",
              "      <td>Nondemented</td>\n",
              "      <td>2</td>\n",
              "      <td>763</td>\n",
              "      <td>F</td>\n",
              "      <td>63</td>\n",
              "      <td>13</td>\n",
              "      <td>2.0</td>\n",
              "      <td>30.0</td>\n",
              "      <td>1327</td>\n",
              "      <td>0.796</td>\n",
              "      <td>1.323</td>\n",
              "    </tr>\n",
              "    <tr>\n",
              "      <th>372</th>\n",
              "      <td>OAS2_0186</td>\n",
              "      <td>OAS2_0186_MR3</td>\n",
              "      <td>Nondemented</td>\n",
              "      <td>3</td>\n",
              "      <td>1608</td>\n",
              "      <td>F</td>\n",
              "      <td>65</td>\n",
              "      <td>13</td>\n",
              "      <td>2.0</td>\n",
              "      <td>30.0</td>\n",
              "      <td>1333</td>\n",
              "      <td>0.801</td>\n",
              "      <td>1.317</td>\n",
              "    </tr>\n",
              "  </tbody>\n",
              "</table>\n",
              "<p>373 rows × 13 columns</p>\n",
              "</div>"
            ],
            "text/plain": [
              "    Subject ID         MRI ID        Group  Visit  ...  MMSE  eTIV   nWBV    ASF\n",
              "0    OAS2_0001  OAS2_0001_MR1  Nondemented      1  ...  27.0  1987  0.696  0.883\n",
              "1    OAS2_0001  OAS2_0001_MR2  Nondemented      2  ...  30.0  2004  0.681  0.876\n",
              "2    OAS2_0002  OAS2_0002_MR1     Demented      1  ...  23.0  1678  0.736  1.046\n",
              "3    OAS2_0002  OAS2_0002_MR2     Demented      2  ...  28.0  1738  0.713  1.010\n",
              "4    OAS2_0002  OAS2_0002_MR3     Demented      3  ...  22.0  1698  0.701  1.034\n",
              "..         ...            ...          ...    ...  ...   ...   ...    ...    ...\n",
              "368  OAS2_0185  OAS2_0185_MR2     Demented      2  ...  28.0  1693  0.694  1.037\n",
              "369  OAS2_0185  OAS2_0185_MR3     Demented      3  ...  26.0  1688  0.675  1.040\n",
              "370  OAS2_0186  OAS2_0186_MR1  Nondemented      1  ...  30.0  1319  0.801  1.331\n",
              "371  OAS2_0186  OAS2_0186_MR2  Nondemented      2  ...  30.0  1327  0.796  1.323\n",
              "372  OAS2_0186  OAS2_0186_MR3  Nondemented      3  ...  30.0  1333  0.801  1.317\n",
              "\n",
              "[373 rows x 13 columns]"
            ]
          },
          "metadata": {},
          "execution_count": 4
        }
      ]
    },
    {
      "cell_type": "code",
      "metadata": {
        "id": "FT_oKlPRjgH7",
        "colab": {
          "base_uri": "https://localhost:8080/",
          "height": 142
        },
        "outputId": "2a01c4d8-f1ca-4792-80ea-7f1e7277bd4a"
      },
      "source": [
        "# shows n entries from the beginning of the dataset \n",
        "#  default = 5 \n",
        "df.head(3)  "
      ],
      "execution_count": 5,
      "outputs": [
        {
          "output_type": "execute_result",
          "data": {
            "text/html": [
              "<div>\n",
              "<style scoped>\n",
              "    .dataframe tbody tr th:only-of-type {\n",
              "        vertical-align: middle;\n",
              "    }\n",
              "\n",
              "    .dataframe tbody tr th {\n",
              "        vertical-align: top;\n",
              "    }\n",
              "\n",
              "    .dataframe thead th {\n",
              "        text-align: right;\n",
              "    }\n",
              "</style>\n",
              "<table border=\"1\" class=\"dataframe\">\n",
              "  <thead>\n",
              "    <tr style=\"text-align: right;\">\n",
              "      <th></th>\n",
              "      <th>Subject ID</th>\n",
              "      <th>MRI ID</th>\n",
              "      <th>Group</th>\n",
              "      <th>Visit</th>\n",
              "      <th>MR Delay</th>\n",
              "      <th>M/F</th>\n",
              "      <th>Age</th>\n",
              "      <th>EDUC</th>\n",
              "      <th>SES</th>\n",
              "      <th>MMSE</th>\n",
              "      <th>eTIV</th>\n",
              "      <th>nWBV</th>\n",
              "      <th>ASF</th>\n",
              "    </tr>\n",
              "  </thead>\n",
              "  <tbody>\n",
              "    <tr>\n",
              "      <th>0</th>\n",
              "      <td>OAS2_0001</td>\n",
              "      <td>OAS2_0001_MR1</td>\n",
              "      <td>Nondemented</td>\n",
              "      <td>1</td>\n",
              "      <td>0</td>\n",
              "      <td>M</td>\n",
              "      <td>87</td>\n",
              "      <td>14</td>\n",
              "      <td>2.0</td>\n",
              "      <td>27.0</td>\n",
              "      <td>1987</td>\n",
              "      <td>0.696</td>\n",
              "      <td>0.883</td>\n",
              "    </tr>\n",
              "    <tr>\n",
              "      <th>1</th>\n",
              "      <td>OAS2_0001</td>\n",
              "      <td>OAS2_0001_MR2</td>\n",
              "      <td>Nondemented</td>\n",
              "      <td>2</td>\n",
              "      <td>457</td>\n",
              "      <td>M</td>\n",
              "      <td>88</td>\n",
              "      <td>14</td>\n",
              "      <td>2.0</td>\n",
              "      <td>30.0</td>\n",
              "      <td>2004</td>\n",
              "      <td>0.681</td>\n",
              "      <td>0.876</td>\n",
              "    </tr>\n",
              "    <tr>\n",
              "      <th>2</th>\n",
              "      <td>OAS2_0002</td>\n",
              "      <td>OAS2_0002_MR1</td>\n",
              "      <td>Demented</td>\n",
              "      <td>1</td>\n",
              "      <td>0</td>\n",
              "      <td>M</td>\n",
              "      <td>75</td>\n",
              "      <td>12</td>\n",
              "      <td>NaN</td>\n",
              "      <td>23.0</td>\n",
              "      <td>1678</td>\n",
              "      <td>0.736</td>\n",
              "      <td>1.046</td>\n",
              "    </tr>\n",
              "  </tbody>\n",
              "</table>\n",
              "</div>"
            ],
            "text/plain": [
              "  Subject ID         MRI ID        Group  Visit  ...  MMSE  eTIV   nWBV    ASF\n",
              "0  OAS2_0001  OAS2_0001_MR1  Nondemented      1  ...  27.0  1987  0.696  0.883\n",
              "1  OAS2_0001  OAS2_0001_MR2  Nondemented      2  ...  30.0  2004  0.681  0.876\n",
              "2  OAS2_0002  OAS2_0002_MR1     Demented      1  ...  23.0  1678  0.736  1.046\n",
              "\n",
              "[3 rows x 13 columns]"
            ]
          },
          "metadata": {},
          "execution_count": 5
        }
      ]
    },
    {
      "cell_type": "code",
      "metadata": {
        "id": "EAfCFUsajrdV",
        "colab": {
          "base_uri": "https://localhost:8080/",
          "height": 203
        },
        "outputId": "afe50365-67d2-47c2-a4c7-9ed4d88e2a06"
      },
      "source": [
        "# shows n entries from the end of the dataset \n",
        "#  default = 5 \n",
        "df.tail()"
      ],
      "execution_count": 6,
      "outputs": [
        {
          "output_type": "execute_result",
          "data": {
            "text/html": [
              "<div>\n",
              "<style scoped>\n",
              "    .dataframe tbody tr th:only-of-type {\n",
              "        vertical-align: middle;\n",
              "    }\n",
              "\n",
              "    .dataframe tbody tr th {\n",
              "        vertical-align: top;\n",
              "    }\n",
              "\n",
              "    .dataframe thead th {\n",
              "        text-align: right;\n",
              "    }\n",
              "</style>\n",
              "<table border=\"1\" class=\"dataframe\">\n",
              "  <thead>\n",
              "    <tr style=\"text-align: right;\">\n",
              "      <th></th>\n",
              "      <th>Subject ID</th>\n",
              "      <th>MRI ID</th>\n",
              "      <th>Group</th>\n",
              "      <th>Visit</th>\n",
              "      <th>MR Delay</th>\n",
              "      <th>M/F</th>\n",
              "      <th>Age</th>\n",
              "      <th>EDUC</th>\n",
              "      <th>SES</th>\n",
              "      <th>MMSE</th>\n",
              "      <th>eTIV</th>\n",
              "      <th>nWBV</th>\n",
              "      <th>ASF</th>\n",
              "    </tr>\n",
              "  </thead>\n",
              "  <tbody>\n",
              "    <tr>\n",
              "      <th>368</th>\n",
              "      <td>OAS2_0185</td>\n",
              "      <td>OAS2_0185_MR2</td>\n",
              "      <td>Demented</td>\n",
              "      <td>2</td>\n",
              "      <td>842</td>\n",
              "      <td>M</td>\n",
              "      <td>82</td>\n",
              "      <td>16</td>\n",
              "      <td>1.0</td>\n",
              "      <td>28.0</td>\n",
              "      <td>1693</td>\n",
              "      <td>0.694</td>\n",
              "      <td>1.037</td>\n",
              "    </tr>\n",
              "    <tr>\n",
              "      <th>369</th>\n",
              "      <td>OAS2_0185</td>\n",
              "      <td>OAS2_0185_MR3</td>\n",
              "      <td>Demented</td>\n",
              "      <td>3</td>\n",
              "      <td>2297</td>\n",
              "      <td>M</td>\n",
              "      <td>86</td>\n",
              "      <td>16</td>\n",
              "      <td>1.0</td>\n",
              "      <td>26.0</td>\n",
              "      <td>1688</td>\n",
              "      <td>0.675</td>\n",
              "      <td>1.040</td>\n",
              "    </tr>\n",
              "    <tr>\n",
              "      <th>370</th>\n",
              "      <td>OAS2_0186</td>\n",
              "      <td>OAS2_0186_MR1</td>\n",
              "      <td>Nondemented</td>\n",
              "      <td>1</td>\n",
              "      <td>0</td>\n",
              "      <td>F</td>\n",
              "      <td>61</td>\n",
              "      <td>13</td>\n",
              "      <td>2.0</td>\n",
              "      <td>30.0</td>\n",
              "      <td>1319</td>\n",
              "      <td>0.801</td>\n",
              "      <td>1.331</td>\n",
              "    </tr>\n",
              "    <tr>\n",
              "      <th>371</th>\n",
              "      <td>OAS2_0186</td>\n",
              "      <td>OAS2_0186_MR2</td>\n",
              "      <td>Nondemented</td>\n",
              "      <td>2</td>\n",
              "      <td>763</td>\n",
              "      <td>F</td>\n",
              "      <td>63</td>\n",
              "      <td>13</td>\n",
              "      <td>2.0</td>\n",
              "      <td>30.0</td>\n",
              "      <td>1327</td>\n",
              "      <td>0.796</td>\n",
              "      <td>1.323</td>\n",
              "    </tr>\n",
              "    <tr>\n",
              "      <th>372</th>\n",
              "      <td>OAS2_0186</td>\n",
              "      <td>OAS2_0186_MR3</td>\n",
              "      <td>Nondemented</td>\n",
              "      <td>3</td>\n",
              "      <td>1608</td>\n",
              "      <td>F</td>\n",
              "      <td>65</td>\n",
              "      <td>13</td>\n",
              "      <td>2.0</td>\n",
              "      <td>30.0</td>\n",
              "      <td>1333</td>\n",
              "      <td>0.801</td>\n",
              "      <td>1.317</td>\n",
              "    </tr>\n",
              "  </tbody>\n",
              "</table>\n",
              "</div>"
            ],
            "text/plain": [
              "    Subject ID         MRI ID        Group  Visit  ...  MMSE  eTIV   nWBV    ASF\n",
              "368  OAS2_0185  OAS2_0185_MR2     Demented      2  ...  28.0  1693  0.694  1.037\n",
              "369  OAS2_0185  OAS2_0185_MR3     Demented      3  ...  26.0  1688  0.675  1.040\n",
              "370  OAS2_0186  OAS2_0186_MR1  Nondemented      1  ...  30.0  1319  0.801  1.331\n",
              "371  OAS2_0186  OAS2_0186_MR2  Nondemented      2  ...  30.0  1327  0.796  1.323\n",
              "372  OAS2_0186  OAS2_0186_MR3  Nondemented      3  ...  30.0  1333  0.801  1.317\n",
              "\n",
              "[5 rows x 13 columns]"
            ]
          },
          "metadata": {},
          "execution_count": 6
        }
      ]
    },
    {
      "cell_type": "code",
      "metadata": {
        "id": "tdQjZoVIuHgC",
        "colab": {
          "base_uri": "https://localhost:8080/"
        },
        "outputId": "0e937ae9-a1f6-44a4-db76-7fa7b33bee83"
      },
      "source": [
        "# returns the size of the dataframe\n",
        "df.shape"
      ],
      "execution_count": 7,
      "outputs": [
        {
          "output_type": "execute_result",
          "data": {
            "text/plain": [
              "(373, 13)"
            ]
          },
          "metadata": {},
          "execution_count": 7
        }
      ]
    },
    {
      "cell_type": "code",
      "metadata": {
        "id": "zWySJoTGkNzJ",
        "colab": {
          "base_uri": "https://localhost:8080/"
        },
        "outputId": "fce18b03-7448-4873-98af-a3ba662cd083"
      },
      "source": [
        "# outputs the name of the columns \n",
        "df.columns"
      ],
      "execution_count": 8,
      "outputs": [
        {
          "output_type": "execute_result",
          "data": {
            "text/plain": [
              "Index(['Subject ID', 'MRI ID', 'Group', 'Visit', 'MR Delay', 'M/F', 'Age',\n",
              "       'EDUC', 'SES', 'MMSE', 'eTIV', 'nWBV', 'ASF'],\n",
              "      dtype='object')"
            ]
          },
          "metadata": {},
          "execution_count": 8
        }
      ]
    },
    {
      "cell_type": "code",
      "metadata": {
        "id": "kvrXyTnMsSfp",
        "colab": {
          "base_uri": "https://localhost:8080/"
        },
        "outputId": "c4269e68-7e0f-4be6-d6a4-749fd463dee1"
      },
      "source": [
        "# returns the data type and the number of entries of all columns \n",
        "df.info()"
      ],
      "execution_count": 9,
      "outputs": [
        {
          "output_type": "stream",
          "name": "stdout",
          "text": [
            "<class 'pandas.core.frame.DataFrame'>\n",
            "RangeIndex: 373 entries, 0 to 372\n",
            "Data columns (total 13 columns):\n",
            " #   Column      Non-Null Count  Dtype  \n",
            "---  ------      --------------  -----  \n",
            " 0   Subject ID  373 non-null    object \n",
            " 1   MRI ID      373 non-null    object \n",
            " 2   Group       373 non-null    object \n",
            " 3   Visit       373 non-null    int64  \n",
            " 4   MR Delay    373 non-null    int64  \n",
            " 5   M/F         373 non-null    object \n",
            " 6   Age         373 non-null    int64  \n",
            " 7   EDUC        373 non-null    int64  \n",
            " 8   SES         354 non-null    float64\n",
            " 9   MMSE        371 non-null    float64\n",
            " 10  eTIV        373 non-null    int64  \n",
            " 11  nWBV        373 non-null    float64\n",
            " 12  ASF         373 non-null    float64\n",
            "dtypes: float64(4), int64(5), object(4)\n",
            "memory usage: 38.0+ KB\n"
          ]
        }
      ]
    },
    {
      "cell_type": "code",
      "metadata": {
        "id": "lAub0fCaun5_",
        "colab": {
          "base_uri": "https://localhost:8080/"
        },
        "outputId": "91f6c02c-4bbc-47ac-a22d-51dbeaf89d17"
      },
      "source": [
        "# returns the unique values of a column \n",
        "df['M/F'].unique()"
      ],
      "execution_count": 10,
      "outputs": [
        {
          "output_type": "execute_result",
          "data": {
            "text/plain": [
              "array(['M', 'F'], dtype=object)"
            ]
          },
          "metadata": {},
          "execution_count": 10
        }
      ]
    },
    {
      "cell_type": "code",
      "metadata": {
        "id": "6PmXwCuXtgLV",
        "colab": {
          "base_uri": "https://localhost:8080/"
        },
        "outputId": "90e4a8de-2886-453d-873e-bc3126a7c070"
      },
      "source": [
        "# shows the count of unique value in a column\n",
        "df['M/F'].value_counts(dropna = False)"
      ],
      "execution_count": 11,
      "outputs": [
        {
          "output_type": "execute_result",
          "data": {
            "text/plain": [
              "F    213\n",
              "M    160\n",
              "Name: M/F, dtype: int64"
            ]
          },
          "metadata": {},
          "execution_count": 11
        }
      ]
    },
    {
      "cell_type": "code",
      "metadata": {
        "id": "9zfuJqqCuZ-u"
      },
      "source": [
        "\n",
        "\n"
      ],
      "execution_count": 11,
      "outputs": []
    },
    {
      "cell_type": "code",
      "metadata": {
        "id": "KRuznRQU_GmE"
      },
      "source": [
        "# renames the columns\n",
        "# inplace makes changes to the original dataset \n",
        "# in case inplace = False , a temporary dataframe instance is created\n",
        "df.rename(columns = {'M/F' : 'Gender'} , inplace = True)"
      ],
      "execution_count": 12,
      "outputs": []
    },
    {
      "cell_type": "code",
      "metadata": {
        "id": "Csw3mjrwACad",
        "colab": {
          "base_uri": "https://localhost:8080/",
          "height": 417
        },
        "outputId": "b029802d-80b2-4aaf-e7ee-55658575e34b"
      },
      "source": [
        "# renamed column \n",
        "df"
      ],
      "execution_count": 13,
      "outputs": [
        {
          "output_type": "execute_result",
          "data": {
            "text/html": [
              "<div>\n",
              "<style scoped>\n",
              "    .dataframe tbody tr th:only-of-type {\n",
              "        vertical-align: middle;\n",
              "    }\n",
              "\n",
              "    .dataframe tbody tr th {\n",
              "        vertical-align: top;\n",
              "    }\n",
              "\n",
              "    .dataframe thead th {\n",
              "        text-align: right;\n",
              "    }\n",
              "</style>\n",
              "<table border=\"1\" class=\"dataframe\">\n",
              "  <thead>\n",
              "    <tr style=\"text-align: right;\">\n",
              "      <th></th>\n",
              "      <th>Subject ID</th>\n",
              "      <th>MRI ID</th>\n",
              "      <th>Group</th>\n",
              "      <th>Visit</th>\n",
              "      <th>MR Delay</th>\n",
              "      <th>Gender</th>\n",
              "      <th>Age</th>\n",
              "      <th>EDUC</th>\n",
              "      <th>SES</th>\n",
              "      <th>MMSE</th>\n",
              "      <th>eTIV</th>\n",
              "      <th>nWBV</th>\n",
              "      <th>ASF</th>\n",
              "    </tr>\n",
              "  </thead>\n",
              "  <tbody>\n",
              "    <tr>\n",
              "      <th>0</th>\n",
              "      <td>OAS2_0001</td>\n",
              "      <td>OAS2_0001_MR1</td>\n",
              "      <td>Nondemented</td>\n",
              "      <td>1</td>\n",
              "      <td>0</td>\n",
              "      <td>M</td>\n",
              "      <td>87</td>\n",
              "      <td>14</td>\n",
              "      <td>2.0</td>\n",
              "      <td>27.0</td>\n",
              "      <td>1987</td>\n",
              "      <td>0.696</td>\n",
              "      <td>0.883</td>\n",
              "    </tr>\n",
              "    <tr>\n",
              "      <th>1</th>\n",
              "      <td>OAS2_0001</td>\n",
              "      <td>OAS2_0001_MR2</td>\n",
              "      <td>Nondemented</td>\n",
              "      <td>2</td>\n",
              "      <td>457</td>\n",
              "      <td>M</td>\n",
              "      <td>88</td>\n",
              "      <td>14</td>\n",
              "      <td>2.0</td>\n",
              "      <td>30.0</td>\n",
              "      <td>2004</td>\n",
              "      <td>0.681</td>\n",
              "      <td>0.876</td>\n",
              "    </tr>\n",
              "    <tr>\n",
              "      <th>2</th>\n",
              "      <td>OAS2_0002</td>\n",
              "      <td>OAS2_0002_MR1</td>\n",
              "      <td>Demented</td>\n",
              "      <td>1</td>\n",
              "      <td>0</td>\n",
              "      <td>M</td>\n",
              "      <td>75</td>\n",
              "      <td>12</td>\n",
              "      <td>NaN</td>\n",
              "      <td>23.0</td>\n",
              "      <td>1678</td>\n",
              "      <td>0.736</td>\n",
              "      <td>1.046</td>\n",
              "    </tr>\n",
              "    <tr>\n",
              "      <th>3</th>\n",
              "      <td>OAS2_0002</td>\n",
              "      <td>OAS2_0002_MR2</td>\n",
              "      <td>Demented</td>\n",
              "      <td>2</td>\n",
              "      <td>560</td>\n",
              "      <td>M</td>\n",
              "      <td>76</td>\n",
              "      <td>12</td>\n",
              "      <td>NaN</td>\n",
              "      <td>28.0</td>\n",
              "      <td>1738</td>\n",
              "      <td>0.713</td>\n",
              "      <td>1.010</td>\n",
              "    </tr>\n",
              "    <tr>\n",
              "      <th>4</th>\n",
              "      <td>OAS2_0002</td>\n",
              "      <td>OAS2_0002_MR3</td>\n",
              "      <td>Demented</td>\n",
              "      <td>3</td>\n",
              "      <td>1895</td>\n",
              "      <td>M</td>\n",
              "      <td>80</td>\n",
              "      <td>12</td>\n",
              "      <td>NaN</td>\n",
              "      <td>22.0</td>\n",
              "      <td>1698</td>\n",
              "      <td>0.701</td>\n",
              "      <td>1.034</td>\n",
              "    </tr>\n",
              "    <tr>\n",
              "      <th>...</th>\n",
              "      <td>...</td>\n",
              "      <td>...</td>\n",
              "      <td>...</td>\n",
              "      <td>...</td>\n",
              "      <td>...</td>\n",
              "      <td>...</td>\n",
              "      <td>...</td>\n",
              "      <td>...</td>\n",
              "      <td>...</td>\n",
              "      <td>...</td>\n",
              "      <td>...</td>\n",
              "      <td>...</td>\n",
              "      <td>...</td>\n",
              "    </tr>\n",
              "    <tr>\n",
              "      <th>368</th>\n",
              "      <td>OAS2_0185</td>\n",
              "      <td>OAS2_0185_MR2</td>\n",
              "      <td>Demented</td>\n",
              "      <td>2</td>\n",
              "      <td>842</td>\n",
              "      <td>M</td>\n",
              "      <td>82</td>\n",
              "      <td>16</td>\n",
              "      <td>1.0</td>\n",
              "      <td>28.0</td>\n",
              "      <td>1693</td>\n",
              "      <td>0.694</td>\n",
              "      <td>1.037</td>\n",
              "    </tr>\n",
              "    <tr>\n",
              "      <th>369</th>\n",
              "      <td>OAS2_0185</td>\n",
              "      <td>OAS2_0185_MR3</td>\n",
              "      <td>Demented</td>\n",
              "      <td>3</td>\n",
              "      <td>2297</td>\n",
              "      <td>M</td>\n",
              "      <td>86</td>\n",
              "      <td>16</td>\n",
              "      <td>1.0</td>\n",
              "      <td>26.0</td>\n",
              "      <td>1688</td>\n",
              "      <td>0.675</td>\n",
              "      <td>1.040</td>\n",
              "    </tr>\n",
              "    <tr>\n",
              "      <th>370</th>\n",
              "      <td>OAS2_0186</td>\n",
              "      <td>OAS2_0186_MR1</td>\n",
              "      <td>Nondemented</td>\n",
              "      <td>1</td>\n",
              "      <td>0</td>\n",
              "      <td>F</td>\n",
              "      <td>61</td>\n",
              "      <td>13</td>\n",
              "      <td>2.0</td>\n",
              "      <td>30.0</td>\n",
              "      <td>1319</td>\n",
              "      <td>0.801</td>\n",
              "      <td>1.331</td>\n",
              "    </tr>\n",
              "    <tr>\n",
              "      <th>371</th>\n",
              "      <td>OAS2_0186</td>\n",
              "      <td>OAS2_0186_MR2</td>\n",
              "      <td>Nondemented</td>\n",
              "      <td>2</td>\n",
              "      <td>763</td>\n",
              "      <td>F</td>\n",
              "      <td>63</td>\n",
              "      <td>13</td>\n",
              "      <td>2.0</td>\n",
              "      <td>30.0</td>\n",
              "      <td>1327</td>\n",
              "      <td>0.796</td>\n",
              "      <td>1.323</td>\n",
              "    </tr>\n",
              "    <tr>\n",
              "      <th>372</th>\n",
              "      <td>OAS2_0186</td>\n",
              "      <td>OAS2_0186_MR3</td>\n",
              "      <td>Nondemented</td>\n",
              "      <td>3</td>\n",
              "      <td>1608</td>\n",
              "      <td>F</td>\n",
              "      <td>65</td>\n",
              "      <td>13</td>\n",
              "      <td>2.0</td>\n",
              "      <td>30.0</td>\n",
              "      <td>1333</td>\n",
              "      <td>0.801</td>\n",
              "      <td>1.317</td>\n",
              "    </tr>\n",
              "  </tbody>\n",
              "</table>\n",
              "<p>373 rows × 13 columns</p>\n",
              "</div>"
            ],
            "text/plain": [
              "    Subject ID         MRI ID        Group  Visit  ...  MMSE  eTIV   nWBV    ASF\n",
              "0    OAS2_0001  OAS2_0001_MR1  Nondemented      1  ...  27.0  1987  0.696  0.883\n",
              "1    OAS2_0001  OAS2_0001_MR2  Nondemented      2  ...  30.0  2004  0.681  0.876\n",
              "2    OAS2_0002  OAS2_0002_MR1     Demented      1  ...  23.0  1678  0.736  1.046\n",
              "3    OAS2_0002  OAS2_0002_MR2     Demented      2  ...  28.0  1738  0.713  1.010\n",
              "4    OAS2_0002  OAS2_0002_MR3     Demented      3  ...  22.0  1698  0.701  1.034\n",
              "..         ...            ...          ...    ...  ...   ...   ...    ...    ...\n",
              "368  OAS2_0185  OAS2_0185_MR2     Demented      2  ...  28.0  1693  0.694  1.037\n",
              "369  OAS2_0185  OAS2_0185_MR3     Demented      3  ...  26.0  1688  0.675  1.040\n",
              "370  OAS2_0186  OAS2_0186_MR1  Nondemented      1  ...  30.0  1319  0.801  1.331\n",
              "371  OAS2_0186  OAS2_0186_MR2  Nondemented      2  ...  30.0  1327  0.796  1.323\n",
              "372  OAS2_0186  OAS2_0186_MR3  Nondemented      3  ...  30.0  1333  0.801  1.317\n",
              "\n",
              "[373 rows x 13 columns]"
            ]
          },
          "metadata": {},
          "execution_count": 13
        }
      ]
    },
    {
      "cell_type": "code",
      "metadata": {
        "id": "LV3nzKNpAUir"
      },
      "source": [
        "# the columns which provide no info of relevance are dropped from the dataframe \n",
        "# axis - 0 : rows , \n",
        "df.drop(labels = {'Subject ID' , 'MRI ID' ,'Visit' , 'MR Delay' } , axis = 1 , inplace = True)"
      ],
      "execution_count": 14,
      "outputs": []
    },
    {
      "cell_type": "code",
      "metadata": {
        "id": "DOVGmN000c9-"
      },
      "source": [
        ""
      ],
      "execution_count": 14,
      "outputs": []
    },
    {
      "cell_type": "code",
      "metadata": {
        "id": "MLEPDlJnvCrc",
        "colab": {
          "base_uri": "https://localhost:8080/",
          "height": 295
        },
        "outputId": "079ec7d0-531d-4bb5-d94a-e17172c46081"
      },
      "source": [
        "df.describe()"
      ],
      "execution_count": 15,
      "outputs": [
        {
          "output_type": "execute_result",
          "data": {
            "text/html": [
              "<div>\n",
              "<style scoped>\n",
              "    .dataframe tbody tr th:only-of-type {\n",
              "        vertical-align: middle;\n",
              "    }\n",
              "\n",
              "    .dataframe tbody tr th {\n",
              "        vertical-align: top;\n",
              "    }\n",
              "\n",
              "    .dataframe thead th {\n",
              "        text-align: right;\n",
              "    }\n",
              "</style>\n",
              "<table border=\"1\" class=\"dataframe\">\n",
              "  <thead>\n",
              "    <tr style=\"text-align: right;\">\n",
              "      <th></th>\n",
              "      <th>Age</th>\n",
              "      <th>EDUC</th>\n",
              "      <th>SES</th>\n",
              "      <th>MMSE</th>\n",
              "      <th>eTIV</th>\n",
              "      <th>nWBV</th>\n",
              "      <th>ASF</th>\n",
              "    </tr>\n",
              "  </thead>\n",
              "  <tbody>\n",
              "    <tr>\n",
              "      <th>count</th>\n",
              "      <td>373.000000</td>\n",
              "      <td>373.000000</td>\n",
              "      <td>354.000000</td>\n",
              "      <td>371.000000</td>\n",
              "      <td>373.000000</td>\n",
              "      <td>373.000000</td>\n",
              "      <td>373.000000</td>\n",
              "    </tr>\n",
              "    <tr>\n",
              "      <th>mean</th>\n",
              "      <td>77.013405</td>\n",
              "      <td>14.597855</td>\n",
              "      <td>2.460452</td>\n",
              "      <td>27.342318</td>\n",
              "      <td>1488.128686</td>\n",
              "      <td>0.729568</td>\n",
              "      <td>1.195461</td>\n",
              "    </tr>\n",
              "    <tr>\n",
              "      <th>std</th>\n",
              "      <td>7.640957</td>\n",
              "      <td>2.876339</td>\n",
              "      <td>1.134005</td>\n",
              "      <td>3.683244</td>\n",
              "      <td>176.139286</td>\n",
              "      <td>0.037135</td>\n",
              "      <td>0.138092</td>\n",
              "    </tr>\n",
              "    <tr>\n",
              "      <th>min</th>\n",
              "      <td>60.000000</td>\n",
              "      <td>6.000000</td>\n",
              "      <td>1.000000</td>\n",
              "      <td>4.000000</td>\n",
              "      <td>1106.000000</td>\n",
              "      <td>0.644000</td>\n",
              "      <td>0.876000</td>\n",
              "    </tr>\n",
              "    <tr>\n",
              "      <th>25%</th>\n",
              "      <td>71.000000</td>\n",
              "      <td>12.000000</td>\n",
              "      <td>2.000000</td>\n",
              "      <td>27.000000</td>\n",
              "      <td>1357.000000</td>\n",
              "      <td>0.700000</td>\n",
              "      <td>1.099000</td>\n",
              "    </tr>\n",
              "    <tr>\n",
              "      <th>50%</th>\n",
              "      <td>77.000000</td>\n",
              "      <td>15.000000</td>\n",
              "      <td>2.000000</td>\n",
              "      <td>29.000000</td>\n",
              "      <td>1470.000000</td>\n",
              "      <td>0.729000</td>\n",
              "      <td>1.194000</td>\n",
              "    </tr>\n",
              "    <tr>\n",
              "      <th>75%</th>\n",
              "      <td>82.000000</td>\n",
              "      <td>16.000000</td>\n",
              "      <td>3.000000</td>\n",
              "      <td>30.000000</td>\n",
              "      <td>1597.000000</td>\n",
              "      <td>0.756000</td>\n",
              "      <td>1.293000</td>\n",
              "    </tr>\n",
              "    <tr>\n",
              "      <th>max</th>\n",
              "      <td>98.000000</td>\n",
              "      <td>23.000000</td>\n",
              "      <td>5.000000</td>\n",
              "      <td>30.000000</td>\n",
              "      <td>2004.000000</td>\n",
              "      <td>0.837000</td>\n",
              "      <td>1.587000</td>\n",
              "    </tr>\n",
              "  </tbody>\n",
              "</table>\n",
              "</div>"
            ],
            "text/plain": [
              "              Age        EDUC         SES  ...         eTIV        nWBV         ASF\n",
              "count  373.000000  373.000000  354.000000  ...   373.000000  373.000000  373.000000\n",
              "mean    77.013405   14.597855    2.460452  ...  1488.128686    0.729568    1.195461\n",
              "std      7.640957    2.876339    1.134005  ...   176.139286    0.037135    0.138092\n",
              "min     60.000000    6.000000    1.000000  ...  1106.000000    0.644000    0.876000\n",
              "25%     71.000000   12.000000    2.000000  ...  1357.000000    0.700000    1.099000\n",
              "50%     77.000000   15.000000    2.000000  ...  1470.000000    0.729000    1.194000\n",
              "75%     82.000000   16.000000    3.000000  ...  1597.000000    0.756000    1.293000\n",
              "max     98.000000   23.000000    5.000000  ...  2004.000000    0.837000    1.587000\n",
              "\n",
              "[8 rows x 7 columns]"
            ]
          },
          "metadata": {},
          "execution_count": 15
        }
      ]
    },
    {
      "cell_type": "markdown",
      "metadata": {
        "id": "eIXIoODAox3O"
      },
      "source": [
        "**REMOVING / REPLACING NULL VALUES**"
      ]
    },
    {
      "cell_type": "code",
      "metadata": {
        "id": "D8_LSEgoz5hZ",
        "colab": {
          "base_uri": "https://localhost:8080/"
        },
        "outputId": "13b349bf-8179-4c68-958e-22b62b9406c1"
      },
      "source": [
        "# is null returns true for null values and false for null values \n",
        "# the sum() gives the total count of null values for each row \n",
        "\n",
        "df.isnull().sum()"
      ],
      "execution_count": 16,
      "outputs": [
        {
          "output_type": "execute_result",
          "data": {
            "text/plain": [
              "Group      0\n",
              "Gender     0\n",
              "Age        0\n",
              "EDUC       0\n",
              "SES       19\n",
              "MMSE       2\n",
              "eTIV       0\n",
              "nWBV       0\n",
              "ASF        0\n",
              "dtype: int64"
            ]
          },
          "metadata": {},
          "execution_count": 16
        }
      ]
    },
    {
      "cell_type": "code",
      "metadata": {
        "id": "vcETrT61oEi4",
        "colab": {
          "base_uri": "https://localhost:8080/"
        },
        "outputId": "c8c23706-d30a-412e-9eaf-048bbca25d45"
      },
      "source": [
        "# count() returns the count of non null values of the column \n",
        "df['SES'].count()"
      ],
      "execution_count": 17,
      "outputs": [
        {
          "output_type": "execute_result",
          "data": {
            "text/plain": [
              "354"
            ]
          },
          "metadata": {},
          "execution_count": 17
        }
      ]
    },
    {
      "cell_type": "code",
      "metadata": {
        "id": "dEQFiIDRoI-f"
      },
      "source": [
        "# drops all the rows containing null values from the dataframe \n",
        "null_rem = df.dropna()\n"
      ],
      "execution_count": 18,
      "outputs": []
    },
    {
      "cell_type": "code",
      "metadata": {
        "id": "pvNtmIg0pfdN",
        "colab": {
          "base_uri": "https://localhost:8080/"
        },
        "outputId": "298478eb-f8db-4614-b0f7-66be0ee7b2cd"
      },
      "source": [
        "# comparision \n",
        "print( \"Original Dataframe : \\n\",df.head() ,\"\\n\\n\" , \"New Dataframe : \\n\" ,null_rem.head())"
      ],
      "execution_count": 19,
      "outputs": [
        {
          "output_type": "stream",
          "name": "stdout",
          "text": [
            "Original Dataframe : \n",
            "          Group Gender  Age  EDUC  SES  MMSE  eTIV   nWBV    ASF\n",
            "0  Nondemented      M   87    14  2.0  27.0  1987  0.696  0.883\n",
            "1  Nondemented      M   88    14  2.0  30.0  2004  0.681  0.876\n",
            "2     Demented      M   75    12  NaN  23.0  1678  0.736  1.046\n",
            "3     Demented      M   76    12  NaN  28.0  1738  0.713  1.010\n",
            "4     Demented      M   80    12  NaN  22.0  1698  0.701  1.034 \n",
            "\n",
            " New Dataframe : \n",
            "          Group Gender  Age  EDUC  SES  MMSE  eTIV   nWBV    ASF\n",
            "0  Nondemented      M   87    14  2.0  27.0  1987  0.696  0.883\n",
            "1  Nondemented      M   88    14  2.0  30.0  2004  0.681  0.876\n",
            "5  Nondemented      F   88    18  3.0  28.0  1215  0.710  1.444\n",
            "6  Nondemented      F   90    18  3.0  27.0  1200  0.718  1.462\n",
            "7  Nondemented      M   80    12  4.0  28.0  1689  0.712  1.039\n"
          ]
        }
      ]
    },
    {
      "cell_type": "code",
      "metadata": {
        "id": "vFEK12WxsZNQ"
      },
      "source": [
        "# dropping all null values from a column \n",
        "null_rem_col = df.dropna(subset = ['MMSE'])"
      ],
      "execution_count": 20,
      "outputs": []
    },
    {
      "cell_type": "code",
      "metadata": {
        "id": "FD_eT2qxslC8",
        "colab": {
          "base_uri": "https://localhost:8080/"
        },
        "outputId": "3bba0d02-43a2-446c-a270-8a6baf5bd390"
      },
      "source": [
        "null_rem_col['MMSE'].isnull().sum()"
      ],
      "execution_count": 21,
      "outputs": [
        {
          "output_type": "execute_result",
          "data": {
            "text/plain": [
              "0"
            ]
          },
          "metadata": {},
          "execution_count": 21
        }
      ]
    },
    {
      "cell_type": "code",
      "metadata": {
        "id": "SfRTwuPHu5Oy",
        "colab": {
          "base_uri": "https://localhost:8080/"
        },
        "outputId": "8ad1b306-4ca9-4f5d-b202-7152006ef7ed"
      },
      "source": [
        "null_rem_col.shape"
      ],
      "execution_count": 22,
      "outputs": [
        {
          "output_type": "execute_result",
          "data": {
            "text/plain": [
              "(371, 9)"
            ]
          },
          "metadata": {},
          "execution_count": 22
        }
      ]
    },
    {
      "cell_type": "code",
      "metadata": {
        "id": "psEyZ2E3p5ee",
        "colab": {
          "base_uri": "https://localhost:8080/"
        },
        "outputId": "f262375b-20c6-45d9-c321-f8ca1a6044ad"
      },
      "source": [
        "# replacing null values\n",
        "# replace them by either mean or median \n",
        "# we will replace them with median\n",
        "\n",
        "# columns which have null values\n",
        "col_null = ['MMSE' , 'SES'] \n",
        "med = []\n",
        "\n",
        "# loop for obtaining the median \n",
        "for i in col_null: \n",
        "  med.append(df[i].median())  \n",
        "\n",
        "print(\"Median Values : \" , med[0] , med[1])\n",
        "\n",
        "k = 0 \n",
        "\n",
        "# loop for replacing null values \n",
        "for i in col_null:\n",
        "  df[i].fillna(med[k] , inplace = True)    # fillna fills the null values \n",
        "  k = k + 1 \n",
        "\n",
        "\n",
        "\n",
        "\n",
        "\n",
        " \n"
      ],
      "execution_count": 23,
      "outputs": [
        {
          "output_type": "stream",
          "name": "stdout",
          "text": [
            "Median Values :  29.0 2.0\n"
          ]
        }
      ]
    },
    {
      "cell_type": "code",
      "metadata": {
        "id": "C3TmtphHw-A5",
        "colab": {
          "base_uri": "https://localhost:8080/"
        },
        "outputId": "5734a9ce-0bc6-4c93-95e1-c8a288d70fb7"
      },
      "source": [
        "# checking for null values again \n",
        "\n",
        "df.isnull().sum()"
      ],
      "execution_count": 24,
      "outputs": [
        {
          "output_type": "execute_result",
          "data": {
            "text/plain": [
              "Group     0\n",
              "Gender    0\n",
              "Age       0\n",
              "EDUC      0\n",
              "SES       0\n",
              "MMSE      0\n",
              "eTIV      0\n",
              "nWBV      0\n",
              "ASF       0\n",
              "dtype: int64"
            ]
          },
          "metadata": {},
          "execution_count": 24
        }
      ]
    },
    {
      "cell_type": "code",
      "metadata": {
        "id": "cNqpB2EOMwW4"
      },
      "source": [
        "dv = df.copy() "
      ],
      "execution_count": 25,
      "outputs": []
    },
    {
      "cell_type": "markdown",
      "metadata": {
        "id": "wHRoJLRkCeZg"
      },
      "source": [
        "**Normalization**"
      ]
    },
    {
      "cell_type": "code",
      "metadata": {
        "id": "w2qvtecSBf4t",
        "colab": {
          "base_uri": "https://localhost:8080/"
        },
        "outputId": "6cc42732-3d15-48c2-b11b-dcffc70b29ca"
      },
      "source": [
        "# we will normalize all the columns [int / float] so that theirn values lie between 0 and 1 \n",
        "df['nWBV'].max()\n",
        "# since nWBV has a max value less than 1 , we neednt normalize it"
      ],
      "execution_count": 26,
      "outputs": [
        {
          "output_type": "execute_result",
          "data": {
            "text/plain": [
              "0.8370000000000001"
            ]
          },
          "metadata": {},
          "execution_count": 26
        }
      ]
    },
    {
      "cell_type": "code",
      "metadata": {
        "id": "Ym4hU1BiDD_3"
      },
      "source": [
        "col_norm = ['Age' ,  'EDUC' , 'SES' , 'MMSE' , 'eTIV' , 'ASF']\n",
        "\n",
        "# we will use the most basic normalization i.e divide by max \n",
        "\n",
        "\n",
        "max_ = [] \n",
        "\n",
        "\n",
        "# loop for getting the max of each column \n",
        "for i in col_norm : \n",
        "  max_.append(df[i].max())\n",
        "\n",
        "k = 0 \n",
        "\n",
        "# loop for dividing the column values with the max value \n",
        "for i in col_norm : \n",
        "  df[i] = df[i]/max_[k]\n",
        "  k = k + 1 \n",
        "\n",
        "\n"
      ],
      "execution_count": 27,
      "outputs": []
    },
    {
      "cell_type": "code",
      "metadata": {
        "id": "lCuavgdZC7WC",
        "colab": {
          "base_uri": "https://localhost:8080/",
          "height": 417
        },
        "outputId": "5715d2ca-5bb3-4e0e-a91a-69416ca1cb2b"
      },
      "source": [
        "# dataframe after normalization \n",
        "df"
      ],
      "execution_count": 28,
      "outputs": [
        {
          "output_type": "execute_result",
          "data": {
            "text/html": [
              "<div>\n",
              "<style scoped>\n",
              "    .dataframe tbody tr th:only-of-type {\n",
              "        vertical-align: middle;\n",
              "    }\n",
              "\n",
              "    .dataframe tbody tr th {\n",
              "        vertical-align: top;\n",
              "    }\n",
              "\n",
              "    .dataframe thead th {\n",
              "        text-align: right;\n",
              "    }\n",
              "</style>\n",
              "<table border=\"1\" class=\"dataframe\">\n",
              "  <thead>\n",
              "    <tr style=\"text-align: right;\">\n",
              "      <th></th>\n",
              "      <th>Group</th>\n",
              "      <th>Gender</th>\n",
              "      <th>Age</th>\n",
              "      <th>EDUC</th>\n",
              "      <th>SES</th>\n",
              "      <th>MMSE</th>\n",
              "      <th>eTIV</th>\n",
              "      <th>nWBV</th>\n",
              "      <th>ASF</th>\n",
              "    </tr>\n",
              "  </thead>\n",
              "  <tbody>\n",
              "    <tr>\n",
              "      <th>0</th>\n",
              "      <td>Nondemented</td>\n",
              "      <td>M</td>\n",
              "      <td>0.887755</td>\n",
              "      <td>0.608696</td>\n",
              "      <td>0.4</td>\n",
              "      <td>0.900000</td>\n",
              "      <td>0.991517</td>\n",
              "      <td>0.696</td>\n",
              "      <td>0.556396</td>\n",
              "    </tr>\n",
              "    <tr>\n",
              "      <th>1</th>\n",
              "      <td>Nondemented</td>\n",
              "      <td>M</td>\n",
              "      <td>0.897959</td>\n",
              "      <td>0.608696</td>\n",
              "      <td>0.4</td>\n",
              "      <td>1.000000</td>\n",
              "      <td>1.000000</td>\n",
              "      <td>0.681</td>\n",
              "      <td>0.551985</td>\n",
              "    </tr>\n",
              "    <tr>\n",
              "      <th>2</th>\n",
              "      <td>Demented</td>\n",
              "      <td>M</td>\n",
              "      <td>0.765306</td>\n",
              "      <td>0.521739</td>\n",
              "      <td>0.4</td>\n",
              "      <td>0.766667</td>\n",
              "      <td>0.837325</td>\n",
              "      <td>0.736</td>\n",
              "      <td>0.659105</td>\n",
              "    </tr>\n",
              "    <tr>\n",
              "      <th>3</th>\n",
              "      <td>Demented</td>\n",
              "      <td>M</td>\n",
              "      <td>0.775510</td>\n",
              "      <td>0.521739</td>\n",
              "      <td>0.4</td>\n",
              "      <td>0.933333</td>\n",
              "      <td>0.867265</td>\n",
              "      <td>0.713</td>\n",
              "      <td>0.636421</td>\n",
              "    </tr>\n",
              "    <tr>\n",
              "      <th>4</th>\n",
              "      <td>Demented</td>\n",
              "      <td>M</td>\n",
              "      <td>0.816327</td>\n",
              "      <td>0.521739</td>\n",
              "      <td>0.4</td>\n",
              "      <td>0.733333</td>\n",
              "      <td>0.847305</td>\n",
              "      <td>0.701</td>\n",
              "      <td>0.651544</td>\n",
              "    </tr>\n",
              "    <tr>\n",
              "      <th>...</th>\n",
              "      <td>...</td>\n",
              "      <td>...</td>\n",
              "      <td>...</td>\n",
              "      <td>...</td>\n",
              "      <td>...</td>\n",
              "      <td>...</td>\n",
              "      <td>...</td>\n",
              "      <td>...</td>\n",
              "      <td>...</td>\n",
              "    </tr>\n",
              "    <tr>\n",
              "      <th>368</th>\n",
              "      <td>Demented</td>\n",
              "      <td>M</td>\n",
              "      <td>0.836735</td>\n",
              "      <td>0.695652</td>\n",
              "      <td>0.2</td>\n",
              "      <td>0.933333</td>\n",
              "      <td>0.844810</td>\n",
              "      <td>0.694</td>\n",
              "      <td>0.653434</td>\n",
              "    </tr>\n",
              "    <tr>\n",
              "      <th>369</th>\n",
              "      <td>Demented</td>\n",
              "      <td>M</td>\n",
              "      <td>0.877551</td>\n",
              "      <td>0.695652</td>\n",
              "      <td>0.2</td>\n",
              "      <td>0.866667</td>\n",
              "      <td>0.842315</td>\n",
              "      <td>0.675</td>\n",
              "      <td>0.655325</td>\n",
              "    </tr>\n",
              "    <tr>\n",
              "      <th>370</th>\n",
              "      <td>Nondemented</td>\n",
              "      <td>F</td>\n",
              "      <td>0.622449</td>\n",
              "      <td>0.565217</td>\n",
              "      <td>0.4</td>\n",
              "      <td>1.000000</td>\n",
              "      <td>0.658184</td>\n",
              "      <td>0.801</td>\n",
              "      <td>0.838689</td>\n",
              "    </tr>\n",
              "    <tr>\n",
              "      <th>371</th>\n",
              "      <td>Nondemented</td>\n",
              "      <td>F</td>\n",
              "      <td>0.642857</td>\n",
              "      <td>0.565217</td>\n",
              "      <td>0.4</td>\n",
              "      <td>1.000000</td>\n",
              "      <td>0.662176</td>\n",
              "      <td>0.796</td>\n",
              "      <td>0.833648</td>\n",
              "    </tr>\n",
              "    <tr>\n",
              "      <th>372</th>\n",
              "      <td>Nondemented</td>\n",
              "      <td>F</td>\n",
              "      <td>0.663265</td>\n",
              "      <td>0.565217</td>\n",
              "      <td>0.4</td>\n",
              "      <td>1.000000</td>\n",
              "      <td>0.665170</td>\n",
              "      <td>0.801</td>\n",
              "      <td>0.829868</td>\n",
              "    </tr>\n",
              "  </tbody>\n",
              "</table>\n",
              "<p>373 rows × 9 columns</p>\n",
              "</div>"
            ],
            "text/plain": [
              "           Group Gender       Age  ...      eTIV   nWBV       ASF\n",
              "0    Nondemented      M  0.887755  ...  0.991517  0.696  0.556396\n",
              "1    Nondemented      M  0.897959  ...  1.000000  0.681  0.551985\n",
              "2       Demented      M  0.765306  ...  0.837325  0.736  0.659105\n",
              "3       Demented      M  0.775510  ...  0.867265  0.713  0.636421\n",
              "4       Demented      M  0.816327  ...  0.847305  0.701  0.651544\n",
              "..           ...    ...       ...  ...       ...    ...       ...\n",
              "368     Demented      M  0.836735  ...  0.844810  0.694  0.653434\n",
              "369     Demented      M  0.877551  ...  0.842315  0.675  0.655325\n",
              "370  Nondemented      F  0.622449  ...  0.658184  0.801  0.838689\n",
              "371  Nondemented      F  0.642857  ...  0.662176  0.796  0.833648\n",
              "372  Nondemented      F  0.663265  ...  0.665170  0.801  0.829868\n",
              "\n",
              "[373 rows x 9 columns]"
            ]
          },
          "metadata": {},
          "execution_count": 28
        }
      ]
    },
    {
      "cell_type": "code",
      "metadata": {
        "id": "aHjkK3auQUOw"
      },
      "source": [
        ""
      ],
      "execution_count": 28,
      "outputs": []
    },
    {
      "cell_type": "markdown",
      "metadata": {
        "id": "-cZIp5DWQedW"
      },
      "source": [
        "**ENCODING**"
      ]
    },
    {
      "cell_type": "code",
      "metadata": {
        "id": "kZqAuskzQg9h"
      },
      "source": [
        "# our data has 2 columns with categories [Group , Gender]\n",
        "# since Group is our target variable we will encode it using label encoding \n",
        "# Even Gender is a binary category [i.e. either male or female] so label encoding works perfectly \n"
      ],
      "execution_count": 29,
      "outputs": []
    },
    {
      "cell_type": "code",
      "metadata": {
        "id": "wpBryEqMR2tB"
      },
      "source": [
        "# the np.where() imposes a condition on the column and replaces elements based on that condition \n",
        "df['Group'] = np.where(df['Group'] == 'Demented' , 1 , 0 )\n",
        "df['Gender'] = np.where(df['Gender'] == 'M' , 1 , 0 )"
      ],
      "execution_count": 30,
      "outputs": []
    },
    {
      "cell_type": "code",
      "metadata": {
        "id": "FX9legCSRqna",
        "colab": {
          "base_uri": "https://localhost:8080/",
          "height": 417
        },
        "outputId": "bc9c59fd-5208-40df-a6bc-c0c5902a9b30"
      },
      "source": [
        "# the columns have been encoded \n",
        "df"
      ],
      "execution_count": 31,
      "outputs": [
        {
          "output_type": "execute_result",
          "data": {
            "text/html": [
              "<div>\n",
              "<style scoped>\n",
              "    .dataframe tbody tr th:only-of-type {\n",
              "        vertical-align: middle;\n",
              "    }\n",
              "\n",
              "    .dataframe tbody tr th {\n",
              "        vertical-align: top;\n",
              "    }\n",
              "\n",
              "    .dataframe thead th {\n",
              "        text-align: right;\n",
              "    }\n",
              "</style>\n",
              "<table border=\"1\" class=\"dataframe\">\n",
              "  <thead>\n",
              "    <tr style=\"text-align: right;\">\n",
              "      <th></th>\n",
              "      <th>Group</th>\n",
              "      <th>Gender</th>\n",
              "      <th>Age</th>\n",
              "      <th>EDUC</th>\n",
              "      <th>SES</th>\n",
              "      <th>MMSE</th>\n",
              "      <th>eTIV</th>\n",
              "      <th>nWBV</th>\n",
              "      <th>ASF</th>\n",
              "    </tr>\n",
              "  </thead>\n",
              "  <tbody>\n",
              "    <tr>\n",
              "      <th>0</th>\n",
              "      <td>0</td>\n",
              "      <td>1</td>\n",
              "      <td>0.887755</td>\n",
              "      <td>0.608696</td>\n",
              "      <td>0.4</td>\n",
              "      <td>0.900000</td>\n",
              "      <td>0.991517</td>\n",
              "      <td>0.696</td>\n",
              "      <td>0.556396</td>\n",
              "    </tr>\n",
              "    <tr>\n",
              "      <th>1</th>\n",
              "      <td>0</td>\n",
              "      <td>1</td>\n",
              "      <td>0.897959</td>\n",
              "      <td>0.608696</td>\n",
              "      <td>0.4</td>\n",
              "      <td>1.000000</td>\n",
              "      <td>1.000000</td>\n",
              "      <td>0.681</td>\n",
              "      <td>0.551985</td>\n",
              "    </tr>\n",
              "    <tr>\n",
              "      <th>2</th>\n",
              "      <td>1</td>\n",
              "      <td>1</td>\n",
              "      <td>0.765306</td>\n",
              "      <td>0.521739</td>\n",
              "      <td>0.4</td>\n",
              "      <td>0.766667</td>\n",
              "      <td>0.837325</td>\n",
              "      <td>0.736</td>\n",
              "      <td>0.659105</td>\n",
              "    </tr>\n",
              "    <tr>\n",
              "      <th>3</th>\n",
              "      <td>1</td>\n",
              "      <td>1</td>\n",
              "      <td>0.775510</td>\n",
              "      <td>0.521739</td>\n",
              "      <td>0.4</td>\n",
              "      <td>0.933333</td>\n",
              "      <td>0.867265</td>\n",
              "      <td>0.713</td>\n",
              "      <td>0.636421</td>\n",
              "    </tr>\n",
              "    <tr>\n",
              "      <th>4</th>\n",
              "      <td>1</td>\n",
              "      <td>1</td>\n",
              "      <td>0.816327</td>\n",
              "      <td>0.521739</td>\n",
              "      <td>0.4</td>\n",
              "      <td>0.733333</td>\n",
              "      <td>0.847305</td>\n",
              "      <td>0.701</td>\n",
              "      <td>0.651544</td>\n",
              "    </tr>\n",
              "    <tr>\n",
              "      <th>...</th>\n",
              "      <td>...</td>\n",
              "      <td>...</td>\n",
              "      <td>...</td>\n",
              "      <td>...</td>\n",
              "      <td>...</td>\n",
              "      <td>...</td>\n",
              "      <td>...</td>\n",
              "      <td>...</td>\n",
              "      <td>...</td>\n",
              "    </tr>\n",
              "    <tr>\n",
              "      <th>368</th>\n",
              "      <td>1</td>\n",
              "      <td>1</td>\n",
              "      <td>0.836735</td>\n",
              "      <td>0.695652</td>\n",
              "      <td>0.2</td>\n",
              "      <td>0.933333</td>\n",
              "      <td>0.844810</td>\n",
              "      <td>0.694</td>\n",
              "      <td>0.653434</td>\n",
              "    </tr>\n",
              "    <tr>\n",
              "      <th>369</th>\n",
              "      <td>1</td>\n",
              "      <td>1</td>\n",
              "      <td>0.877551</td>\n",
              "      <td>0.695652</td>\n",
              "      <td>0.2</td>\n",
              "      <td>0.866667</td>\n",
              "      <td>0.842315</td>\n",
              "      <td>0.675</td>\n",
              "      <td>0.655325</td>\n",
              "    </tr>\n",
              "    <tr>\n",
              "      <th>370</th>\n",
              "      <td>0</td>\n",
              "      <td>0</td>\n",
              "      <td>0.622449</td>\n",
              "      <td>0.565217</td>\n",
              "      <td>0.4</td>\n",
              "      <td>1.000000</td>\n",
              "      <td>0.658184</td>\n",
              "      <td>0.801</td>\n",
              "      <td>0.838689</td>\n",
              "    </tr>\n",
              "    <tr>\n",
              "      <th>371</th>\n",
              "      <td>0</td>\n",
              "      <td>0</td>\n",
              "      <td>0.642857</td>\n",
              "      <td>0.565217</td>\n",
              "      <td>0.4</td>\n",
              "      <td>1.000000</td>\n",
              "      <td>0.662176</td>\n",
              "      <td>0.796</td>\n",
              "      <td>0.833648</td>\n",
              "    </tr>\n",
              "    <tr>\n",
              "      <th>372</th>\n",
              "      <td>0</td>\n",
              "      <td>0</td>\n",
              "      <td>0.663265</td>\n",
              "      <td>0.565217</td>\n",
              "      <td>0.4</td>\n",
              "      <td>1.000000</td>\n",
              "      <td>0.665170</td>\n",
              "      <td>0.801</td>\n",
              "      <td>0.829868</td>\n",
              "    </tr>\n",
              "  </tbody>\n",
              "</table>\n",
              "<p>373 rows × 9 columns</p>\n",
              "</div>"
            ],
            "text/plain": [
              "     Group  Gender       Age      EDUC  ...      MMSE      eTIV   nWBV       ASF\n",
              "0        0       1  0.887755  0.608696  ...  0.900000  0.991517  0.696  0.556396\n",
              "1        0       1  0.897959  0.608696  ...  1.000000  1.000000  0.681  0.551985\n",
              "2        1       1  0.765306  0.521739  ...  0.766667  0.837325  0.736  0.659105\n",
              "3        1       1  0.775510  0.521739  ...  0.933333  0.867265  0.713  0.636421\n",
              "4        1       1  0.816327  0.521739  ...  0.733333  0.847305  0.701  0.651544\n",
              "..     ...     ...       ...       ...  ...       ...       ...    ...       ...\n",
              "368      1       1  0.836735  0.695652  ...  0.933333  0.844810  0.694  0.653434\n",
              "369      1       1  0.877551  0.695652  ...  0.866667  0.842315  0.675  0.655325\n",
              "370      0       0  0.622449  0.565217  ...  1.000000  0.658184  0.801  0.838689\n",
              "371      0       0  0.642857  0.565217  ...  1.000000  0.662176  0.796  0.833648\n",
              "372      0       0  0.663265  0.565217  ...  1.000000  0.665170  0.801  0.829868\n",
              "\n",
              "[373 rows x 9 columns]"
            ]
          },
          "metadata": {},
          "execution_count": 31
        }
      ]
    },
    {
      "cell_type": "code",
      "metadata": {
        "id": "bZo83ozsVchN"
      },
      "source": [
        "# corr\n",
        "# visualization\n",
        "# train test split \n",
        "# models "
      ],
      "execution_count": 32,
      "outputs": []
    },
    {
      "cell_type": "markdown",
      "metadata": {
        "id": "_WwOl_rW4SOY"
      },
      "source": [
        "**CORRELATION MATRIX AND FEATURE SELECTION**"
      ]
    },
    {
      "cell_type": "code",
      "metadata": {
        "colab": {
          "base_uri": "https://localhost:8080/",
          "height": 326
        },
        "id": "ri3kz1I_2zVx",
        "outputId": "7292d061-7120-443f-f06b-a2c00f09f349"
      },
      "source": [
        "# plotting correlation matrix \n",
        "# if 2 or more features have a high correlation then it is best to remove one of them to avoid redundancy \n",
        "# in the correlation matrix it can be seen that eTIV and ASF have a high correlation of -0.988 \n",
        "# hence we remove one of them \n",
        "# in our case we remove the eTIV\n",
        "df.corr()"
      ],
      "execution_count": 33,
      "outputs": [
        {
          "output_type": "execute_result",
          "data": {
            "text/html": [
              "<div>\n",
              "<style scoped>\n",
              "    .dataframe tbody tr th:only-of-type {\n",
              "        vertical-align: middle;\n",
              "    }\n",
              "\n",
              "    .dataframe tbody tr th {\n",
              "        vertical-align: top;\n",
              "    }\n",
              "\n",
              "    .dataframe thead th {\n",
              "        text-align: right;\n",
              "    }\n",
              "</style>\n",
              "<table border=\"1\" class=\"dataframe\">\n",
              "  <thead>\n",
              "    <tr style=\"text-align: right;\">\n",
              "      <th></th>\n",
              "      <th>Group</th>\n",
              "      <th>Gender</th>\n",
              "      <th>Age</th>\n",
              "      <th>EDUC</th>\n",
              "      <th>SES</th>\n",
              "      <th>MMSE</th>\n",
              "      <th>eTIV</th>\n",
              "      <th>nWBV</th>\n",
              "      <th>ASF</th>\n",
              "    </tr>\n",
              "  </thead>\n",
              "  <tbody>\n",
              "    <tr>\n",
              "      <th>Group</th>\n",
              "      <td>1.000000</td>\n",
              "      <td>0.222146</td>\n",
              "      <td>-0.005941</td>\n",
              "      <td>-0.193060</td>\n",
              "      <td>0.038870</td>\n",
              "      <td>-0.520553</td>\n",
              "      <td>-0.042700</td>\n",
              "      <td>-0.311346</td>\n",
              "      <td>0.032495</td>\n",
              "    </tr>\n",
              "    <tr>\n",
              "      <th>Gender</th>\n",
              "      <td>0.222146</td>\n",
              "      <td>1.000000</td>\n",
              "      <td>-0.037726</td>\n",
              "      <td>0.089279</td>\n",
              "      <td>-0.048504</td>\n",
              "      <td>-0.168530</td>\n",
              "      <td>0.572549</td>\n",
              "      <td>-0.249618</td>\n",
              "      <td>-0.561647</td>\n",
              "    </tr>\n",
              "    <tr>\n",
              "      <th>Age</th>\n",
              "      <td>-0.005941</td>\n",
              "      <td>-0.037726</td>\n",
              "      <td>1.000000</td>\n",
              "      <td>-0.027886</td>\n",
              "      <td>-0.045410</td>\n",
              "      <td>0.055255</td>\n",
              "      <td>0.042348</td>\n",
              "      <td>-0.518359</td>\n",
              "      <td>-0.035067</td>\n",
              "    </tr>\n",
              "    <tr>\n",
              "      <th>EDUC</th>\n",
              "      <td>-0.193060</td>\n",
              "      <td>0.089279</td>\n",
              "      <td>-0.027886</td>\n",
              "      <td>1.000000</td>\n",
              "      <td>-0.691222</td>\n",
              "      <td>0.192158</td>\n",
              "      <td>0.257015</td>\n",
              "      <td>-0.012200</td>\n",
              "      <td>-0.241752</td>\n",
              "    </tr>\n",
              "    <tr>\n",
              "      <th>SES</th>\n",
              "      <td>0.038870</td>\n",
              "      <td>-0.048504</td>\n",
              "      <td>-0.045410</td>\n",
              "      <td>-0.691222</td>\n",
              "      <td>1.000000</td>\n",
              "      <td>-0.139943</td>\n",
              "      <td>-0.249030</td>\n",
              "      <td>0.092361</td>\n",
              "      <td>0.240831</td>\n",
              "    </tr>\n",
              "    <tr>\n",
              "      <th>MMSE</th>\n",
              "      <td>-0.520553</td>\n",
              "      <td>-0.168530</td>\n",
              "      <td>0.055255</td>\n",
              "      <td>0.192158</td>\n",
              "      <td>-0.139943</td>\n",
              "      <td>1.000000</td>\n",
              "      <td>-0.036234</td>\n",
              "      <td>0.342189</td>\n",
              "      <td>0.044960</td>\n",
              "    </tr>\n",
              "    <tr>\n",
              "      <th>eTIV</th>\n",
              "      <td>-0.042700</td>\n",
              "      <td>0.572549</td>\n",
              "      <td>0.042348</td>\n",
              "      <td>0.257015</td>\n",
              "      <td>-0.249030</td>\n",
              "      <td>-0.036234</td>\n",
              "      <td>1.000000</td>\n",
              "      <td>-0.210122</td>\n",
              "      <td>-0.988877</td>\n",
              "    </tr>\n",
              "    <tr>\n",
              "      <th>nWBV</th>\n",
              "      <td>-0.311346</td>\n",
              "      <td>-0.249618</td>\n",
              "      <td>-0.518359</td>\n",
              "      <td>-0.012200</td>\n",
              "      <td>0.092361</td>\n",
              "      <td>0.342189</td>\n",
              "      <td>-0.210122</td>\n",
              "      <td>1.000000</td>\n",
              "      <td>0.213476</td>\n",
              "    </tr>\n",
              "    <tr>\n",
              "      <th>ASF</th>\n",
              "      <td>0.032495</td>\n",
              "      <td>-0.561647</td>\n",
              "      <td>-0.035067</td>\n",
              "      <td>-0.241752</td>\n",
              "      <td>0.240831</td>\n",
              "      <td>0.044960</td>\n",
              "      <td>-0.988877</td>\n",
              "      <td>0.213476</td>\n",
              "      <td>1.000000</td>\n",
              "    </tr>\n",
              "  </tbody>\n",
              "</table>\n",
              "</div>"
            ],
            "text/plain": [
              "           Group    Gender       Age  ...      eTIV      nWBV       ASF\n",
              "Group   1.000000  0.222146 -0.005941  ... -0.042700 -0.311346  0.032495\n",
              "Gender  0.222146  1.000000 -0.037726  ...  0.572549 -0.249618 -0.561647\n",
              "Age    -0.005941 -0.037726  1.000000  ...  0.042348 -0.518359 -0.035067\n",
              "EDUC   -0.193060  0.089279 -0.027886  ...  0.257015 -0.012200 -0.241752\n",
              "SES     0.038870 -0.048504 -0.045410  ... -0.249030  0.092361  0.240831\n",
              "MMSE   -0.520553 -0.168530  0.055255  ... -0.036234  0.342189  0.044960\n",
              "eTIV   -0.042700  0.572549  0.042348  ...  1.000000 -0.210122 -0.988877\n",
              "nWBV   -0.311346 -0.249618 -0.518359  ... -0.210122  1.000000  0.213476\n",
              "ASF     0.032495 -0.561647 -0.035067  ... -0.988877  0.213476  1.000000\n",
              "\n",
              "[9 rows x 9 columns]"
            ]
          },
          "metadata": {},
          "execution_count": 33
        }
      ]
    },
    {
      "cell_type": "code",
      "metadata": {
        "id": "6NSiOFkT3Ttj"
      },
      "source": [
        "df.drop(labels = {'eTIV' } , axis = 1 , inplace = True)"
      ],
      "execution_count": 34,
      "outputs": []
    },
    {
      "cell_type": "code",
      "metadata": {
        "colab": {
          "base_uri": "https://localhost:8080/",
          "height": 417
        },
        "id": "NegBmyy74EgH",
        "outputId": "301817bc-d7e8-49a9-da80-9f3ba40edd21"
      },
      "source": [
        "# after dropping eTIV\n",
        "df"
      ],
      "execution_count": 35,
      "outputs": [
        {
          "output_type": "execute_result",
          "data": {
            "text/html": [
              "<div>\n",
              "<style scoped>\n",
              "    .dataframe tbody tr th:only-of-type {\n",
              "        vertical-align: middle;\n",
              "    }\n",
              "\n",
              "    .dataframe tbody tr th {\n",
              "        vertical-align: top;\n",
              "    }\n",
              "\n",
              "    .dataframe thead th {\n",
              "        text-align: right;\n",
              "    }\n",
              "</style>\n",
              "<table border=\"1\" class=\"dataframe\">\n",
              "  <thead>\n",
              "    <tr style=\"text-align: right;\">\n",
              "      <th></th>\n",
              "      <th>Group</th>\n",
              "      <th>Gender</th>\n",
              "      <th>Age</th>\n",
              "      <th>EDUC</th>\n",
              "      <th>SES</th>\n",
              "      <th>MMSE</th>\n",
              "      <th>nWBV</th>\n",
              "      <th>ASF</th>\n",
              "    </tr>\n",
              "  </thead>\n",
              "  <tbody>\n",
              "    <tr>\n",
              "      <th>0</th>\n",
              "      <td>0</td>\n",
              "      <td>1</td>\n",
              "      <td>0.887755</td>\n",
              "      <td>0.608696</td>\n",
              "      <td>0.4</td>\n",
              "      <td>0.900000</td>\n",
              "      <td>0.696</td>\n",
              "      <td>0.556396</td>\n",
              "    </tr>\n",
              "    <tr>\n",
              "      <th>1</th>\n",
              "      <td>0</td>\n",
              "      <td>1</td>\n",
              "      <td>0.897959</td>\n",
              "      <td>0.608696</td>\n",
              "      <td>0.4</td>\n",
              "      <td>1.000000</td>\n",
              "      <td>0.681</td>\n",
              "      <td>0.551985</td>\n",
              "    </tr>\n",
              "    <tr>\n",
              "      <th>2</th>\n",
              "      <td>1</td>\n",
              "      <td>1</td>\n",
              "      <td>0.765306</td>\n",
              "      <td>0.521739</td>\n",
              "      <td>0.4</td>\n",
              "      <td>0.766667</td>\n",
              "      <td>0.736</td>\n",
              "      <td>0.659105</td>\n",
              "    </tr>\n",
              "    <tr>\n",
              "      <th>3</th>\n",
              "      <td>1</td>\n",
              "      <td>1</td>\n",
              "      <td>0.775510</td>\n",
              "      <td>0.521739</td>\n",
              "      <td>0.4</td>\n",
              "      <td>0.933333</td>\n",
              "      <td>0.713</td>\n",
              "      <td>0.636421</td>\n",
              "    </tr>\n",
              "    <tr>\n",
              "      <th>4</th>\n",
              "      <td>1</td>\n",
              "      <td>1</td>\n",
              "      <td>0.816327</td>\n",
              "      <td>0.521739</td>\n",
              "      <td>0.4</td>\n",
              "      <td>0.733333</td>\n",
              "      <td>0.701</td>\n",
              "      <td>0.651544</td>\n",
              "    </tr>\n",
              "    <tr>\n",
              "      <th>...</th>\n",
              "      <td>...</td>\n",
              "      <td>...</td>\n",
              "      <td>...</td>\n",
              "      <td>...</td>\n",
              "      <td>...</td>\n",
              "      <td>...</td>\n",
              "      <td>...</td>\n",
              "      <td>...</td>\n",
              "    </tr>\n",
              "    <tr>\n",
              "      <th>368</th>\n",
              "      <td>1</td>\n",
              "      <td>1</td>\n",
              "      <td>0.836735</td>\n",
              "      <td>0.695652</td>\n",
              "      <td>0.2</td>\n",
              "      <td>0.933333</td>\n",
              "      <td>0.694</td>\n",
              "      <td>0.653434</td>\n",
              "    </tr>\n",
              "    <tr>\n",
              "      <th>369</th>\n",
              "      <td>1</td>\n",
              "      <td>1</td>\n",
              "      <td>0.877551</td>\n",
              "      <td>0.695652</td>\n",
              "      <td>0.2</td>\n",
              "      <td>0.866667</td>\n",
              "      <td>0.675</td>\n",
              "      <td>0.655325</td>\n",
              "    </tr>\n",
              "    <tr>\n",
              "      <th>370</th>\n",
              "      <td>0</td>\n",
              "      <td>0</td>\n",
              "      <td>0.622449</td>\n",
              "      <td>0.565217</td>\n",
              "      <td>0.4</td>\n",
              "      <td>1.000000</td>\n",
              "      <td>0.801</td>\n",
              "      <td>0.838689</td>\n",
              "    </tr>\n",
              "    <tr>\n",
              "      <th>371</th>\n",
              "      <td>0</td>\n",
              "      <td>0</td>\n",
              "      <td>0.642857</td>\n",
              "      <td>0.565217</td>\n",
              "      <td>0.4</td>\n",
              "      <td>1.000000</td>\n",
              "      <td>0.796</td>\n",
              "      <td>0.833648</td>\n",
              "    </tr>\n",
              "    <tr>\n",
              "      <th>372</th>\n",
              "      <td>0</td>\n",
              "      <td>0</td>\n",
              "      <td>0.663265</td>\n",
              "      <td>0.565217</td>\n",
              "      <td>0.4</td>\n",
              "      <td>1.000000</td>\n",
              "      <td>0.801</td>\n",
              "      <td>0.829868</td>\n",
              "    </tr>\n",
              "  </tbody>\n",
              "</table>\n",
              "<p>373 rows × 8 columns</p>\n",
              "</div>"
            ],
            "text/plain": [
              "     Group  Gender       Age      EDUC  SES      MMSE   nWBV       ASF\n",
              "0        0       1  0.887755  0.608696  0.4  0.900000  0.696  0.556396\n",
              "1        0       1  0.897959  0.608696  0.4  1.000000  0.681  0.551985\n",
              "2        1       1  0.765306  0.521739  0.4  0.766667  0.736  0.659105\n",
              "3        1       1  0.775510  0.521739  0.4  0.933333  0.713  0.636421\n",
              "4        1       1  0.816327  0.521739  0.4  0.733333  0.701  0.651544\n",
              "..     ...     ...       ...       ...  ...       ...    ...       ...\n",
              "368      1       1  0.836735  0.695652  0.2  0.933333  0.694  0.653434\n",
              "369      1       1  0.877551  0.695652  0.2  0.866667  0.675  0.655325\n",
              "370      0       0  0.622449  0.565217  0.4  1.000000  0.801  0.838689\n",
              "371      0       0  0.642857  0.565217  0.4  1.000000  0.796  0.833648\n",
              "372      0       0  0.663265  0.565217  0.4  1.000000  0.801  0.829868\n",
              "\n",
              "[373 rows x 8 columns]"
            ]
          },
          "metadata": {},
          "execution_count": 35
        }
      ]
    },
    {
      "cell_type": "markdown",
      "metadata": {
        "id": "kSfdHG_74gpQ"
      },
      "source": [
        "#**VISUALIZATION**"
      ]
    },
    {
      "cell_type": "markdown",
      "metadata": {
        "id": "jPCpSVwzOf-h"
      },
      "source": [
        "**BARPLOT**"
      ]
    },
    {
      "cell_type": "code",
      "metadata": {
        "id": "PNkODroN4HI0"
      },
      "source": [
        "# We will plot 2 visualizations \n",
        "# a Scatterplot between Age and nWBV\n",
        "# a barplot depicting the count of different SES"
      ],
      "execution_count": 36,
      "outputs": []
    },
    {
      "cell_type": "code",
      "metadata": {
        "id": "nvxrKt-QLoV4"
      },
      "source": [
        "import matplotlib.pyplot as plt  # package for visualization\n"
      ],
      "execution_count": 37,
      "outputs": []
    },
    {
      "cell_type": "code",
      "metadata": {
        "colab": {
          "base_uri": "https://localhost:8080/"
        },
        "id": "pSj_gbG9L4zt",
        "outputId": "0e1e925e-e8dc-4b4d-a194-fe604b20b716"
      },
      "source": [
        "# X is the different types / categories in the SES \n",
        "X = dv['SES'].unique()\n",
        "X.sort(kind = 'quicksort')\n",
        "X"
      ],
      "execution_count": 38,
      "outputs": [
        {
          "output_type": "execute_result",
          "data": {
            "text/plain": [
              "array([1., 2., 3., 4., 5.])"
            ]
          },
          "metadata": {},
          "execution_count": 38
        }
      ]
    },
    {
      "cell_type": "code",
      "metadata": {
        "colab": {
          "base_uri": "https://localhost:8080/"
        },
        "id": "o0soJ7zAMVvW",
        "outputId": "7d992031-bfc8-475c-a9b6-360b7aaf34fb"
      },
      "source": [
        "# Y is the count of each type of SES\n",
        "Y = dv['SES'].value_counts(dropna=True ).sort_index(ascending = True)\n",
        "Y"
      ],
      "execution_count": 39,
      "outputs": [
        {
          "output_type": "execute_result",
          "data": {
            "text/plain": [
              "1.0     88\n",
              "2.0    122\n",
              "3.0     82\n",
              "4.0     74\n",
              "5.0      7\n",
              "Name: SES, dtype: int64"
            ]
          },
          "metadata": {},
          "execution_count": 39
        }
      ]
    },
    {
      "cell_type": "code",
      "metadata": {
        "colab": {
          "base_uri": "https://localhost:8080/",
          "height": 295
        },
        "id": "etd1F9hVMmmv",
        "outputId": "3ad9be9b-fa03-426d-8c04-65e897ccf740"
      },
      "source": [
        "# barplot \n",
        "\n",
        "plt.bar(X , Y , color = ['r' , 'g' , 'b' , 'm' , 'y'])\n",
        "plt.xlabel(\"MMSE\")\n",
        "plt.ylabel(\"Number of Subjects\")\n",
        "plt.title(\"MMSE wise subject Count\")\n",
        "plt.show()\n",
        "\n",
        "\n"
      ],
      "execution_count": 46,
      "outputs": [
        {
          "output_type": "display_data",
          "data": {
            "image/png": "[encoded data removed]",
            "text/plain": [
              "<Figure size 432x288 with 1 Axes>"
            ]
          },
          "metadata": {
            "needs_background": "light"
          }
        }
      ]
    },
    {
      "cell_type": "code",
      "metadata": {
        "id": "HsdpYTFnPJ0j",
        "colab": {
          "base_uri": "https://localhost:8080/",
          "height": 295
        },
        "outputId": "95923c95-af3d-486d-9791-a0a2f1b30912"
      },
      "source": [
        "# replacing x axis labels with a custom label \n",
        "\n",
        "X_bar = ['Very High' , 'High' , 'Average' , 'Low' , 'Very Low']\n",
        "plt.bar(X_bar , Y , color = ['r' , 'g' , 'b' , 'm' , 'y'])\n",
        "plt.xlabel(\"MMSE\")\n",
        "plt.ylabel(\"Number of Subjects\")\n",
        "plt.title(\"MMSE wise subject Count\")\n",
        "plt.show()\n"
      ],
      "execution_count": 48,
      "outputs": [
        {
          "output_type": "display_data",
          "data": {
            "image/png": "[encoded data removed]",
            "text/plain": [
              "<Figure size 432x288 with 1 Axes>"
            ]
          },
          "metadata": {
            "needs_background": "light"
          }
        }
      ]
    },
    {
      "cell_type": "code",
      "metadata": {
        "colab": {
          "base_uri": "https://localhost:8080/",
          "height": 295
        },
        "id": "6Vwo3-SuMOLN",
        "outputId": "fd8dbde6-c94d-4409-a770-f136a19e1609"
      },
      "source": [
        "# scatterplot between nWBV and Age \n",
        "plt.scatter((dv['Age']) , dv['nWBV'] , c = 'steelblue')\n",
        "plt.xlabel(\"Age in Years\")\n",
        "plt.ylabel(\"Brain Volume in mL\")\n",
        "plt.title(\"Age VS Brain Volume\")\n",
        "plt.show()\n",
        "\n",
        "\n"
      ],
      "execution_count": 53,
      "outputs": [
        {
          "output_type": "display_data",
          "data": {
            "image/png": "[encoded data removed]",
            "text/plain": [
              "<Figure size 432x288 with 1 Axes>"
            ]
          },
          "metadata": {
            "needs_background": "light"
          }
        }
      ]
    },
    {
      "cell_type": "markdown",
      "metadata": {
        "id": "-NCXsPPKNWt2"
      },
      "source": [
        "#**MODEL IMPLEMENTATION**"
      ]
    },
    {
      "cell_type": "markdown",
      "metadata": {
        "id": "rurMPB41Q8YV"
      },
      "source": [
        "**TRAIN TEST SPLIT**"
      ]
    },
    {
      "cell_type": "code",
      "metadata": {
        "id": "nLVoKjPbM2x8"
      },
      "source": [
        "# the sklearn package includes different regressors , classifiers and preprocessing functions \n",
        "from sklearn import model_selection"
      ],
      "execution_count": 66,
      "outputs": []
    },
    {
      "cell_type": "code",
      "metadata": {
        "id": "7Ch_h5ydO91r"
      },
      "source": [
        "# separates target variable from the rest of the features \n",
        "X = df.drop('Group' , axis = 1) \n",
        "Y = df['Group']"
      ],
      "execution_count": 57,
      "outputs": []
    },
    {
      "cell_type": "code",
      "metadata": {
        "colab": {
          "base_uri": "https://localhost:8080/",
          "height": 417
        },
        "id": "-HHwhNVQPgO2",
        "outputId": "5ac3bd40-39a9-4e3a-ea85-ff2516eeacf9"
      },
      "source": [
        "X"
      ],
      "execution_count": 58,
      "outputs": [
        {
          "output_type": "execute_result",
          "data": {
            "text/html": [
              "<div>\n",
              "<style scoped>\n",
              "    .dataframe tbody tr th:only-of-type {\n",
              "        vertical-align: middle;\n",
              "    }\n",
              "\n",
              "    .dataframe tbody tr th {\n",
              "        vertical-align: top;\n",
              "    }\n",
              "\n",
              "    .dataframe thead th {\n",
              "        text-align: right;\n",
              "    }\n",
              "</style>\n",
              "<table border=\"1\" class=\"dataframe\">\n",
              "  <thead>\n",
              "    <tr style=\"text-align: right;\">\n",
              "      <th></th>\n",
              "      <th>Gender</th>\n",
              "      <th>Age</th>\n",
              "      <th>EDUC</th>\n",
              "      <th>SES</th>\n",
              "      <th>MMSE</th>\n",
              "      <th>nWBV</th>\n",
              "      <th>ASF</th>\n",
              "    </tr>\n",
              "  </thead>\n",
              "  <tbody>\n",
              "    <tr>\n",
              "      <th>0</th>\n",
              "      <td>1</td>\n",
              "      <td>0.887755</td>\n",
              "      <td>0.608696</td>\n",
              "      <td>0.4</td>\n",
              "      <td>0.900000</td>\n",
              "      <td>0.696</td>\n",
              "      <td>0.556396</td>\n",
              "    </tr>\n",
              "    <tr>\n",
              "      <th>1</th>\n",
              "      <td>1</td>\n",
              "      <td>0.897959</td>\n",
              "      <td>0.608696</td>\n",
              "      <td>0.4</td>\n",
              "      <td>1.000000</td>\n",
              "      <td>0.681</td>\n",
              "      <td>0.551985</td>\n",
              "    </tr>\n",
              "    <tr>\n",
              "      <th>2</th>\n",
              "      <td>1</td>\n",
              "      <td>0.765306</td>\n",
              "      <td>0.521739</td>\n",
              "      <td>0.4</td>\n",
              "      <td>0.766667</td>\n",
              "      <td>0.736</td>\n",
              "      <td>0.659105</td>\n",
              "    </tr>\n",
              "    <tr>\n",
              "      <th>3</th>\n",
              "      <td>1</td>\n",
              "      <td>0.775510</td>\n",
              "      <td>0.521739</td>\n",
              "      <td>0.4</td>\n",
              "      <td>0.933333</td>\n",
              "      <td>0.713</td>\n",
              "      <td>0.636421</td>\n",
              "    </tr>\n",
              "    <tr>\n",
              "      <th>4</th>\n",
              "      <td>1</td>\n",
              "      <td>0.816327</td>\n",
              "      <td>0.521739</td>\n",
              "      <td>0.4</td>\n",
              "      <td>0.733333</td>\n",
              "      <td>0.701</td>\n",
              "      <td>0.651544</td>\n",
              "    </tr>\n",
              "    <tr>\n",
              "      <th>...</th>\n",
              "      <td>...</td>\n",
              "      <td>...</td>\n",
              "      <td>...</td>\n",
              "      <td>...</td>\n",
              "      <td>...</td>\n",
              "      <td>...</td>\n",
              "      <td>...</td>\n",
              "    </tr>\n",
              "    <tr>\n",
              "      <th>368</th>\n",
              "      <td>1</td>\n",
              "      <td>0.836735</td>\n",
              "      <td>0.695652</td>\n",
              "      <td>0.2</td>\n",
              "      <td>0.933333</td>\n",
              "      <td>0.694</td>\n",
              "      <td>0.653434</td>\n",
              "    </tr>\n",
              "    <tr>\n",
              "      <th>369</th>\n",
              "      <td>1</td>\n",
              "      <td>0.877551</td>\n",
              "      <td>0.695652</td>\n",
              "      <td>0.2</td>\n",
              "      <td>0.866667</td>\n",
              "      <td>0.675</td>\n",
              "      <td>0.655325</td>\n",
              "    </tr>\n",
              "    <tr>\n",
              "      <th>370</th>\n",
              "      <td>0</td>\n",
              "      <td>0.622449</td>\n",
              "      <td>0.565217</td>\n",
              "      <td>0.4</td>\n",
              "      <td>1.000000</td>\n",
              "      <td>0.801</td>\n",
              "      <td>0.838689</td>\n",
              "    </tr>\n",
              "    <tr>\n",
              "      <th>371</th>\n",
              "      <td>0</td>\n",
              "      <td>0.642857</td>\n",
              "      <td>0.565217</td>\n",
              "      <td>0.4</td>\n",
              "      <td>1.000000</td>\n",
              "      <td>0.796</td>\n",
              "      <td>0.833648</td>\n",
              "    </tr>\n",
              "    <tr>\n",
              "      <th>372</th>\n",
              "      <td>0</td>\n",
              "      <td>0.663265</td>\n",
              "      <td>0.565217</td>\n",
              "      <td>0.4</td>\n",
              "      <td>1.000000</td>\n",
              "      <td>0.801</td>\n",
              "      <td>0.829868</td>\n",
              "    </tr>\n",
              "  </tbody>\n",
              "</table>\n",
              "<p>373 rows × 7 columns</p>\n",
              "</div>"
            ],
            "text/plain": [
              "     Gender       Age      EDUC  SES      MMSE   nWBV       ASF\n",
              "0         1  0.887755  0.608696  0.4  0.900000  0.696  0.556396\n",
              "1         1  0.897959  0.608696  0.4  1.000000  0.681  0.551985\n",
              "2         1  0.765306  0.521739  0.4  0.766667  0.736  0.659105\n",
              "3         1  0.775510  0.521739  0.4  0.933333  0.713  0.636421\n",
              "4         1  0.816327  0.521739  0.4  0.733333  0.701  0.651544\n",
              "..      ...       ...       ...  ...       ...    ...       ...\n",
              "368       1  0.836735  0.695652  0.2  0.933333  0.694  0.653434\n",
              "369       1  0.877551  0.695652  0.2  0.866667  0.675  0.655325\n",
              "370       0  0.622449  0.565217  0.4  1.000000  0.801  0.838689\n",
              "371       0  0.642857  0.565217  0.4  1.000000  0.796  0.833648\n",
              "372       0  0.663265  0.565217  0.4  1.000000  0.801  0.829868\n",
              "\n",
              "[373 rows x 7 columns]"
            ]
          },
          "metadata": {},
          "execution_count": 58
        }
      ]
    },
    {
      "cell_type": "code",
      "metadata": {
        "colab": {
          "base_uri": "https://localhost:8080/"
        },
        "id": "KlbMCS0UPijL",
        "outputId": "9e3bbf41-67e7-47af-dfdb-53e04772a1da"
      },
      "source": [
        "Y"
      ],
      "execution_count": 59,
      "outputs": [
        {
          "output_type": "execute_result",
          "data": {
            "text/plain": [
              "0      0\n",
              "1      0\n",
              "2      1\n",
              "3      1\n",
              "4      1\n",
              "      ..\n",
              "368    1\n",
              "369    1\n",
              "370    0\n",
              "371    0\n",
              "372    0\n",
              "Name: Group, Length: 373, dtype: int64"
            ]
          },
          "metadata": {},
          "execution_count": 59
        }
      ]
    },
    {
      "cell_type": "code",
      "metadata": {
        "id": "8pLEWA4tODwB"
      },
      "source": [
        "# for training the models we divide data into train and test set \n",
        "# a ratio in between 7:3 and 8:2 is followed [train:test]\n",
        "# in our case we will take the ratio as 7:3\n",
        "\n",
        "X_train , X_test , y_train, y_test = model_selection.train_test_split(X , Y ,test_size = 0.3 , shuffle = True , stratify=Y  )\n",
        "\n",
        "# shuffle randomizes the order in which the data is divided\n",
        "# stratify preserves the ratio of different classes in both train and test data "
      ],
      "execution_count": 73,
      "outputs": []
    },
    {
      "cell_type": "code",
      "metadata": {
        "colab": {
          "base_uri": "https://localhost:8080/"
        },
        "id": "tlwzwZ1aPukp",
        "outputId": "b0ba3c5d-2191-40b7-96ac-e03f2c15bf95"
      },
      "source": [
        "X_train.shape"
      ],
      "execution_count": 74,
      "outputs": [
        {
          "output_type": "execute_result",
          "data": {
            "text/plain": [
              "(261, 7)"
            ]
          },
          "metadata": {},
          "execution_count": 74
        }
      ]
    },
    {
      "cell_type": "code",
      "metadata": {
        "colab": {
          "base_uri": "https://localhost:8080/"
        },
        "id": "q6uiGREHQgdr",
        "outputId": "8623be56-9c77-4a2c-90ca-490649b51e7b"
      },
      "source": [
        "y_train.shape"
      ],
      "execution_count": 75,
      "outputs": [
        {
          "output_type": "execute_result",
          "data": {
            "text/plain": [
              "(261,)"
            ]
          },
          "metadata": {},
          "execution_count": 75
        }
      ]
    },
    {
      "cell_type": "code",
      "metadata": {
        "colab": {
          "base_uri": "https://localhost:8080/"
        },
        "id": "5MaPuJyYQuH7",
        "outputId": "14c2d7ab-efcf-45a0-ec53-3a653a7dda4b"
      },
      "source": [
        "X_test.shape"
      ],
      "execution_count": 76,
      "outputs": [
        {
          "output_type": "execute_result",
          "data": {
            "text/plain": [
              "(112, 7)"
            ]
          },
          "metadata": {},
          "execution_count": 76
        }
      ]
    },
    {
      "cell_type": "markdown",
      "metadata": {
        "id": "eCRxTd3wRBl2"
      },
      "source": [
        "**MODEL IMPLEMENTATION**"
      ]
    },
    {
      "cell_type": "markdown",
      "metadata": {
        "id": "pZkAV-D7furK"
      },
      "source": [
        "#####**DECISION TREES**"
      ]
    },
    {
      "cell_type": "code",
      "metadata": {
        "id": "mSwahaLHQ5KF"
      },
      "source": [
        "from sklearn import metrics # for performance parameters \n",
        "from sklearn.tree import DecisionTreeClassifier\n"
      ],
      "execution_count": 82,
      "outputs": []
    },
    {
      "cell_type": "code",
      "metadata": {
        "id": "P2BG3dtngFao"
      },
      "source": [
        "tree = DecisionTreeClassifier(criterion = \"gini\" , max_depth = 4 )  # initializing the model \n"
      ],
      "execution_count": 103,
      "outputs": []
    },
    {
      "cell_type": "code",
      "metadata": {
        "id": "FQI3WkxOgjIE"
      },
      "source": [
        "tree = tree.fit(X_train , y_train ) # fitting the data on the model "
      ],
      "execution_count": 104,
      "outputs": []
    },
    {
      "cell_type": "code",
      "metadata": {
        "colab": {
          "base_uri": "https://localhost:8080/"
        },
        "id": "H5Y9dXMngkBa",
        "outputId": "9d479527-4813-4cf5-b7e5-ac7b1aa00ed8"
      },
      "source": [
        "y_pred_dec = tree.predict(X_test)\n",
        "print (\"Accuracy: {0:.3f}\".format(metrics.accuracy_score(y_test,y_pred_dec)),\"\\n\")"
      ],
      "execution_count": 105,
      "outputs": [
        {
          "output_type": "stream",
          "name": "stdout",
          "text": [
            "Accuracy: 0.750 \n",
            "\n"
          ]
        }
      ]
    },
    {
      "cell_type": "markdown",
      "metadata": {
        "id": "T7VHErA4hw3-"
      },
      "source": [
        "#####**RANDOM FOREST**"
      ]
    },
    {
      "cell_type": "code",
      "metadata": {
        "id": "Bxfayh5qhJfF"
      },
      "source": [
        "from sklearn.ensemble import RandomForestClassifier"
      ],
      "execution_count": 106,
      "outputs": []
    },
    {
      "cell_type": "code",
      "metadata": {
        "id": "u5wu9128h2QV"
      },
      "source": [
        "random_forest = RandomForestClassifier( criterion = \"gini\" , n_estimators = 15 )    # n estimators = number of trees in the forest "
      ],
      "execution_count": 123,
      "outputs": []
    },
    {
      "cell_type": "code",
      "metadata": {
        "id": "BK2swxTeh-PV"
      },
      "source": [
        "random_forest = random_forest.fit(X_train , y_train)"
      ],
      "execution_count": 124,
      "outputs": []
    },
    {
      "cell_type": "code",
      "metadata": {
        "colab": {
          "base_uri": "https://localhost:8080/"
        },
        "id": "NL93Lzq8iCOG",
        "outputId": "a0a28110-1713-4f2e-925b-65ef8200bbec"
      },
      "source": [
        "random_forest = random_forest.predict(X_test)\n",
        "print (\"Accuracy: {0:.3f}\".format(metrics.accuracy_score(y_test,random_forest)),\"\\n\")"
      ],
      "execution_count": 125,
      "outputs": [
        {
          "output_type": "stream",
          "name": "stdout",
          "text": [
            "Accuracy: 0.848 \n",
            "\n"
          ]
        }
      ]
    },
    {
      "cell_type": "markdown",
      "metadata": {
        "id": "0iyL6AqDinAJ"
      },
      "source": [
        "#####**NEURAL NET**"
      ]
    },
    {
      "cell_type": "code",
      "metadata": {
        "id": "7gXN006GiIkZ"
      },
      "source": [
        "from keras.models import Sequential\n",
        "from keras.layers import Dense,Dropout"
      ],
      "execution_count": 127,
      "outputs": []
    },
    {
      "cell_type": "code",
      "metadata": {
        "id": "xrnwFG6QisBv"
      },
      "source": [
        "model=Sequential()\n",
        "\n",
        "model.add(Dense(units=32,activation='relu',input_dim=X_train.shape[1]))\n",
        "\n",
        "model.add(Dense(units=64,activation='relu'))\n",
        "\n",
        "model.add(Dropout(0.3))\n",
        "\n",
        "model.add(Dense(units=64,activation='relu'))\n",
        "\n",
        "model.add(Dense(units=1,activation='sigmoid'))"
      ],
      "execution_count": 165,
      "outputs": []
    },
    {
      "cell_type": "code",
      "metadata": {
        "colab": {
          "base_uri": "https://localhost:8080/"
        },
        "id": "jG3MEF7ti7UI",
        "outputId": "8b0f39b4-db29-402d-ef43-d7808e49605b"
      },
      "source": [
        "model.summary()"
      ],
      "execution_count": 166,
      "outputs": [
        {
          "output_type": "stream",
          "name": "stdout",
          "text": [
            "Model: \"sequential_3\"\n",
            "_________________________________________________________________\n",
            "Layer (type)                 Output Shape              Param #   \n",
            "=================================================================\n",
            "dense_12 (Dense)             (None, 32)                256       \n",
            "_________________________________________________________________\n",
            "dense_13 (Dense)             (None, 64)                2112      \n",
            "_________________________________________________________________\n",
            "dropout_2 (Dropout)          (None, 64)                0         \n",
            "_________________________________________________________________\n",
            "dense_14 (Dense)             (None, 64)                4160      \n",
            "_________________________________________________________________\n",
            "dense_15 (Dense)             (None, 1)                 65        \n",
            "=================================================================\n",
            "Total params: 6,593\n",
            "Trainable params: 6,593\n",
            "Non-trainable params: 0\n",
            "_________________________________________________________________\n"
          ]
        }
      ]
    },
    {
      "cell_type": "code",
      "metadata": {
        "id": "xiNbZdCBi9Im"
      },
      "source": [
        "model.compile(optimizer='adam',loss='binary_crossentropy',metrics=['accuracy'])\n"
      ],
      "execution_count": 167,
      "outputs": []
    },
    {
      "cell_type": "code",
      "metadata": {
        "colab": {
          "base_uri": "https://localhost:8080/"
        },
        "id": "K-g7-GgojEop",
        "outputId": "97faab5a-9f7d-4872-d5d3-c7b87f84dd6a"
      },
      "source": [
        "history=model.fit(X_train,y_train,batch_size=16,epochs=50 , validation_data = (X_test , y_test))"
      ],
      "execution_count": 168,
      "outputs": [
        {
          "output_type": "stream",
          "name": "stdout",
          "text": [
            "Epoch 1/50\n",
            "17/17 [==============================] - 1s 12ms/step - loss: 0.7038 - accuracy: 0.4713 - val_loss: 0.6810 - val_accuracy: 0.5179\n",
            "Epoch 2/50\n",
            "17/17 [==============================] - 0s 3ms/step - loss: 0.6831 - accuracy: 0.5862 - val_loss: 0.6747 - val_accuracy: 0.6161\n",
            "Epoch 3/50\n",
            "17/17 [==============================] - 0s 3ms/step - loss: 0.6833 - accuracy: 0.5632 - val_loss: 0.6659 - val_accuracy: 0.6161\n",
            "Epoch 4/50\n",
            "17/17 [==============================] - 0s 4ms/step - loss: 0.6664 - accuracy: 0.6130 - val_loss: 0.6560 - val_accuracy: 0.6161\n",
            "Epoch 5/50\n",
            "17/17 [==============================] - 0s 3ms/step - loss: 0.6590 - accuracy: 0.6092 - val_loss: 0.6466 - val_accuracy: 0.6161\n",
            "Epoch 6/50\n",
            "17/17 [==============================] - 0s 3ms/step - loss: 0.6475 - accuracy: 0.6322 - val_loss: 0.6382 - val_accuracy: 0.6339\n",
            "Epoch 7/50\n",
            "17/17 [==============================] - 0s 4ms/step - loss: 0.6477 - accuracy: 0.6322 - val_loss: 0.6314 - val_accuracy: 0.6250\n",
            "Epoch 8/50\n",
            "17/17 [==============================] - 0s 4ms/step - loss: 0.6475 - accuracy: 0.6322 - val_loss: 0.6340 - val_accuracy: 0.6875\n",
            "Epoch 9/50\n",
            "17/17 [==============================] - 0s 3ms/step - loss: 0.6227 - accuracy: 0.6552 - val_loss: 0.6142 - val_accuracy: 0.6696\n",
            "Epoch 10/50\n",
            "17/17 [==============================] - 0s 4ms/step - loss: 0.6186 - accuracy: 0.6628 - val_loss: 0.6053 - val_accuracy: 0.6786\n",
            "Epoch 11/50\n",
            "17/17 [==============================] - 0s 3ms/step - loss: 0.6147 - accuracy: 0.6628 - val_loss: 0.5899 - val_accuracy: 0.6875\n",
            "Epoch 12/50\n",
            "17/17 [==============================] - 0s 3ms/step - loss: 0.6204 - accuracy: 0.6628 - val_loss: 0.5867 - val_accuracy: 0.6875\n",
            "Epoch 13/50\n",
            "17/17 [==============================] - 0s 3ms/step - loss: 0.6032 - accuracy: 0.6782 - val_loss: 0.5824 - val_accuracy: 0.6875\n",
            "Epoch 14/50\n",
            "17/17 [==============================] - 0s 3ms/step - loss: 0.6003 - accuracy: 0.6820 - val_loss: 0.5743 - val_accuracy: 0.6964\n",
            "Epoch 15/50\n",
            "17/17 [==============================] - 0s 3ms/step - loss: 0.5959 - accuracy: 0.6782 - val_loss: 0.5631 - val_accuracy: 0.6786\n",
            "Epoch 16/50\n",
            "17/17 [==============================] - 0s 3ms/step - loss: 0.5746 - accuracy: 0.6705 - val_loss: 0.5550 - val_accuracy: 0.7232\n",
            "Epoch 17/50\n",
            "17/17 [==============================] - 0s 3ms/step - loss: 0.5805 - accuracy: 0.6897 - val_loss: 0.5553 - val_accuracy: 0.7143\n",
            "Epoch 18/50\n",
            "17/17 [==============================] - 0s 3ms/step - loss: 0.5690 - accuracy: 0.7126 - val_loss: 0.5357 - val_accuracy: 0.7232\n",
            "Epoch 19/50\n",
            "17/17 [==============================] - 0s 3ms/step - loss: 0.5596 - accuracy: 0.7165 - val_loss: 0.5317 - val_accuracy: 0.7321\n",
            "Epoch 20/50\n",
            "17/17 [==============================] - 0s 4ms/step - loss: 0.5473 - accuracy: 0.7011 - val_loss: 0.5211 - val_accuracy: 0.7321\n",
            "Epoch 21/50\n",
            "17/17 [==============================] - 0s 3ms/step - loss: 0.5322 - accuracy: 0.7510 - val_loss: 0.5197 - val_accuracy: 0.7232\n",
            "Epoch 22/50\n",
            "17/17 [==============================] - 0s 4ms/step - loss: 0.5088 - accuracy: 0.7510 - val_loss: 0.5051 - val_accuracy: 0.7411\n",
            "Epoch 23/50\n",
            "17/17 [==============================] - 0s 3ms/step - loss: 0.4918 - accuracy: 0.7701 - val_loss: 0.5091 - val_accuracy: 0.7232\n",
            "Epoch 24/50\n",
            "17/17 [==============================] - 0s 3ms/step - loss: 0.5145 - accuracy: 0.7663 - val_loss: 0.4956 - val_accuracy: 0.7321\n",
            "Epoch 25/50\n",
            "17/17 [==============================] - 0s 3ms/step - loss: 0.5096 - accuracy: 0.7586 - val_loss: 0.5180 - val_accuracy: 0.7589\n",
            "Epoch 26/50\n",
            "17/17 [==============================] - 0s 4ms/step - loss: 0.4960 - accuracy: 0.7471 - val_loss: 0.4918 - val_accuracy: 0.7679\n",
            "Epoch 27/50\n",
            "17/17 [==============================] - 0s 3ms/step - loss: 0.4864 - accuracy: 0.7701 - val_loss: 0.4856 - val_accuracy: 0.7679\n",
            "Epoch 28/50\n",
            "17/17 [==============================] - 0s 4ms/step - loss: 0.4902 - accuracy: 0.7586 - val_loss: 0.4927 - val_accuracy: 0.7321\n",
            "Epoch 29/50\n",
            "17/17 [==============================] - 0s 3ms/step - loss: 0.4875 - accuracy: 0.7548 - val_loss: 0.5086 - val_accuracy: 0.7143\n",
            "Epoch 30/50\n",
            "17/17 [==============================] - 0s 4ms/step - loss: 0.4861 - accuracy: 0.7433 - val_loss: 0.4841 - val_accuracy: 0.7321\n",
            "Epoch 31/50\n",
            "17/17 [==============================] - 0s 4ms/step - loss: 0.4911 - accuracy: 0.7739 - val_loss: 0.4901 - val_accuracy: 0.7232\n",
            "Epoch 32/50\n",
            "17/17 [==============================] - 0s 4ms/step - loss: 0.4455 - accuracy: 0.8084 - val_loss: 0.4802 - val_accuracy: 0.7768\n",
            "Epoch 33/50\n",
            "17/17 [==============================] - 0s 3ms/step - loss: 0.4711 - accuracy: 0.8046 - val_loss: 0.4965 - val_accuracy: 0.7768\n",
            "Epoch 34/50\n",
            "17/17 [==============================] - 0s 3ms/step - loss: 0.4743 - accuracy: 0.7778 - val_loss: 0.4823 - val_accuracy: 0.7768\n",
            "Epoch 35/50\n",
            "17/17 [==============================] - 0s 4ms/step - loss: 0.4476 - accuracy: 0.8084 - val_loss: 0.4814 - val_accuracy: 0.7232\n",
            "Epoch 36/50\n",
            "17/17 [==============================] - 0s 3ms/step - loss: 0.4470 - accuracy: 0.7931 - val_loss: 0.4725 - val_accuracy: 0.7679\n",
            "Epoch 37/50\n",
            "17/17 [==============================] - 0s 5ms/step - loss: 0.4598 - accuracy: 0.7893 - val_loss: 0.4853 - val_accuracy: 0.7232\n",
            "Epoch 38/50\n",
            "17/17 [==============================] - 0s 4ms/step - loss: 0.4688 - accuracy: 0.7893 - val_loss: 0.4776 - val_accuracy: 0.7321\n",
            "Epoch 39/50\n",
            "17/17 [==============================] - 0s 4ms/step - loss: 0.4283 - accuracy: 0.8046 - val_loss: 0.4912 - val_accuracy: 0.7768\n",
            "Epoch 40/50\n",
            "17/17 [==============================] - 0s 3ms/step - loss: 0.4487 - accuracy: 0.8123 - val_loss: 0.4706 - val_accuracy: 0.7500\n",
            "Epoch 41/50\n",
            "17/17 [==============================] - 0s 4ms/step - loss: 0.4381 - accuracy: 0.7893 - val_loss: 0.4743 - val_accuracy: 0.7589\n",
            "Epoch 42/50\n",
            "17/17 [==============================] - 0s 4ms/step - loss: 0.4542 - accuracy: 0.7969 - val_loss: 0.4751 - val_accuracy: 0.7768\n",
            "Epoch 43/50\n",
            "17/17 [==============================] - 0s 4ms/step - loss: 0.4574 - accuracy: 0.7969 - val_loss: 0.4816 - val_accuracy: 0.7679\n",
            "Epoch 44/50\n",
            "17/17 [==============================] - 0s 4ms/step - loss: 0.4936 - accuracy: 0.7663 - val_loss: 0.4734 - val_accuracy: 0.7679\n",
            "Epoch 45/50\n",
            "17/17 [==============================] - 0s 3ms/step - loss: 0.4541 - accuracy: 0.8008 - val_loss: 0.4818 - val_accuracy: 0.7411\n",
            "Epoch 46/50\n",
            "17/17 [==============================] - 0s 3ms/step - loss: 0.4308 - accuracy: 0.8238 - val_loss: 0.4902 - val_accuracy: 0.7589\n",
            "Epoch 47/50\n",
            "17/17 [==============================] - 0s 3ms/step - loss: 0.4336 - accuracy: 0.8046 - val_loss: 0.4975 - val_accuracy: 0.7321\n",
            "Epoch 48/50\n",
            "17/17 [==============================] - 0s 3ms/step - loss: 0.4360 - accuracy: 0.8391 - val_loss: 0.4867 - val_accuracy: 0.7679\n",
            "Epoch 49/50\n",
            "17/17 [==============================] - 0s 4ms/step - loss: 0.4336 - accuracy: 0.8046 - val_loss: 0.4973 - val_accuracy: 0.7768\n",
            "Epoch 50/50\n",
            "17/17 [==============================] - 0s 3ms/step - loss: 0.4409 - accuracy: 0.7816 - val_loss: 0.4729 - val_accuracy: 0.7768\n"
          ]
        }
      ]
    },
    {
      "cell_type": "code",
      "metadata": {
        "colab": {
          "base_uri": "https://localhost:8080/",
          "height": 295
        },
        "id": "8ExEd6aHjHf8",
        "outputId": "b2a04fe8-2806-48da-a30c-d6944ecbca9e"
      },
      "source": [
        "\n",
        "plt.plot(history.history['accuracy'])\n",
        "plt.plot(history.history['val_accuracy'])\n",
        "plt.title('Model Accuracy')\n",
        "plt.xlabel('Epochs')\n",
        "plt.ylabel('Accuracy')\n",
        "plt.legend(['train', 'val'], loc='upper left')\n",
        "plt.show()"
      ],
      "execution_count": 169,
      "outputs": [
        {
          "output_type": "display_data",
          "data": {
            "image/png": "[encoded data removed]",
            "text/plain": [
              "<Figure size 432x288 with 1 Axes>"
            ]
          },
          "metadata": {
            "needs_background": "light"
          }
        }
      ]
    },
    {
      "cell_type": "code",
      "metadata": {
        "colab": {
          "base_uri": "https://localhost:8080/",
          "height": 295
        },
        "id": "kP5Tf1ONjcy5",
        "outputId": "76d9fb71-8e40-4465-e66a-8482b6f6af92"
      },
      "source": [
        "plt.plot(history.history['loss'])\n",
        "plt.plot(history.history['val_loss'])\n",
        "plt.title('Model Loss')\n",
        "plt.xlabel('Epochs')\n",
        "plt.ylabel('Loss')\n",
        "plt.legend(['train', 'val'], loc='upper left')\n",
        "plt.show()"
      ],
      "execution_count": 170,
      "outputs": [
        {
          "output_type": "display_data",
          "data": {
            "image/png": "[encoded data removed]",
            "text/plain": [
              "<Figure size 432x288 with 1 Axes>"
            ]
          },
          "metadata": {
            "needs_background": "light"
          }
        }
      ]
    },
    {
      "cell_type": "code",
      "metadata": {
        "id": "kX5xRB40jgQi"
      },
      "source": [
        ""
      ],
      "execution_count": null,
      "outputs": []
    }
  ]
}