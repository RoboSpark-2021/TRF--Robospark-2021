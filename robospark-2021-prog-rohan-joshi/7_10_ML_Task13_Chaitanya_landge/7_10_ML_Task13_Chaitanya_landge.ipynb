{
  "nbformat": 4,
  "nbformat_minor": 0,
  "metadata": {
    "colab": {
      "name": "7_10_ML_Task13_Chaitanya_landge.ipynb",
      "provenance": []
    },
    "kernelspec": {
      "name": "python3",
      "display_name": "Python 3"
    },
    "language_info": {
      "name": "python"
    }
  },
  "cells": [
    {
      "cell_type": "code",
      "metadata": {
        "colab": {
          "base_uri": "https://localhost:8080/"
        },
        "id": "gyXT3S7gLbTh",
        "outputId": "3ac94d21-ebe2-4b67-f69d-c216ac51338e"
      },
      "source": [
        "from google.colab import drive\n",
        "drive.mount('/content/drive')"
      ],
      "execution_count": 4,
      "outputs": [
        {
          "output_type": "stream",
          "name": "stdout",
          "text": [
            "Mounted at /content/drive\n"
          ]
        }
      ]
    },
    {
      "cell_type": "code",
      "metadata": {
        "id": "VvTeppWAMAS7"
      },
      "source": [
        "import pandas as pd       # dataframe operations \n",
        "import numpy as np "
      ],
      "execution_count": 5,
      "outputs": []
    },
    {
      "cell_type": "code",
      "metadata": {
        "id": "ziHsDSXG2HtH"
      },
      "source": [
        "path = '/content/drive/My Drive/ecommerce.csv'\n",
        "df = pd.read_csv(path)"
      ],
      "execution_count": 9,
      "outputs": []
    },
    {
      "cell_type": "code",
      "metadata": {
        "id": "bW6O97ni27u_"
      },
      "source": [
        "df"
      ],
      "execution_count": null,
      "outputs": []
    },
    {
      "cell_type": "code",
      "metadata": {
        "id": "fISn4S6O5fnG"
      },
      "source": [
        "df.info()"
      ],
      "execution_count": null,
      "outputs": []
    },
    {
      "cell_type": "code",
      "metadata": {
        "id": "4DhaV77E5w5z"
      },
      "source": [
        "df['Purchase Price'].mean()"
      ],
      "execution_count": null,
      "outputs": []
    },
    {
      "cell_type": "code",
      "metadata": {
        "id": "LAQHE6uB59EY"
      },
      "source": [
        "df['Purchase Price'].max()"
      ],
      "execution_count": null,
      "outputs": []
    },
    {
      "cell_type": "code",
      "metadata": {
        "id": "E9E2Ov4h6H2i"
      },
      "source": [
        "df['Purchase Price'].min()"
      ],
      "execution_count": null,
      "outputs": []
    },
    {
      "cell_type": "code",
      "metadata": {
        "id": "y0K4iR2z6Ndi"
      },
      "source": [
        "arr=df['Job']\n",
        "k=0\n",
        "for i in arr:\n",
        "  if i=='Lawyer':\n",
        "    k=k+1\n",
        "\n",
        "k"
      ],
      "execution_count": null,
      "outputs": []
    },
    {
      "cell_type": "code",
      "metadata": {
        "id": "rzitPtRo8iuP"
      },
      "source": [
        "df['AM or PM'].value_counts(dropna=False)"
      ],
      "execution_count": null,
      "outputs": []
    },
    {
      "cell_type": "code",
      "metadata": {
        "id": "LcmcONyR-K0O"
      },
      "source": [
        "df['Job'].value_counts(dropna=False)[0:5]"
      ],
      "execution_count": null,
      "outputs": []
    },
    {
      "cell_type": "code",
      "metadata": {
        "id": "kia6MFLj9M-a"
      },
      "source": [
        "df[df['Lot']==\"90 WT\"]['Purchase Price']"
      ],
      "execution_count": null,
      "outputs": []
    },
    {
      "cell_type": "code",
      "metadata": {
        "id": "tyyKiY8D_TeI"
      },
      "source": [
        "df[df['Credit Card']==4926535242672853]['Email']"
      ],
      "execution_count": null,
      "outputs": []
    },
    {
      "cell_type": "code",
      "metadata": {
        "id": "rqL-gTrFAKa3"
      },
      "source": [
        "df[(df[\"CC Provider\"]==\"American Express\") & (df[\"Purchase Price\"]>95)].count()"
      ],
      "execution_count": null,
      "outputs": []
    },
    {
      "cell_type": "code",
      "metadata": {
        "id": "Tcb8R9RKBA3g"
      },
      "source": [
        "arr1=df['CC Exp Date']\n",
        "arr2=[]\n",
        "for i in arr1:\n",
        "  arr2.extend(i.split(\"/\"))\n",
        "\n",
        "num=arr2.count('25')\n",
        "num\n"
      ],
      "execution_count": null,
      "outputs": []
    },
    {
      "cell_type": "code",
      "metadata": {
        "colab": {
          "base_uri": "https://localhost:8080/"
        },
        "id": "AfUT7NNoElrL",
        "outputId": "968e4e38-83e4-4f1c-9101-fa34c3fd06f3"
      },
      "source": [
        "arr3=df['Email']\n",
        "tempArr=[]\n",
        "finalArr=[]\n",
        "for i in arr3:\n",
        "  tempArr=i.split(\"@\")\n",
        "  finalArr.append(tempArr[1])\n",
        "\n",
        "arr=[]\n",
        "for i in finalArr:\n",
        "  if i not in arr:\n",
        "    arr.append(i)\n",
        "\n",
        "Dict={}\n",
        "l=[]\n",
        "for i in arr:\n",
        "  a=finalArr.count(i)\n",
        "  Dict[i]=a\n",
        "\n",
        "finalDict={}\n",
        "for k,v in Dict.items():\n",
        "  finalDict[v]=k\n",
        "\n",
        "sorted(finalDict)\n",
        "finalDict\n"
      ],
      "execution_count": 18,
      "outputs": [
        {
          "output_type": "execute_result",
          "data": {
            "text/plain": [
              "{1: 'wade-garner.com',\n",
              " 2: 'wilkins.com',\n",
              " 3: 'bryant.com',\n",
              " 4: 'oliver.com',\n",
              " 5: 'miller.biz',\n",
              " 6: 'grant.com',\n",
              " 7: 'carlson.com',\n",
              " 8: 'gonzales.com',\n",
              " 9: 'young.com',\n",
              " 10: 'hernandez.com',\n",
              " 11: 'walker.com',\n",
              " 12: 'taylor.com',\n",
              " 13: 'hill.com',\n",
              " 14: 'thomas.com',\n",
              " 15: 'martin.com',\n",
              " 19: 'martinez.com',\n",
              " 25: 'jones.com',\n",
              " 29: 'johnson.com',\n",
              " 37: 'williams.com',\n",
              " 42: 'smith.com',\n",
              " 1605: 'gmail.com',\n",
              " 1616: 'yahoo.com',\n",
              " 1638: 'hotmail.com'}"
            ]
          },
          "metadata": {},
          "execution_count": 18
        }
      ]
    }
  ]
}