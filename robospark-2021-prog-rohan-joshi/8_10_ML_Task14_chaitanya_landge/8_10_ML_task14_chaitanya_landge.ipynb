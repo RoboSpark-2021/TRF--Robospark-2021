{
  "nbformat": 4,
  "nbformat_minor": 0,
  "metadata": {
    "colab": {
      "name": "8_10_ML_task14_chaitanya_landge.ipynb",
      "provenance": []
    },
    "kernelspec": {
      "name": "python3",
      "display_name": "Python 3"
    },
    "language_info": {
      "name": "python"
    }
  },
  "cells": [
    {
      "cell_type": "code",
      "metadata": {
        "colab": {
          "base_uri": "https://localhost:8080/"
        },
        "id": "q-0NUvWO_zRt",
        "outputId": "21d042b2-45b1-456c-de10-d72ae99939c4"
      },
      "source": [
        "from google.colab import drive\n",
        "drive.mount('/content/drive')"
      ],
      "execution_count": null,
      "outputs": [
        {
          "output_type": "stream",
          "name": "stdout",
          "text": [
            "Mounted at /content/drive\n"
          ]
        }
      ]
    },
    {
      "cell_type": "code",
      "metadata": {
        "id": "O6nrh0jUAPDX"
      },
      "source": [
        "import pandas as pd       # dataframe operations \n",
        "import numpy as np"
      ],
      "execution_count": null,
      "outputs": []
    },
    {
      "cell_type": "code",
      "metadata": {
        "id": "OA1JqKm-Ah1Q"
      },
      "source": [
        "path = '/content/drive/MyDrive/dementia_data.csv'\n",
        "df = pd.read_csv(path)\n"
      ],
      "execution_count": null,
      "outputs": []
    },
    {
      "cell_type": "code",
      "metadata": {
        "id": "o7-vuWbTAtmZ"
      },
      "source": [
        "df"
      ],
      "execution_count": null,
      "outputs": []
    },
    {
      "cell_type": "code",
      "metadata": {
        "id": "m4jpweZ3A1y6"
      },
      "source": [
        "df_copy=df.copy()\n",
        "vis_copy=df.copy()"
      ],
      "execution_count": null,
      "outputs": []
    },
    {
      "cell_type": "code",
      "metadata": {
        "id": "BhQmu70vCdJs"
      },
      "source": [
        "df['Group']=np.where(df['Group']=='Demented',1,0)\n",
        "df['M/F']=np.where(df['M/F']=='M',1,0)\n",
        "df"
      ],
      "execution_count": null,
      "outputs": []
    },
    {
      "cell_type": "code",
      "metadata": {
        "id": "To32zi56aUI4"
      },
      "source": [
        ""
      ],
      "execution_count": null,
      "outputs": []
    },
    {
      "cell_type": "code",
      "metadata": {
        "colab": {
          "base_uri": "https://localhost:8080/",
          "height": 312
        },
        "id": "9IG3kxq4EUYj",
        "outputId": "6007485b-c5df-4aa9-cae2-9bd1a7a971bd"
      },
      "source": [
        "import matplotlib.pyplot as plt\n",
        "x=vis_copy['M/F'].unique()\n",
        "y=vis_copy['M/F'].value_counts(dropna=True).sort_index(ascending=True)\n",
        "plt.bar(x,y,color=['r','b'])\n",
        "\n",
        "plt.xlabel(\"Gender\")\n",
        "plt.ylabel(\"Count\")\n",
        "plt.title(\"Count of males and females\")\n"
      ],
      "execution_count": null,
      "outputs": [
        {
          "output_type": "execute_result",
          "data": {
            "text/plain": [
              "Text(0.5, 1.0, 'Count of males and females')"
            ]
          },
          "metadata": {},
          "execution_count": 10
        },
        {
          "output_type": "display_data",
          "data": {
            "image/png": "[encoded data removed]",
            "text/plain": [
              "<Figure size 432x288 with 1 Axes>"
            ]
          },
          "metadata": {
            "needs_background": "light"
          }
        }
      ]
    }
  ]
}